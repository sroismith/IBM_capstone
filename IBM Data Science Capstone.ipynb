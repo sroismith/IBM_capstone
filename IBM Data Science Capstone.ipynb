{
 "cells": [
  {
   "cell_type": "markdown",
   "metadata": {},
   "source": [
    "# IBM Data Science Professional Certification Capstone"
   ]
  },
  {
   "cell_type": "markdown",
   "metadata": {},
   "source": [
    "This notebook contains work towards satisfying the final requirements for this Coursera certification. It involves a location data analysis project which studies economic measures of Caribbean countries and prices of various commodities as acquired from the Foursquare API. I will attempt to establish whether there is a connection between these prices and two different measures of GDP.   \n",
    "\n",
    "Full details of the project including motivation, results, and conclusions are available in the report which should exist in this same GitHub repository."
   ]
  },
  {
   "cell_type": "code",
   "execution_count": 1,
   "metadata": {},
   "outputs": [],
   "source": [
    "#!pip install folium"
   ]
  },
  {
   "cell_type": "code",
   "execution_count": 2,
   "metadata": {},
   "outputs": [],
   "source": [
    "#!pip install ipympl"
   ]
  },
  {
   "cell_type": "code",
   "execution_count": 3,
   "metadata": {},
   "outputs": [],
   "source": [
    "import pandas as pd\n",
    "import numpy as np\n",
    "import requests as rq\n",
    "import re\n",
    "import io\n",
    "import lxml\n",
    "import folium\n",
    "import matplotlib.pyplot as plt\n",
    "import sklearn\n",
    "from bs4 import BeautifulSoup\n",
    "from mpl_toolkits.mplot3d import Axes3D\n",
    "from pandas.io.json import json_normalize\n",
    "from datetime import date\n",
    "%matplotlib inline"
   ]
  },
  {
   "cell_type": "markdown",
   "metadata": {},
   "source": [
    "## Data Acquisition and Preparation"
   ]
  },
  {
   "cell_type": "markdown",
   "metadata": {},
   "source": [
    "There are three main components to the data we will need for the analysis: \n",
    "1) Capital city coorinates  \n",
    "2) Country GDP data  \n",
    "3) Foursuare location data for each capital city  \n",
    "\n",
    "The capital city coordinates and the GDP data are available from lmnixon.org and wikipedia.org respectively. The data tables will be harvested from the web and parsed using the BeautifulSoup package. These data will then be cleaned and made uniform. Finally, the coordinates and GDP data will be merged for each country.  \n",
    "  \n",
    "The Foursquare location data will be obtained using the Foursquare API, which requires the coordinates of each location to be queried. Averages will be taken for price ratings of different commodities for each capital, and the price data will be combined with the coordinate and GDP data.\n",
    "\n"
   ]
  },
  {
   "cell_type": "markdown",
   "metadata": {},
   "source": [
    "### Import world capital coodrinates"
   ]
  },
  {
   "cell_type": "markdown",
   "metadata": {},
   "source": [
    "The coordinates data is sourced from the website in the URL before. I use the BeautifulSoup package to pars the scraped data into human-readable text, to be formatted."
   ]
  },
  {
   "cell_type": "code",
   "execution_count": 4,
   "metadata": {},
   "outputs": [],
   "source": [
    "coord_url = \"https://lab.lmnixon.org/4th/worldcapitals.html\"\n",
    "text_data = rq.get(coord_url).text\n",
    "soup = BeautifulSoup(text_data,\"html.parser\")\n",
    "#print(soup.prettify())"
   ]
  },
  {
   "cell_type": "markdown",
   "metadata": {},
   "source": [
    "I isolate any tables from the scraped text data. I know that the data is in the first (only) table on that page, so I select the first element of the data (otherwise I would have to index a nested object every time, since soup.find_all() returned a list of one element."
   ]
  },
  {
   "cell_type": "code",
   "execution_count": 5,
   "metadata": {},
   "outputs": [
    {
     "name": "stdout",
     "output_type": "stream",
     "text": [
      "1 tables found\n"
     ]
    }
   ],
   "source": [
    "text = soup.find_all(\"table\")\n",
    "print(\"{} tables found\".format(len(text)))\n",
    "table = text[0]"
   ]
  },
  {
   "cell_type": "markdown",
   "metadata": {},
   "source": [
    "Next I want to use my knowledge of the parsed html data structure to identify data rows. The first row is the head, which I want to process into headings, but this table had unusual header formatting so I input the headings manually."
   ]
  },
  {
   "cell_type": "code",
   "execution_count": 6,
   "metadata": {},
   "outputs": [],
   "source": [
    "body = table.find_all(\"tr\")\n",
    "head = body[0]\n",
    "body_rows = body[1:]\n",
    "\n",
    "headings = [\"Country\", \"Capital\", \"Latitude\", \"Longitude\"]\n",
    "#for item in head.find_all(\"th\"):\n",
    "#    item = (item.text).rstrip(\"\\n\")\n",
    "#    headings.append(item)\n",
    "#print(headings)"
   ]
  },
  {
   "cell_type": "markdown",
   "metadata": {},
   "source": [
    "Check that the rows seem to contain the right information..."
   ]
  },
  {
   "cell_type": "code",
   "execution_count": 7,
   "metadata": {},
   "outputs": [
    {
     "data": {
      "text/plain": [
       "<tr>\n",
       "<td>Afghanistan</td>\n",
       "<td>Kabul</td>\n",
       "<td>34.28N</td>\n",
       "<td>69.11E</td>\n",
       "</tr>"
      ]
     },
     "execution_count": 7,
     "metadata": {},
     "output_type": "execute_result"
    }
   ],
   "source": [
    "body_rows[0]"
   ]
  },
  {
   "cell_type": "markdown",
   "metadata": {},
   "source": [
    "..and do some cleaning to remove the web formatting elements. After that, take a look at a few of the cleaned data entries."
   ]
  },
  {
   "cell_type": "code",
   "execution_count": 8,
   "metadata": {},
   "outputs": [],
   "source": [
    "all_rows = []\n",
    "\n",
    "for row_num in range (len(body_rows)):\n",
    "    row = []\n",
    "    for row_item in body_rows[row_num].find_all(\"td\"):\n",
    "        datum = re.sub(\"(\\xa0)|(\\n),\",\"\",row_item.text)\n",
    "        datum = re.sub(\"\\n\",\"\",datum)\n",
    "        row.append(datum)\n",
    "    all_rows.append(row)"
   ]
  },
  {
   "cell_type": "code",
   "execution_count": 9,
   "metadata": {},
   "outputs": [
    {
     "data": {
      "text/plain": [
       "[['Afghanistan', 'Kabul', '34.28N', '69.11E'],\n",
       " ['Albania', 'Tirane', '41.18N', '19.49E'],\n",
       " ['Algeria', 'Algiers', '36.42N', '03.08E'],\n",
       " ['American Samoa', 'Pago Pago', '14.16S', '170.43W'],\n",
       " ['Andorra', 'Andorra la Vella', '42.31N', '01.32E']]"
      ]
     },
     "execution_count": 9,
     "metadata": {},
     "output_type": "execute_result"
    }
   ],
   "source": [
    "all_rows[0:5]"
   ]
  },
  {
   "cell_type": "markdown",
   "metadata": {},
   "source": [
    "Looks good, so I convert it all to a dataframe using pandas. I'll look at the top and bottom of the dataframe to check them for any extraneous elements."
   ]
  },
  {
   "cell_type": "code",
   "execution_count": 10,
   "metadata": {},
   "outputs": [
    {
     "data": {
      "text/html": [
       "<div>\n",
       "<style scoped>\n",
       "    .dataframe tbody tr th:only-of-type {\n",
       "        vertical-align: middle;\n",
       "    }\n",
       "\n",
       "    .dataframe tbody tr th {\n",
       "        vertical-align: top;\n",
       "    }\n",
       "\n",
       "    .dataframe thead th {\n",
       "        text-align: right;\n",
       "    }\n",
       "</style>\n",
       "<table border=\"1\" class=\"dataframe\">\n",
       "  <thead>\n",
       "    <tr style=\"text-align: right;\">\n",
       "      <th></th>\n",
       "      <th>Country</th>\n",
       "      <th>Capital</th>\n",
       "      <th>Latitude</th>\n",
       "      <th>Longitude</th>\n",
       "    </tr>\n",
       "  </thead>\n",
       "  <tbody>\n",
       "    <tr>\n",
       "      <th>0</th>\n",
       "      <td>Afghanistan</td>\n",
       "      <td>Kabul</td>\n",
       "      <td>34.28N</td>\n",
       "      <td>69.11E</td>\n",
       "    </tr>\n",
       "    <tr>\n",
       "      <th>1</th>\n",
       "      <td>Albania</td>\n",
       "      <td>Tirane</td>\n",
       "      <td>41.18N</td>\n",
       "      <td>19.49E</td>\n",
       "    </tr>\n",
       "    <tr>\n",
       "      <th>2</th>\n",
       "      <td>Algeria</td>\n",
       "      <td>Algiers</td>\n",
       "      <td>36.42N</td>\n",
       "      <td>03.08E</td>\n",
       "    </tr>\n",
       "    <tr>\n",
       "      <th>3</th>\n",
       "      <td>American Samoa</td>\n",
       "      <td>Pago Pago</td>\n",
       "      <td>14.16S</td>\n",
       "      <td>170.43W</td>\n",
       "    </tr>\n",
       "    <tr>\n",
       "      <th>4</th>\n",
       "      <td>Andorra</td>\n",
       "      <td>Andorra la Vella</td>\n",
       "      <td>42.31N</td>\n",
       "      <td>01.32E</td>\n",
       "    </tr>\n",
       "  </tbody>\n",
       "</table>\n",
       "</div>"
      ],
      "text/plain": [
       "          Country           Capital Latitude Longitude\n",
       "0     Afghanistan             Kabul   34.28N    69.11E\n",
       "1         Albania            Tirane   41.18N    19.49E\n",
       "2         Algeria           Algiers   36.42N    03.08E\n",
       "3  American Samoa         Pago Pago   14.16S   170.43W\n",
       "4         Andorra  Andorra la Vella   42.31N    01.32E"
      ]
     },
     "execution_count": 10,
     "metadata": {},
     "output_type": "execute_result"
    }
   ],
   "source": [
    "coord_frame = pd.DataFrame(data=all_rows, columns = headings)\n",
    "coord_frame.head()"
   ]
  },
  {
   "cell_type": "code",
   "execution_count": 11,
   "metadata": {},
   "outputs": [
    {
     "data": {
      "text/html": [
       "<div>\n",
       "<style scoped>\n",
       "    .dataframe tbody tr th:only-of-type {\n",
       "        vertical-align: middle;\n",
       "    }\n",
       "\n",
       "    .dataframe tbody tr th {\n",
       "        vertical-align: top;\n",
       "    }\n",
       "\n",
       "    .dataframe thead th {\n",
       "        text-align: right;\n",
       "    }\n",
       "</style>\n",
       "<table border=\"1\" class=\"dataframe\">\n",
       "  <thead>\n",
       "    <tr style=\"text-align: right;\">\n",
       "      <th></th>\n",
       "      <th>Country</th>\n",
       "      <th>Capital</th>\n",
       "      <th>Latitude</th>\n",
       "      <th>Longitude</th>\n",
       "    </tr>\n",
       "  </thead>\n",
       "  <tbody>\n",
       "    <tr>\n",
       "      <th>198</th>\n",
       "      <td>Zambia</td>\n",
       "      <td>Lusaka</td>\n",
       "      <td>15.28S</td>\n",
       "      <td>28.16E</td>\n",
       "    </tr>\n",
       "    <tr>\n",
       "      <th>199</th>\n",
       "      <td>Zimbabwe</td>\n",
       "      <td>Harare</td>\n",
       "      <td>17.43S</td>\n",
       "      <td>31.02E</td>\n",
       "    </tr>\n",
       "    <tr>\n",
       "      <th>200</th>\n",
       "      <td></td>\n",
       "      <td></td>\n",
       "      <td></td>\n",
       "      <td></td>\n",
       "    </tr>\n",
       "    <tr>\n",
       "      <th>201</th>\n",
       "      <td></td>\n",
       "      <td></td>\n",
       "      <td>:: to Fourth Grade page »</td>\n",
       "      <td>None</td>\n",
       "    </tr>\n",
       "    <tr>\n",
       "      <th>202</th>\n",
       "      <td></td>\n",
       "      <td></td>\n",
       "      <td>:: to Lab homepage »</td>\n",
       "      <td>None</td>\n",
       "    </tr>\n",
       "  </tbody>\n",
       "</table>\n",
       "</div>"
      ],
      "text/plain": [
       "      Country Capital                   Latitude Longitude\n",
       "198    Zambia  Lusaka                     15.28S    28.16E\n",
       "199  Zimbabwe  Harare                     17.43S    31.02E\n",
       "200                                                       \n",
       "201                    :: to Fourth Grade page »      None\n",
       "202                         :: to Lab homepage »      None"
      ]
     },
     "execution_count": 11,
     "metadata": {},
     "output_type": "execute_result"
    }
   ],
   "source": [
    "coord_frame.tail()"
   ]
  },
  {
   "cell_type": "markdown",
   "metadata": {},
   "source": [
    "Some extra text was caught up in the table formatting. Simply delete these rows."
   ]
  },
  {
   "cell_type": "code",
   "execution_count": 12,
   "metadata": {},
   "outputs": [],
   "source": [
    "coord_frame.drop([202,201,200], inplace=True)"
   ]
  },
  {
   "cell_type": "markdown",
   "metadata": {},
   "source": [
    "The latitude and longitude are recorded as strings, but later we will need integers. I will map West and South values to negative values while casting all values to floats."
   ]
  },
  {
   "cell_type": "code",
   "execution_count": 13,
   "metadata": {},
   "outputs": [],
   "source": [
    "Latitude = []\n",
    "for i in range(len(coord_frame[\"Latitude\"])):\n",
    "    lat = coord_frame[\"Latitude\"][i]\n",
    "    if \"N\" in lat:\n",
    "        lat=float(re.sub(\"N\",\"\",lat))\n",
    "        Latitude.append(lat)\n",
    "    elif \"S\" in lat:\n",
    "        lat=-1*float(re.sub(\"S\",\"\",lat))\n",
    "        Latitude.append(lat)\n",
    "        \n",
    "Longitude = []\n",
    "for i in range(len(coord_frame[\"Longitude\"])):\n",
    "    lon = coord_frame[\"Longitude\"][i]\n",
    "    if \"E\" in lon:\n",
    "        lon=float(re.sub(\"E\",\"\",lon))\n",
    "        Longitude.append(lon)\n",
    "    elif \"W\" in lon:\n",
    "        lon=-1*float(re.sub(\"W\",\"\",lon))\n",
    "        Longitude.append(lon)"
   ]
  },
  {
   "cell_type": "code",
   "execution_count": 14,
   "metadata": {},
   "outputs": [
    {
     "data": {
      "text/html": [
       "<div>\n",
       "<style scoped>\n",
       "    .dataframe tbody tr th:only-of-type {\n",
       "        vertical-align: middle;\n",
       "    }\n",
       "\n",
       "    .dataframe tbody tr th {\n",
       "        vertical-align: top;\n",
       "    }\n",
       "\n",
       "    .dataframe thead th {\n",
       "        text-align: right;\n",
       "    }\n",
       "</style>\n",
       "<table border=\"1\" class=\"dataframe\">\n",
       "  <thead>\n",
       "    <tr style=\"text-align: right;\">\n",
       "      <th></th>\n",
       "      <th>Country</th>\n",
       "      <th>Capital</th>\n",
       "      <th>Latitude</th>\n",
       "      <th>Longitude</th>\n",
       "    </tr>\n",
       "  </thead>\n",
       "  <tbody>\n",
       "    <tr>\n",
       "      <th>0</th>\n",
       "      <td>Afghanistan</td>\n",
       "      <td>Kabul</td>\n",
       "      <td>34.28</td>\n",
       "      <td>69.11</td>\n",
       "    </tr>\n",
       "    <tr>\n",
       "      <th>1</th>\n",
       "      <td>Albania</td>\n",
       "      <td>Tirane</td>\n",
       "      <td>41.18</td>\n",
       "      <td>19.49</td>\n",
       "    </tr>\n",
       "    <tr>\n",
       "      <th>2</th>\n",
       "      <td>Algeria</td>\n",
       "      <td>Algiers</td>\n",
       "      <td>36.42</td>\n",
       "      <td>3.08</td>\n",
       "    </tr>\n",
       "    <tr>\n",
       "      <th>3</th>\n",
       "      <td>American Samoa</td>\n",
       "      <td>Pago Pago</td>\n",
       "      <td>-14.16</td>\n",
       "      <td>-170.43</td>\n",
       "    </tr>\n",
       "    <tr>\n",
       "      <th>4</th>\n",
       "      <td>Andorra</td>\n",
       "      <td>Andorra la Vella</td>\n",
       "      <td>42.31</td>\n",
       "      <td>1.32</td>\n",
       "    </tr>\n",
       "  </tbody>\n",
       "</table>\n",
       "</div>"
      ],
      "text/plain": [
       "          Country           Capital  Latitude  Longitude\n",
       "0     Afghanistan             Kabul     34.28      69.11\n",
       "1         Albania            Tirane     41.18      19.49\n",
       "2         Algeria           Algiers     36.42       3.08\n",
       "3  American Samoa         Pago Pago    -14.16    -170.43\n",
       "4         Andorra  Andorra la Vella     42.31       1.32"
      ]
     },
     "execution_count": 14,
     "metadata": {},
     "output_type": "execute_result"
    }
   ],
   "source": [
    "coord_frame[\"Latitude\"]=Latitude\n",
    "coord_frame[\"Longitude\"]=Longitude\n",
    "coord_frame.head()"
   ]
  },
  {
   "cell_type": "markdown",
   "metadata": {},
   "source": [
    "This now looks like data I can use. I'll leave it alone for now, until I'm ready to merge it with the GDP data. There are a lot of unnecessary columns, but those will go away when we consilidate the data."
   ]
  },
  {
   "cell_type": "markdown",
   "metadata": {},
   "source": [
    "## Import and process GDP Data"
   ]
  },
  {
   "cell_type": "markdown",
   "metadata": {},
   "source": [
    "Lists of Caribbean and Latin American countries with respective GDP are available from Wikipedia. Tables on different pages record the nominal and PPP values of GDP separately, so I will import them both."
   ]
  },
  {
   "cell_type": "code",
   "execution_count": 15,
   "metadata": {},
   "outputs": [],
   "source": [
    "nom_url = \"https://en.wikipedia.org/wiki/List_of_Latin_American_and_Caribbean_countries_by_GDP_(nominal)\"\n",
    "ppp_url = \"https://en.wikipedia.org/wiki/List_of_Latin_American_and_Caribbean_countries_by_GDP_(PPP)\""
   ]
  },
  {
   "cell_type": "markdown",
   "metadata": {},
   "source": [
    "It is convenient at this point to define a function that will import and parse tables from Wiipedia pages. For generality, I will make it flexible in web formatting and which table to select, but preset default values for both."
   ]
  },
  {
   "cell_type": "code",
   "execution_count": 16,
   "metadata": {},
   "outputs": [],
   "source": [
    "def nth_wiki_table(url, tb_format = \"lxml\", n = 1):\n",
    "    data = rq.get(url).text\n",
    "    soup = BeautifulSoup(data,tb_format)\n",
    "    table = soup.find_all(\"table\")[n-1]\n",
    "    body = table.find_all(\"tr\")\n",
    "    \n",
    "    \n",
    "    head = body[0]\n",
    "    body_rows = body[1:]\n",
    "\n",
    "    headings = []\n",
    "    for item in head.find_all(\"th\"):\n",
    "        item = (item.text).rstrip(\"\\n\")\n",
    "        headings.append(item)\n",
    "        \n",
    "    all_rows = []        \n",
    "    for row_num in range (len(body_rows)):\n",
    "        row = []\n",
    "        for row_item in body_rows[row_num].find_all(\"td\"):\n",
    "            datum = re.sub(\"(\\xa0)|(\\n),\",\"\",row_item.text)\n",
    "            datum = re.sub(\"\\n\",\"\",datum)\n",
    "            row.append(datum)\n",
    "        all_rows.append(row)\n",
    "    \n",
    "    frame = pd.DataFrame(data=all_rows, columns=headings)\n",
    "    \n",
    "    #print(headings)\n",
    "    return frame\n",
    "    #print(all_rows)"
   ]
  },
  {
   "cell_type": "code",
   "execution_count": 17,
   "metadata": {},
   "outputs": [],
   "source": [
    "nom_frame = nth_wiki_table(nom_url)\n",
    "ppp_frame = nth_wiki_table(ppp_url)"
   ]
  },
  {
   "cell_type": "code",
   "execution_count": 18,
   "metadata": {},
   "outputs": [
    {
     "data": {
      "text/html": [
       "<div>\n",
       "<style scoped>\n",
       "    .dataframe tbody tr th:only-of-type {\n",
       "        vertical-align: middle;\n",
       "    }\n",
       "\n",
       "    .dataframe tbody tr th {\n",
       "        vertical-align: top;\n",
       "    }\n",
       "\n",
       "    .dataframe thead th {\n",
       "        text-align: right;\n",
       "    }\n",
       "</style>\n",
       "<table border=\"1\" class=\"dataframe\">\n",
       "  <thead>\n",
       "    <tr style=\"text-align: right;\">\n",
       "      <th></th>\n",
       "      <th>Rank</th>\n",
       "      <th>Country</th>\n",
       "      <th>GDP (millions of US$)</th>\n",
       "      <th>GDP percapita (US$)</th>\n",
       "    </tr>\n",
       "  </thead>\n",
       "  <tbody>\n",
       "    <tr>\n",
       "      <th>0</th>\n",
       "      <td>1</td>\n",
       "      <td>Brazil</td>\n",
       "      <td>1,363,767</td>\n",
       "      <td>6,450</td>\n",
       "    </tr>\n",
       "    <tr>\n",
       "      <th>1</th>\n",
       "      <td>2</td>\n",
       "      <td>Mexico</td>\n",
       "      <td>1,040,372</td>\n",
       "      <td>8,069</td>\n",
       "    </tr>\n",
       "    <tr>\n",
       "      <th>2</th>\n",
       "      <td>3</td>\n",
       "      <td>Argentina</td>\n",
       "      <td>382,760</td>\n",
       "      <td>8,433</td>\n",
       "    </tr>\n",
       "    <tr>\n",
       "      <th>3</th>\n",
       "      <td>4</td>\n",
       "      <td>Colombia</td>\n",
       "      <td>264,933</td>\n",
       "      <td>5,207</td>\n",
       "    </tr>\n",
       "    <tr>\n",
       "      <th>4</th>\n",
       "      <td>5</td>\n",
       "      <td>Chile</td>\n",
       "      <td>245,414</td>\n",
       "      <td>12,612</td>\n",
       "    </tr>\n",
       "  </tbody>\n",
       "</table>\n",
       "</div>"
      ],
      "text/plain": [
       "  Rank    Country GDP (millions of US$) GDP percapita (US$)\n",
       "0    1     Brazil             1,363,767               6,450\n",
       "1    2     Mexico             1,040,372               8,069\n",
       "2    3  Argentina               382,760               8,433\n",
       "3    4   Colombia               264,933               5,207\n",
       "4    5      Chile               245,414              12,612"
      ]
     },
     "execution_count": 18,
     "metadata": {},
     "output_type": "execute_result"
    }
   ],
   "source": [
    "nom_frame.head()"
   ]
  },
  {
   "cell_type": "code",
   "execution_count": 19,
   "metadata": {},
   "outputs": [
    {
     "data": {
      "text/html": [
       "<div>\n",
       "<style scoped>\n",
       "    .dataframe tbody tr th:only-of-type {\n",
       "        vertical-align: middle;\n",
       "    }\n",
       "\n",
       "    .dataframe tbody tr th {\n",
       "        vertical-align: top;\n",
       "    }\n",
       "\n",
       "    .dataframe thead th {\n",
       "        text-align: right;\n",
       "    }\n",
       "</style>\n",
       "<table border=\"1\" class=\"dataframe\">\n",
       "  <thead>\n",
       "    <tr style=\"text-align: right;\">\n",
       "      <th></th>\n",
       "      <th>Rank</th>\n",
       "      <th>Country</th>\n",
       "      <th>GDP (PPP) in millions(Intl$)</th>\n",
       "      <th>GDP (PPP) per capita(Intl$)</th>\n",
       "    </tr>\n",
       "  </thead>\n",
       "  <tbody>\n",
       "    <tr>\n",
       "      <th>0</th>\n",
       "      <td>1</td>\n",
       "      <td>Brazil</td>\n",
       "      <td>3,524,064</td>\n",
       "      <td>16,727</td>\n",
       "    </tr>\n",
       "    <tr>\n",
       "      <th>1</th>\n",
       "      <td>2</td>\n",
       "      <td>Mexico</td>\n",
       "      <td>2,696,454</td>\n",
       "      <td>21,412</td>\n",
       "    </tr>\n",
       "    <tr>\n",
       "      <th>2</th>\n",
       "      <td>3</td>\n",
       "      <td>Argentina</td>\n",
       "      <td>922,951</td>\n",
       "      <td>20,482</td>\n",
       "    </tr>\n",
       "    <tr>\n",
       "      <th>3</th>\n",
       "      <td>4</td>\n",
       "      <td>Colombia</td>\n",
       "      <td>791,995</td>\n",
       "      <td>15,720</td>\n",
       "    </tr>\n",
       "    <tr>\n",
       "      <th>4</th>\n",
       "      <td>5</td>\n",
       "      <td>Chile</td>\n",
       "      <td>507,939</td>\n",
       "      <td>27,059</td>\n",
       "    </tr>\n",
       "  </tbody>\n",
       "</table>\n",
       "</div>"
      ],
      "text/plain": [
       "  Rank    Country GDP (PPP) in millions(Intl$) GDP (PPP) per capita(Intl$)\n",
       "0    1     Brazil                    3,524,064                      16,727\n",
       "1    2     Mexico                    2,696,454                      21,412\n",
       "2    3  Argentina                      922,951                      20,482\n",
       "3    4   Colombia                      791,995                      15,720\n",
       "4    5      Chile                      507,939                      27,059"
      ]
     },
     "execution_count": 19,
     "metadata": {},
     "output_type": "execute_result"
    }
   ],
   "source": [
    "ppp_frame.head()"
   ]
  },
  {
   "cell_type": "markdown",
   "metadata": {},
   "source": [
    "Before I combine them, I want to check that the tables have the same entries. I find that one table has one more entry than the other. I identify the extra entry. Since I don't need that country for this analysis (discussed elsewhere) I can remove it. (Spoiler: I don't have to remove it because the implicit join performed by merge() only keeps common values in the specified field.)"
   ]
  },
  {
   "cell_type": "code",
   "execution_count": 20,
   "metadata": {},
   "outputs": [
    {
     "name": "stdout",
     "output_type": "stream",
     "text": [
      "Nominal data has shape  (33, 4)  and PPP has shape  (34, 4)\n"
     ]
    }
   ],
   "source": [
    "print(\"Nominal data has shape \", nom_frame.shape,\n",
    "      \" and PPP has shape \", ppp_frame.shape)"
   ]
  },
  {
   "cell_type": "code",
   "execution_count": 21,
   "metadata": {},
   "outputs": [
    {
     "data": {
      "text/plain": [
       "{'Puerto Rico[2][3]'}"
      ]
     },
     "execution_count": 21,
     "metadata": {},
     "output_type": "execute_result"
    }
   ],
   "source": [
    "diff = set(ppp_frame[\"Country\"])-set(nom_frame[\"Country\"])\n",
    "diff"
   ]
  },
  {
   "cell_type": "code",
   "execution_count": 22,
   "metadata": {},
   "outputs": [],
   "source": [
    "ppp_frame = ppp_frame[ppp_frame[\"Country\"] != list(diff)[0]]\n"
   ]
  },
  {
   "cell_type": "code",
   "execution_count": 23,
   "metadata": {},
   "outputs": [
    {
     "name": "stdout",
     "output_type": "stream",
     "text": [
      "Nominal data has shape  (33, 4)  and PPP has shape  (33, 4)\n"
     ]
    }
   ],
   "source": [
    "print(\"Nominal data has shape \", nom_frame.shape,\n",
    "      \" and PPP has shape \", ppp_frame.shape)"
   ]
  },
  {
   "cell_type": "code",
   "execution_count": 24,
   "metadata": {},
   "outputs": [
    {
     "name": "stdout",
     "output_type": "stream",
     "text": [
      "set() set()\n"
     ]
    }
   ],
   "source": [
    "diff1 = set(ppp_frame[\"Country\"])-set(nom_frame[\"Country\"])\n",
    "diff2 = set(nom_frame[\"Country\"])-set(ppp_frame[\"Country\"])\n",
    "print(diff1,diff2)"
   ]
  },
  {
   "cell_type": "code",
   "execution_count": 25,
   "metadata": {},
   "outputs": [
    {
     "data": {
      "text/html": [
       "<div>\n",
       "<style scoped>\n",
       "    .dataframe tbody tr th:only-of-type {\n",
       "        vertical-align: middle;\n",
       "    }\n",
       "\n",
       "    .dataframe tbody tr th {\n",
       "        vertical-align: top;\n",
       "    }\n",
       "\n",
       "    .dataframe thead th {\n",
       "        text-align: right;\n",
       "    }\n",
       "</style>\n",
       "<table border=\"1\" class=\"dataframe\">\n",
       "  <thead>\n",
       "    <tr style=\"text-align: right;\">\n",
       "      <th></th>\n",
       "      <th>Rank_x</th>\n",
       "      <th>Country</th>\n",
       "      <th>GDP (millions of US$)</th>\n",
       "      <th>GDP percapita (US$)</th>\n",
       "      <th>Rank_y</th>\n",
       "      <th>GDP (PPP) in millions(Intl$)</th>\n",
       "      <th>GDP (PPP) per capita(Intl$)</th>\n",
       "    </tr>\n",
       "  </thead>\n",
       "  <tbody>\n",
       "    <tr>\n",
       "      <th>0</th>\n",
       "      <td>1</td>\n",
       "      <td>Brazil</td>\n",
       "      <td>1,363,767</td>\n",
       "      <td>6,450</td>\n",
       "      <td>1</td>\n",
       "      <td>3,524,064</td>\n",
       "      <td>16,727</td>\n",
       "    </tr>\n",
       "    <tr>\n",
       "      <th>1</th>\n",
       "      <td>2</td>\n",
       "      <td>Mexico</td>\n",
       "      <td>1,040,372</td>\n",
       "      <td>8,069</td>\n",
       "      <td>2</td>\n",
       "      <td>2,696,454</td>\n",
       "      <td>21,412</td>\n",
       "    </tr>\n",
       "    <tr>\n",
       "      <th>2</th>\n",
       "      <td>3</td>\n",
       "      <td>Argentina</td>\n",
       "      <td>382,760</td>\n",
       "      <td>8,433</td>\n",
       "      <td>3</td>\n",
       "      <td>922,951</td>\n",
       "      <td>20,482</td>\n",
       "    </tr>\n",
       "    <tr>\n",
       "      <th>3</th>\n",
       "      <td>4</td>\n",
       "      <td>Colombia</td>\n",
       "      <td>264,933</td>\n",
       "      <td>5,207</td>\n",
       "      <td>4</td>\n",
       "      <td>791,995</td>\n",
       "      <td>15,720</td>\n",
       "    </tr>\n",
       "    <tr>\n",
       "      <th>4</th>\n",
       "      <td>5</td>\n",
       "      <td>Chile</td>\n",
       "      <td>245,414</td>\n",
       "      <td>12,612</td>\n",
       "      <td>5</td>\n",
       "      <td>507,939</td>\n",
       "      <td>27,059</td>\n",
       "    </tr>\n",
       "  </tbody>\n",
       "</table>\n",
       "</div>"
      ],
      "text/plain": [
       "  Rank_x    Country GDP (millions of US$) GDP percapita (US$) Rank_y  \\\n",
       "0      1     Brazil             1,363,767               6,450      1   \n",
       "1      2     Mexico             1,040,372               8,069      2   \n",
       "2      3  Argentina               382,760               8,433      3   \n",
       "3      4   Colombia               264,933               5,207      4   \n",
       "4      5      Chile               245,414              12,612      5   \n",
       "\n",
       "  GDP (PPP) in millions(Intl$) GDP (PPP) per capita(Intl$)  \n",
       "0                    3,524,064                      16,727  \n",
       "1                    2,696,454                      21,412  \n",
       "2                      922,951                      20,482  \n",
       "3                      791,995                      15,720  \n",
       "4                      507,939                      27,059  "
      ]
     },
     "execution_count": 25,
     "metadata": {},
     "output_type": "execute_result"
    }
   ],
   "source": [
    "gdp_frame = nom_frame.merge(ppp_frame, on=\"Country\")\n",
    "gdp_frame.head()"
   ]
  },
  {
   "cell_type": "markdown",
   "metadata": {},
   "source": [
    "Not bad, but I don't need all of it. The rankings are not important, and the gross GDP (of both kinds) is not as useful as the per capita values. Remove the extra data, then sort the dataframe by country name. The index will be changed later and it is not importent to keep this index in order."
   ]
  },
  {
   "cell_type": "code",
   "execution_count": 26,
   "metadata": {},
   "outputs": [
    {
     "data": {
      "text/plain": [
       "Index(['Rank_x', 'Country', 'GDP (millions of US$)', 'GDP percapita (US$)',\n",
       "       'Rank_y', 'GDP (PPP) in millions(Intl$)',\n",
       "       'GDP (PPP) per capita(Intl$)'],\n",
       "      dtype='object')"
      ]
     },
     "execution_count": 26,
     "metadata": {},
     "output_type": "execute_result"
    }
   ],
   "source": [
    "gdp_frame.columns"
   ]
  },
  {
   "cell_type": "code",
   "execution_count": 27,
   "metadata": {},
   "outputs": [
    {
     "data": {
      "text/html": [
       "<div>\n",
       "<style scoped>\n",
       "    .dataframe tbody tr th:only-of-type {\n",
       "        vertical-align: middle;\n",
       "    }\n",
       "\n",
       "    .dataframe tbody tr th {\n",
       "        vertical-align: top;\n",
       "    }\n",
       "\n",
       "    .dataframe thead th {\n",
       "        text-align: right;\n",
       "    }\n",
       "</style>\n",
       "<table border=\"1\" class=\"dataframe\">\n",
       "  <thead>\n",
       "    <tr style=\"text-align: right;\">\n",
       "      <th></th>\n",
       "      <th>Country</th>\n",
       "      <th>GDP percapita (US$)</th>\n",
       "      <th>GDP (PPP) per capita(Intl$)</th>\n",
       "    </tr>\n",
       "  </thead>\n",
       "  <tbody>\n",
       "    <tr>\n",
       "      <th>0</th>\n",
       "      <td>Brazil</td>\n",
       "      <td>6,450</td>\n",
       "      <td>16,727</td>\n",
       "    </tr>\n",
       "    <tr>\n",
       "      <th>1</th>\n",
       "      <td>Mexico</td>\n",
       "      <td>8,069</td>\n",
       "      <td>21,412</td>\n",
       "    </tr>\n",
       "    <tr>\n",
       "      <th>2</th>\n",
       "      <td>Argentina</td>\n",
       "      <td>8,433</td>\n",
       "      <td>20,482</td>\n",
       "    </tr>\n",
       "    <tr>\n",
       "      <th>3</th>\n",
       "      <td>Colombia</td>\n",
       "      <td>5,207</td>\n",
       "      <td>15,720</td>\n",
       "    </tr>\n",
       "    <tr>\n",
       "      <th>4</th>\n",
       "      <td>Chile</td>\n",
       "      <td>12,612</td>\n",
       "      <td>27,059</td>\n",
       "    </tr>\n",
       "  </tbody>\n",
       "</table>\n",
       "</div>"
      ],
      "text/plain": [
       "     Country GDP percapita (US$) GDP (PPP) per capita(Intl$)\n",
       "0     Brazil               6,450                      16,727\n",
       "1     Mexico               8,069                      21,412\n",
       "2  Argentina               8,433                      20,482\n",
       "3   Colombia               5,207                      15,720\n",
       "4      Chile              12,612                      27,059"
      ]
     },
     "execution_count": 27,
     "metadata": {},
     "output_type": "execute_result"
    }
   ],
   "source": [
    "labels = [gdp_frame.columns[0], gdp_frame.columns[2], gdp_frame.columns[4],\n",
    "          gdp_frame.columns[5]]\n",
    "gdp_frame.drop(columns=labels,inplace=True)\n",
    "gdp_frame = gdp_frame[gdp_frame[\"Country\"]!=\"Total\"]\n",
    "gdp_frame.head()"
   ]
  },
  {
   "cell_type": "code",
   "execution_count": 28,
   "metadata": {},
   "outputs": [
    {
     "data": {
      "text/html": [
       "<div>\n",
       "<style scoped>\n",
       "    .dataframe tbody tr th:only-of-type {\n",
       "        vertical-align: middle;\n",
       "    }\n",
       "\n",
       "    .dataframe tbody tr th {\n",
       "        vertical-align: top;\n",
       "    }\n",
       "\n",
       "    .dataframe thead th {\n",
       "        text-align: right;\n",
       "    }\n",
       "</style>\n",
       "<table border=\"1\" class=\"dataframe\">\n",
       "  <thead>\n",
       "    <tr style=\"text-align: right;\">\n",
       "      <th></th>\n",
       "      <th>Country</th>\n",
       "      <th>GDP percapita (US$)</th>\n",
       "      <th>GDP (PPP) per capita(Intl$)</th>\n",
       "    </tr>\n",
       "  </thead>\n",
       "  <tbody>\n",
       "    <tr>\n",
       "      <th>27</th>\n",
       "      <td>Antigua and Barbuda</td>\n",
       "      <td>14,159</td>\n",
       "      <td>27,542</td>\n",
       "    </tr>\n",
       "    <tr>\n",
       "      <th>2</th>\n",
       "      <td>Argentina</td>\n",
       "      <td>8,433</td>\n",
       "      <td>20,482</td>\n",
       "    </tr>\n",
       "    <tr>\n",
       "      <th>23</th>\n",
       "      <td>Barbados</td>\n",
       "      <td>16,082</td>\n",
       "      <td>18,866</td>\n",
       "    </tr>\n",
       "    <tr>\n",
       "      <th>26</th>\n",
       "      <td>Belize</td>\n",
       "      <td>3,734</td>\n",
       "      <td>8,467</td>\n",
       "    </tr>\n",
       "    <tr>\n",
       "      <th>13</th>\n",
       "      <td>Bolivia</td>\n",
       "      <td>3,322</td>\n",
       "      <td>8,320</td>\n",
       "    </tr>\n",
       "  </tbody>\n",
       "</table>\n",
       "</div>"
      ],
      "text/plain": [
       "                Country GDP percapita (US$) GDP (PPP) per capita(Intl$)\n",
       "27  Antigua and Barbuda              14,159                      27,542\n",
       "2             Argentina               8,433                      20,482\n",
       "23             Barbados              16,082                      18,866\n",
       "26               Belize               3,734                       8,467\n",
       "13              Bolivia               3,322                       8,320"
      ]
     },
     "execution_count": 28,
     "metadata": {},
     "output_type": "execute_result"
    }
   ],
   "source": [
    "gdp_frame.sort_values(by=\"Country\",inplace=True)\n",
    "gdp_frame.head()"
   ]
  },
  {
   "cell_type": "markdown",
   "metadata": {},
   "source": [
    "Don't forget to make sure our numbers are stored as numbers. The aren't, so I remove the comma and cast to integers. Another useful function is defined. I take the opportunity to change the column titles.   \n",
    "\n",
    "Note: We lose the units of the GDP columns. We'll eventually normalize the data anyway, so as long as each column is self-consistent, the unit's don't matter."
   ]
  },
  {
   "cell_type": "code",
   "execution_count": 29,
   "metadata": {},
   "outputs": [
    {
     "data": {
      "text/plain": [
       "Country                        object\n",
       "GDP percapita (US$)            object\n",
       "GDP (PPP) per capita(Intl$)    object\n",
       "dtype: object"
      ]
     },
     "execution_count": 29,
     "metadata": {},
     "output_type": "execute_result"
    }
   ],
   "source": [
    "gdp_frame.dtypes"
   ]
  },
  {
   "cell_type": "code",
   "execution_count": 30,
   "metadata": {},
   "outputs": [],
   "source": [
    "def str_to_int(frame, column, new_col_name):\n",
    "    new_col=[]\n",
    "    for string in gdp_frame[column]:\n",
    "        integer = int(re.sub(\",\",\"\",string))\n",
    "        new_col.append(integer)\n",
    "    frame[new_col_name] = new_col\n",
    "    frame.drop(columns=column, inplace=True)\n",
    "    return frame\n",
    "        "
   ]
  },
  {
   "cell_type": "code",
   "execution_count": 31,
   "metadata": {},
   "outputs": [
    {
     "name": "stdout",
     "output_type": "stream",
     "text": [
      "Done!\n"
     ]
    }
   ],
   "source": [
    "str_to_int(gdp_frame, \"GDP (PPP) per capita(Intl$)\", \"GDP (PPP) per capita\")\n",
    "print(\"Done!\")"
   ]
  },
  {
   "cell_type": "code",
   "execution_count": 32,
   "metadata": {},
   "outputs": [
    {
     "name": "stdout",
     "output_type": "stream",
     "text": [
      "Done!\n"
     ]
    }
   ],
   "source": [
    "str_to_int(gdp_frame, \"GDP percapita (US$)\", \"GDP (nominal) per capita\")\n",
    "print(\"Done!\")"
   ]
  },
  {
   "cell_type": "code",
   "execution_count": 33,
   "metadata": {},
   "outputs": [
    {
     "data": {
      "text/html": [
       "<div>\n",
       "<style scoped>\n",
       "    .dataframe tbody tr th:only-of-type {\n",
       "        vertical-align: middle;\n",
       "    }\n",
       "\n",
       "    .dataframe tbody tr th {\n",
       "        vertical-align: top;\n",
       "    }\n",
       "\n",
       "    .dataframe thead th {\n",
       "        text-align: right;\n",
       "    }\n",
       "</style>\n",
       "<table border=\"1\" class=\"dataframe\">\n",
       "  <thead>\n",
       "    <tr style=\"text-align: right;\">\n",
       "      <th></th>\n",
       "      <th>Country</th>\n",
       "      <th>GDP (PPP) per capita</th>\n",
       "      <th>GDP (nominal) per capita</th>\n",
       "    </tr>\n",
       "  </thead>\n",
       "  <tbody>\n",
       "    <tr>\n",
       "      <th>27</th>\n",
       "      <td>Antigua and Barbuda</td>\n",
       "      <td>27542</td>\n",
       "      <td>14159</td>\n",
       "    </tr>\n",
       "    <tr>\n",
       "      <th>2</th>\n",
       "      <td>Argentina</td>\n",
       "      <td>20482</td>\n",
       "      <td>8433</td>\n",
       "    </tr>\n",
       "    <tr>\n",
       "      <th>23</th>\n",
       "      <td>Barbados</td>\n",
       "      <td>18866</td>\n",
       "      <td>16082</td>\n",
       "    </tr>\n",
       "    <tr>\n",
       "      <th>26</th>\n",
       "      <td>Belize</td>\n",
       "      <td>8467</td>\n",
       "      <td>3734</td>\n",
       "    </tr>\n",
       "    <tr>\n",
       "      <th>13</th>\n",
       "      <td>Bolivia</td>\n",
       "      <td>8320</td>\n",
       "      <td>3322</td>\n",
       "    </tr>\n",
       "  </tbody>\n",
       "</table>\n",
       "</div>"
      ],
      "text/plain": [
       "                Country  GDP (PPP) per capita  GDP (nominal) per capita\n",
       "27  Antigua and Barbuda                 27542                     14159\n",
       "2             Argentina                 20482                      8433\n",
       "23             Barbados                 18866                     16082\n",
       "26               Belize                  8467                      3734\n",
       "13              Bolivia                  8320                      3322"
      ]
     },
     "execution_count": 33,
     "metadata": {},
     "output_type": "execute_result"
    }
   ],
   "source": [
    "gdp_frame.head()"
   ]
  },
  {
   "cell_type": "markdown",
   "metadata": {},
   "source": [
    "This is a usable format."
   ]
  },
  {
   "cell_type": "markdown",
   "metadata": {},
   "source": [
    "## Combine GDP and coordinates, Isolate Caribbean Countries"
   ]
  },
  {
   "cell_type": "markdown",
   "metadata": {},
   "source": [
    "When we combine the two dataframes, only rows with the chosen value (country) in both frames will be kept. Before I merge them, I will check that the countries of interest are recorded in the same way in both dataframes.  \n",
    "\n",
    "I have chosen to use those Caribbean countries which are members of the regional body CARICOM. This gives an unambiguous definition of the places of interest we want to keep. After listing those countries, I check both dataframes and note anomalies. Since these are relatively small frames I can check manually. Computationally searching for misspellings is difficult and unneeded here."
   ]
  },
  {
   "cell_type": "code",
   "execution_count": 34,
   "metadata": {},
   "outputs": [],
   "source": [
    "caricom = [\"Antigua and Barbuda\", \"The Bahamas\", \"Barbados\", \"Belize\", \"Dominica\", \n",
    "           \"Grenada\", \"Guyana\", \"Haiti\", \"Jamaica\", \"Montserrat\", \n",
    "           \"Saint Kitts and Nevis\", \"Saint Lucia\", \"Saint Vincent and the Grenadines\",\n",
    "           \"Suriname\", \"Trinidad and Tobago\"]\n"
   ]
  },
  {
   "cell_type": "code",
   "execution_count": 35,
   "metadata": {},
   "outputs": [
    {
     "name": "stdout",
     "output_type": "stream",
     "text": [
      "27                 Antigua and Barbuda\n",
      "2                            Argentina\n",
      "23                            Barbados\n",
      "26                              Belize\n",
      "13                             Bolivia\n",
      "0                               Brazil\n",
      "4                                Chile\n",
      "3                             Colombia\n",
      "10                          Costa Rica\n",
      "31                            Dominica\n",
      "7                   Dominican Republic\n",
      "6                              Ecuador\n",
      "15                         El Salvador\n",
      "28                             Grenada\n",
      "8                            Guatemala\n",
      "22                              Guyana\n",
      "21                               Haiti\n",
      "16                            Honduras\n",
      "18                             Jamaica\n",
      "1                               Mexico\n",
      "19                           Nicaragua\n",
      "9                               Panama\n",
      "14                            Paraguay\n",
      "5                                 Peru\n",
      "29               Saint Kitts and Nevis\n",
      "25                         Saint Lucia\n",
      "30    Saint Vincent and the Grenadines\n",
      "24                            Suriname\n",
      "20                         The Bahamas\n",
      "17                 Trinidad and Tobago\n",
      "11                             Uruguay\n",
      "12                           Venezuela\n",
      "Name: Country, dtype: object\n"
     ]
    }
   ],
   "source": [
    "print(gdp_frame[\"Country\"])"
   ]
  },
  {
   "cell_type": "markdown",
   "metadata": {},
   "source": [
    "Notes:  \n",
    "\"The \" in Bahamas  \n",
    "No Montserrat  \n",
    "\"Saint\", not \"St.\" in all cases  "
   ]
  },
  {
   "cell_type": "code",
   "execution_count": 36,
   "metadata": {},
   "outputs": [
    {
     "name": "stdout",
     "output_type": "stream",
     "text": [
      "0                                            Afghanistan\n",
      "1                                                Albania\n",
      "2                                                Algeria\n",
      "3                                         American Samoa\n",
      "4                                                Andorra\n",
      "5                                                 Angola\n",
      "6                                    Antigua and Barbuda\n",
      "7                                              Argentina\n",
      "8                                                Armenia\n",
      "9                                                  Aruba\n",
      "10                                             Australia\n",
      "11                                               Austria\n",
      "12                                            Azerbaijan\n",
      "13                                               Bahamas\n",
      "14                                               Bahrain\n",
      "15                                            Bangladesh\n",
      "16                                              Barbados\n",
      "17                                               Belarus\n",
      "18                                               Belgium\n",
      "19                                                Belize\n",
      "20                                                 Benin\n",
      "21                                                Bhutan\n",
      "22                                               Bolivia\n",
      "23                                Bosnia and Herzegovina\n",
      "24                                              Botswana\n",
      "25                                                Brazil\n",
      "26                                British Virgin Islands\n",
      "27                                     Brunei Darussalam\n",
      "28                                              Bulgaria\n",
      "29                                          Burkina Faso\n",
      "30                                               Burundi\n",
      "31                                              Cambodia\n",
      "32                                              Cameroon\n",
      "33                                                Canada\n",
      "34                                            Cape Verde\n",
      "35                                        Cayman Islands\n",
      "36                              Central African Republic\n",
      "37                                                  Chad\n",
      "38                                                 Chile\n",
      "39                                                 China\n",
      "40                                              Colombia\n",
      "41                                                Comros\n",
      "42                                                 Congo\n",
      "43                                            Costa Rica\n",
      "44                                         Cote d'Ivoire\n",
      "45                                               Croatia\n",
      "46                                                  Cuba\n",
      "47                                                Cyprus\n",
      "48                                        Czech Republic\n",
      "49                      Democratic Republic of the Congo\n",
      "50                                               Denmark\n",
      "51                                              Djibouti\n",
      "52                                              Dominica\n",
      "53                                     Dominica Republic\n",
      "54                                            East Timor\n",
      "55                                               Ecuador\n",
      "56                                                 Egypt\n",
      "57                                           El Salvador\n",
      "58                                     Equatorial Guinea\n",
      "59                                               Eritrea\n",
      "60                                               Estonia\n",
      "61                                              Ethiopia\n",
      "62                           Falkland Islands (Malvinas)\n",
      "63                                         Faroe Islands\n",
      "64                                                  Fiji\n",
      "65                                               Finland\n",
      "66                                                France\n",
      "67                                         French Guiana\n",
      "68                                      French Polynesia\n",
      "69                                                 Gabon\n",
      "70                                                Gambia\n",
      "71                                               Georgia\n",
      "72                                               Germany\n",
      "73                                                 Ghana\n",
      "74                                                Greece\n",
      "75                                             Greenland\n",
      "76                                            Guadeloupe\n",
      "77                                             Guatemala\n",
      "78                                              Guernsey\n",
      "79                                                Guinea\n",
      "80                                         Guinea-Bissau\n",
      "81                                                Guyana\n",
      "82                                                 Haiti\n",
      "83                     Heard Island and McDonald Islands\n",
      "84                                              Honduras\n",
      "85                                               Hungary\n",
      "86                                               Iceland\n",
      "87                                                 India\n",
      "88                                             Indonesia\n",
      "89                            Iran (Islamic Republic of)\n",
      "90                                                  Iraq\n",
      "91                                               Ireland\n",
      "92                                                Israel\n",
      "93                                                 Italy\n",
      "94                                               Jamaica\n",
      "95                                                Jordan\n",
      "96                                            Kazakhstan\n",
      "97                                                 Kenya\n",
      "98                                              Kiribati\n",
      "99                                                Kuwait\n",
      "100                                           Kyrgyzstan\n",
      "101                    Lao People's  Democratic Republic\n",
      "102                                               Latvia\n",
      "103                                              Lebanon\n",
      "104                                              Lesotho\n",
      "105                                              Liberia\n",
      "106                               Libyan Arab Jamahiriya\n",
      "107                                        Liechtenstein\n",
      "108                                            Lithuania\n",
      "109                                           Luxembourg\n",
      "110                                         Macao, China\n",
      "111                                           Madagascar\n",
      "112                 Macedonia (Former Yugoslav Republic)\n",
      "113                                               Malawi\n",
      "114                                             Malaysia\n",
      "115                                             Maldives\n",
      "116                                                 Mali\n",
      "117                                                Malta\n",
      "118                                           Martinique\n",
      "119                                           Mauritania\n",
      "120                                              Mayotte\n",
      "121                                               Mexico\n",
      "122                     Micronesia (Federated States of)\n",
      "123                                 Moldova, Republic of\n",
      "124                                           Mozambique\n",
      "125                                              Myanmar\n",
      "126                                              Namibia\n",
      "127                                                Nepal\n",
      "128                                          Netherlands\n",
      "129                                 Netherlands Antilles\n",
      "130                                        New Caledonia\n",
      "131                                          New Zealand\n",
      "132                                            Nicaragua\n",
      "133                                                Niger\n",
      "134                                              Nigeria\n",
      "135                                       Norfolk Island\n",
      "136                                          North Korea\n",
      "137                             Northern Mariana Islands\n",
      "138                                               Norway\n",
      "139                                                 Oman\n",
      "140                                             Pakistan\n",
      "141                                                Palau\n",
      "142                                               Panama\n",
      "143                                     Papua New Guinea\n",
      "144                                             Paraguay\n",
      "145                                                 Peru\n",
      "146                                          Philippines\n",
      "147                                               Poland\n",
      "148                                             Portugal\n",
      "149                                          Puerto Rico\n",
      "150                                                Qatar\n",
      "151                                   Republic of  Korea\n",
      "152                                              Romania\n",
      "153                                   Russian Federation\n",
      "154                                              Rawanda\n",
      "155                                Saint Kitts and Nevis\n",
      "156                                          Saint Lucia\n",
      "157                            Saint Pierre and Miquelon\n",
      "158                    Saint Vincent and the Greenadines\n",
      "159                                                Samoa\n",
      "160                                           San Marino\n",
      "161                                Sao Tome and Principe\n",
      "162                                         Saudi Arabia\n",
      "163                                              Senegal\n",
      "164                                         Sierra Leone\n",
      "165                                             Slovakia\n",
      "166                                             Slovenia\n",
      "167                                      Solomon Islands\n",
      "168                                              Somalia\n",
      "169                                         South Africa\n",
      "170                                                Spain\n",
      "171                                                Sudan\n",
      "172                                             Suriname\n",
      "173                                            Swaziland\n",
      "174                                               Sweden\n",
      "175                                          Switzerland\n",
      "176                                 Syrian Arab Republic\n",
      "177                                           Tajikistan\n",
      "178                                             Thailand\n",
      "179                                                 Togo\n",
      "180                                                Tonga\n",
      "181                                              Tunisia\n",
      "182                                               Turkey\n",
      "183                                         Turkmenistan\n",
      "184                                               Tuvalu\n",
      "185                                               Uganda\n",
      "186                                              Ukraine\n",
      "187                                 United Arab Emirates\n",
      "188    United Kingdom of Great Britain and Northern I...\n",
      "189                         United  Republic of Tanzania\n",
      "190                      United States        of America\n",
      "191               United States        of Virgin Islands\n",
      "192                                              Uruguay\n",
      "193                                           Uzbekistan\n",
      "194                                              Vanuatu\n",
      "195                                            Venezuela\n",
      "196                                             Viet Nam\n",
      "197                                           Yugoslavia\n",
      "198                                               Zambia\n",
      "199                                             Zimbabwe\n",
      "Name: Country, dtype: object\n"
     ]
    }
   ],
   "source": [
    "pd.options.display.max_rows=300\n",
    "print(coord_frame[\"Country\"])"
   ]
  },
  {
   "cell_type": "markdown",
   "metadata": {},
   "source": [
    "Notes:  \n",
    "\"Saint\", not \"St.\" in all cases  \n",
    "\"Greenadines\" misspelled  \n",
    "No \"The\" in Bahamas  \n",
    "No Grenada  \n",
    "No Montserrat  \n",
    "No Trinidad and Tobago  "
   ]
  },
  {
   "cell_type": "markdown",
   "metadata": {},
   "source": [
    "Rename countries as needed, then check that the changes were applied."
   ]
  },
  {
   "cell_type": "code",
   "execution_count": 37,
   "metadata": {},
   "outputs": [],
   "source": [
    "coord_frame.at[158,\"Country\"] = \"Saint Vincent and the Grenadines\"\n",
    "coord_frame.at[13, \"Country\"] = \"The Bahamas\""
   ]
  },
  {
   "cell_type": "code",
   "execution_count": 38,
   "metadata": {},
   "outputs": [
    {
     "data": {
      "text/plain": [
       "Country      Saint Vincent and the Grenadines\n",
       "Capital                             Kingstown\n",
       "Latitude                                 13.1\n",
       "Longitude                               -61.1\n",
       "Name: 158, dtype: object"
      ]
     },
     "execution_count": 38,
     "metadata": {},
     "output_type": "execute_result"
    }
   ],
   "source": [
    "coord_frame.loc[158]"
   ]
  },
  {
   "cell_type": "markdown",
   "metadata": {},
   "source": [
    "Two countries were missing from the coordinate data. It is a simple matter to look up the data from elsewhere and add new rows to that dataframe."
   ]
  },
  {
   "cell_type": "code",
   "execution_count": 39,
   "metadata": {},
   "outputs": [],
   "source": [
    "grenada = [\"Grenada\", \"Saint George's\", 12.05, -61.75]\n",
    "trinidad = [\"Trinidad and Tobago\", \"Port of Spain\", 10.67, -61.52]"
   ]
  },
  {
   "cell_type": "code",
   "execution_count": 40,
   "metadata": {},
   "outputs": [],
   "source": [
    "coord_frame.loc[len(coord_frame)] = grenada\n",
    "coord_frame.loc[len(coord_frame)] = trinidad"
   ]
  },
  {
   "cell_type": "code",
   "execution_count": 41,
   "metadata": {},
   "outputs": [
    {
     "data": {
      "text/html": [
       "<div>\n",
       "<style scoped>\n",
       "    .dataframe tbody tr th:only-of-type {\n",
       "        vertical-align: middle;\n",
       "    }\n",
       "\n",
       "    .dataframe tbody tr th {\n",
       "        vertical-align: top;\n",
       "    }\n",
       "\n",
       "    .dataframe thead th {\n",
       "        text-align: right;\n",
       "    }\n",
       "</style>\n",
       "<table border=\"1\" class=\"dataframe\">\n",
       "  <thead>\n",
       "    <tr style=\"text-align: right;\">\n",
       "      <th></th>\n",
       "      <th>Country</th>\n",
       "      <th>Capital</th>\n",
       "      <th>Latitude</th>\n",
       "      <th>Longitude</th>\n",
       "    </tr>\n",
       "  </thead>\n",
       "  <tbody>\n",
       "    <tr>\n",
       "      <th>197</th>\n",
       "      <td>Yugoslavia</td>\n",
       "      <td>Belgrade</td>\n",
       "      <td>44.50</td>\n",
       "      <td>20.37</td>\n",
       "    </tr>\n",
       "    <tr>\n",
       "      <th>198</th>\n",
       "      <td>Zambia</td>\n",
       "      <td>Lusaka</td>\n",
       "      <td>-15.28</td>\n",
       "      <td>28.16</td>\n",
       "    </tr>\n",
       "    <tr>\n",
       "      <th>199</th>\n",
       "      <td>Zimbabwe</td>\n",
       "      <td>Harare</td>\n",
       "      <td>-17.43</td>\n",
       "      <td>31.02</td>\n",
       "    </tr>\n",
       "    <tr>\n",
       "      <th>200</th>\n",
       "      <td>Grenada</td>\n",
       "      <td>Saint George's</td>\n",
       "      <td>12.05</td>\n",
       "      <td>-61.75</td>\n",
       "    </tr>\n",
       "    <tr>\n",
       "      <th>201</th>\n",
       "      <td>Trinidad and Tobago</td>\n",
       "      <td>Port of Spain</td>\n",
       "      <td>10.67</td>\n",
       "      <td>-61.52</td>\n",
       "    </tr>\n",
       "  </tbody>\n",
       "</table>\n",
       "</div>"
      ],
      "text/plain": [
       "                 Country         Capital  Latitude  Longitude\n",
       "197           Yugoslavia        Belgrade     44.50      20.37\n",
       "198               Zambia          Lusaka    -15.28      28.16\n",
       "199             Zimbabwe          Harare    -17.43      31.02\n",
       "200              Grenada  Saint George's     12.05     -61.75\n",
       "201  Trinidad and Tobago   Port of Spain     10.67     -61.52"
      ]
     },
     "execution_count": 41,
     "metadata": {},
     "output_type": "execute_result"
    }
   ],
   "source": [
    "coord_frame.tail()"
   ]
  },
  {
   "cell_type": "markdown",
   "metadata": {},
   "source": [
    "Finally, merge() the two frames. Only countries on both lists are kept. Then, pare down the data again by comparing against the CARICOM list defined above. Since we removed one location in a step above, it will not be in the final list. Finally, the country names will make a more sensible index than meaningless integers.\n",
    "\n",
    "(I noticed an error in one of the capital names, so I fixed that as well.)"
   ]
  },
  {
   "cell_type": "code",
   "execution_count": 42,
   "metadata": {},
   "outputs": [
    {
     "data": {
      "text/html": [
       "<div>\n",
       "<style scoped>\n",
       "    .dataframe tbody tr th:only-of-type {\n",
       "        vertical-align: middle;\n",
       "    }\n",
       "\n",
       "    .dataframe tbody tr th {\n",
       "        vertical-align: top;\n",
       "    }\n",
       "\n",
       "    .dataframe thead th {\n",
       "        text-align: right;\n",
       "    }\n",
       "</style>\n",
       "<table border=\"1\" class=\"dataframe\">\n",
       "  <thead>\n",
       "    <tr style=\"text-align: right;\">\n",
       "      <th></th>\n",
       "      <th>Country</th>\n",
       "      <th>GDP (PPP) per capita</th>\n",
       "      <th>GDP (nominal) per capita</th>\n",
       "      <th>Capital</th>\n",
       "      <th>Latitude</th>\n",
       "      <th>Longitude</th>\n",
       "    </tr>\n",
       "  </thead>\n",
       "  <tbody>\n",
       "    <tr>\n",
       "      <th>0</th>\n",
       "      <td>Antigua and Barbuda</td>\n",
       "      <td>27542</td>\n",
       "      <td>14159</td>\n",
       "      <td>West Indies</td>\n",
       "      <td>17.20</td>\n",
       "      <td>-61.48</td>\n",
       "    </tr>\n",
       "    <tr>\n",
       "      <th>1</th>\n",
       "      <td>Argentina</td>\n",
       "      <td>20482</td>\n",
       "      <td>8433</td>\n",
       "      <td>Buenos Aires</td>\n",
       "      <td>-36.30</td>\n",
       "      <td>-60.00</td>\n",
       "    </tr>\n",
       "    <tr>\n",
       "      <th>2</th>\n",
       "      <td>Barbados</td>\n",
       "      <td>18866</td>\n",
       "      <td>16082</td>\n",
       "      <td>Bridgetown</td>\n",
       "      <td>13.05</td>\n",
       "      <td>-59.30</td>\n",
       "    </tr>\n",
       "    <tr>\n",
       "      <th>3</th>\n",
       "      <td>Belize</td>\n",
       "      <td>8467</td>\n",
       "      <td>3734</td>\n",
       "      <td>Belmopan</td>\n",
       "      <td>17.18</td>\n",
       "      <td>-88.30</td>\n",
       "    </tr>\n",
       "    <tr>\n",
       "      <th>4</th>\n",
       "      <td>Bolivia</td>\n",
       "      <td>8320</td>\n",
       "      <td>3322</td>\n",
       "      <td>La Paz (administrative) / Sucre (legislative)</td>\n",
       "      <td>-16.20</td>\n",
       "      <td>-68.10</td>\n",
       "    </tr>\n",
       "    <tr>\n",
       "      <th>5</th>\n",
       "      <td>Brazil</td>\n",
       "      <td>16727</td>\n",
       "      <td>6450</td>\n",
       "      <td>Brasilia</td>\n",
       "      <td>-15.47</td>\n",
       "      <td>-47.55</td>\n",
       "    </tr>\n",
       "    <tr>\n",
       "      <th>6</th>\n",
       "      <td>Chile</td>\n",
       "      <td>27059</td>\n",
       "      <td>12612</td>\n",
       "      <td>Santiago</td>\n",
       "      <td>-33.24</td>\n",
       "      <td>-70.40</td>\n",
       "    </tr>\n",
       "    <tr>\n",
       "      <th>7</th>\n",
       "      <td>Colombia</td>\n",
       "      <td>15720</td>\n",
       "      <td>5207</td>\n",
       "      <td>Bogota</td>\n",
       "      <td>4.34</td>\n",
       "      <td>-74.00</td>\n",
       "    </tr>\n",
       "    <tr>\n",
       "      <th>8</th>\n",
       "      <td>Costa Rica</td>\n",
       "      <td>18394</td>\n",
       "      <td>11629</td>\n",
       "      <td>San Jose</td>\n",
       "      <td>9.55</td>\n",
       "      <td>-84.02</td>\n",
       "    </tr>\n",
       "    <tr>\n",
       "      <th>9</th>\n",
       "      <td>Dominica</td>\n",
       "      <td>9726</td>\n",
       "      <td>7709</td>\n",
       "      <td>Roseau</td>\n",
       "      <td>15.20</td>\n",
       "      <td>-61.24</td>\n",
       "    </tr>\n",
       "    <tr>\n",
       "      <th>10</th>\n",
       "      <td>Ecuador</td>\n",
       "      <td>12215</td>\n",
       "      <td>5316</td>\n",
       "      <td>Quito</td>\n",
       "      <td>-0.15</td>\n",
       "      <td>-78.35</td>\n",
       "    </tr>\n",
       "    <tr>\n",
       "      <th>11</th>\n",
       "      <td>El Salvador</td>\n",
       "      <td>8724</td>\n",
       "      <td>3821</td>\n",
       "      <td>San Salvador</td>\n",
       "      <td>13.40</td>\n",
       "      <td>-89.10</td>\n",
       "    </tr>\n",
       "    <tr>\n",
       "      <th>12</th>\n",
       "      <td>Grenada</td>\n",
       "      <td>16033</td>\n",
       "      <td>9824</td>\n",
       "      <td>Saint George's</td>\n",
       "      <td>12.05</td>\n",
       "      <td>-61.75</td>\n",
       "    </tr>\n",
       "    <tr>\n",
       "      <th>13</th>\n",
       "      <td>Guatemala</td>\n",
       "      <td>8711</td>\n",
       "      <td>4240</td>\n",
       "      <td>Guatemala</td>\n",
       "      <td>14.40</td>\n",
       "      <td>-90.22</td>\n",
       "    </tr>\n",
       "    <tr>\n",
       "      <th>14</th>\n",
       "      <td>Guyana</td>\n",
       "      <td>8524</td>\n",
       "      <td>8649</td>\n",
       "      <td>Georgetown</td>\n",
       "      <td>6.50</td>\n",
       "      <td>-58.12</td>\n",
       "    </tr>\n",
       "    <tr>\n",
       "      <th>15</th>\n",
       "      <td>Haiti</td>\n",
       "      <td>1940</td>\n",
       "      <td>732</td>\n",
       "      <td>Port-au-Prince</td>\n",
       "      <td>18.40</td>\n",
       "      <td>-72.20</td>\n",
       "    </tr>\n",
       "    <tr>\n",
       "      <th>16</th>\n",
       "      <td>Honduras</td>\n",
       "      <td>6068</td>\n",
       "      <td>2412</td>\n",
       "      <td>Tegucigalpa</td>\n",
       "      <td>14.05</td>\n",
       "      <td>-87.14</td>\n",
       "    </tr>\n",
       "    <tr>\n",
       "      <th>17</th>\n",
       "      <td>Jamaica</td>\n",
       "      <td>9726</td>\n",
       "      <td>5221</td>\n",
       "      <td>Kingston</td>\n",
       "      <td>18.00</td>\n",
       "      <td>-76.50</td>\n",
       "    </tr>\n",
       "    <tr>\n",
       "      <th>18</th>\n",
       "      <td>Mexico</td>\n",
       "      <td>21412</td>\n",
       "      <td>8069</td>\n",
       "      <td>Mexico</td>\n",
       "      <td>19.20</td>\n",
       "      <td>-99.10</td>\n",
       "    </tr>\n",
       "    <tr>\n",
       "      <th>19</th>\n",
       "      <td>Nicaragua</td>\n",
       "      <td>5681</td>\n",
       "      <td>1832</td>\n",
       "      <td>Managua</td>\n",
       "      <td>12.06</td>\n",
       "      <td>-86.20</td>\n",
       "    </tr>\n",
       "    <tr>\n",
       "      <th>20</th>\n",
       "      <td>Panama</td>\n",
       "      <td>28810</td>\n",
       "      <td>14090</td>\n",
       "      <td>Panama</td>\n",
       "      <td>9.00</td>\n",
       "      <td>-79.25</td>\n",
       "    </tr>\n",
       "    <tr>\n",
       "      <th>21</th>\n",
       "      <td>Paraguay</td>\n",
       "      <td>14131</td>\n",
       "      <td>4909</td>\n",
       "      <td>Asuncion</td>\n",
       "      <td>-25.10</td>\n",
       "      <td>-57.30</td>\n",
       "    </tr>\n",
       "    <tr>\n",
       "      <th>22</th>\n",
       "      <td>Peru</td>\n",
       "      <td>14999</td>\n",
       "      <td>5845</td>\n",
       "      <td>Lima</td>\n",
       "      <td>-12.00</td>\n",
       "      <td>-77.00</td>\n",
       "    </tr>\n",
       "    <tr>\n",
       "      <th>23</th>\n",
       "      <td>Saint Kitts and Nevis</td>\n",
       "      <td>29098</td>\n",
       "      <td>15246</td>\n",
       "      <td>Basseterre</td>\n",
       "      <td>17.17</td>\n",
       "      <td>-62.43</td>\n",
       "    </tr>\n",
       "    <tr>\n",
       "      <th>24</th>\n",
       "      <td>Saint Lucia</td>\n",
       "      <td>15225</td>\n",
       "      <td>9780</td>\n",
       "      <td>Castries</td>\n",
       "      <td>14.02</td>\n",
       "      <td>-60.58</td>\n",
       "    </tr>\n",
       "    <tr>\n",
       "      <th>25</th>\n",
       "      <td>Saint Vincent and the Grenadines</td>\n",
       "      <td>11965</td>\n",
       "      <td>7033</td>\n",
       "      <td>Kingstown</td>\n",
       "      <td>13.10</td>\n",
       "      <td>-61.10</td>\n",
       "    </tr>\n",
       "    <tr>\n",
       "      <th>26</th>\n",
       "      <td>Suriname</td>\n",
       "      <td>15362</td>\n",
       "      <td>4199</td>\n",
       "      <td>Paramaribo</td>\n",
       "      <td>5.50</td>\n",
       "      <td>-55.10</td>\n",
       "    </tr>\n",
       "    <tr>\n",
       "      <th>27</th>\n",
       "      <td>The Bahamas</td>\n",
       "      <td>33516</td>\n",
       "      <td>30027</td>\n",
       "      <td>Nassau</td>\n",
       "      <td>25.05</td>\n",
       "      <td>-77.20</td>\n",
       "    </tr>\n",
       "    <tr>\n",
       "      <th>28</th>\n",
       "      <td>Trinidad and Tobago</td>\n",
       "      <td>33026</td>\n",
       "      <td>16197</td>\n",
       "      <td>Port of Spain</td>\n",
       "      <td>10.67</td>\n",
       "      <td>-61.52</td>\n",
       "    </tr>\n",
       "    <tr>\n",
       "      <th>29</th>\n",
       "      <td>Uruguay</td>\n",
       "      <td>24435</td>\n",
       "      <td>15332</td>\n",
       "      <td>Montevideo</td>\n",
       "      <td>-34.50</td>\n",
       "      <td>-56.11</td>\n",
       "    </tr>\n",
       "    <tr>\n",
       "      <th>30</th>\n",
       "      <td>Venezuela</td>\n",
       "      <td>11066</td>\n",
       "      <td>1739</td>\n",
       "      <td>Caracas</td>\n",
       "      <td>10.30</td>\n",
       "      <td>-66.55</td>\n",
       "    </tr>\n",
       "  </tbody>\n",
       "</table>\n",
       "</div>"
      ],
      "text/plain": [
       "                             Country  GDP (PPP) per capita  \\\n",
       "0                Antigua and Barbuda                 27542   \n",
       "1                          Argentina                 20482   \n",
       "2                           Barbados                 18866   \n",
       "3                             Belize                  8467   \n",
       "4                            Bolivia                  8320   \n",
       "5                             Brazil                 16727   \n",
       "6                              Chile                 27059   \n",
       "7                           Colombia                 15720   \n",
       "8                         Costa Rica                 18394   \n",
       "9                           Dominica                  9726   \n",
       "10                           Ecuador                 12215   \n",
       "11                       El Salvador                  8724   \n",
       "12                           Grenada                 16033   \n",
       "13                         Guatemala                  8711   \n",
       "14                            Guyana                  8524   \n",
       "15                             Haiti                  1940   \n",
       "16                          Honduras                  6068   \n",
       "17                           Jamaica                  9726   \n",
       "18                            Mexico                 21412   \n",
       "19                         Nicaragua                  5681   \n",
       "20                            Panama                 28810   \n",
       "21                          Paraguay                 14131   \n",
       "22                              Peru                 14999   \n",
       "23             Saint Kitts and Nevis                 29098   \n",
       "24                       Saint Lucia                 15225   \n",
       "25  Saint Vincent and the Grenadines                 11965   \n",
       "26                          Suriname                 15362   \n",
       "27                       The Bahamas                 33516   \n",
       "28               Trinidad and Tobago                 33026   \n",
       "29                           Uruguay                 24435   \n",
       "30                         Venezuela                 11066   \n",
       "\n",
       "    GDP (nominal) per capita                                        Capital  \\\n",
       "0                      14159                                    West Indies   \n",
       "1                       8433                                   Buenos Aires   \n",
       "2                      16082                                     Bridgetown   \n",
       "3                       3734                                       Belmopan   \n",
       "4                       3322  La Paz (administrative) / Sucre (legislative)   \n",
       "5                       6450                                       Brasilia   \n",
       "6                      12612                                       Santiago   \n",
       "7                       5207                                         Bogota   \n",
       "8                      11629                                       San Jose   \n",
       "9                       7709                                         Roseau   \n",
       "10                      5316                                          Quito   \n",
       "11                      3821                                   San Salvador   \n",
       "12                      9824                                 Saint George's   \n",
       "13                      4240                                      Guatemala   \n",
       "14                      8649                                     Georgetown   \n",
       "15                       732                                 Port-au-Prince   \n",
       "16                      2412                                    Tegucigalpa   \n",
       "17                      5221                                       Kingston   \n",
       "18                      8069                                         Mexico   \n",
       "19                      1832                                        Managua   \n",
       "20                     14090                                         Panama   \n",
       "21                      4909                                       Asuncion   \n",
       "22                      5845                                           Lima   \n",
       "23                     15246                                     Basseterre   \n",
       "24                      9780                                       Castries   \n",
       "25                      7033                                      Kingstown   \n",
       "26                      4199                                     Paramaribo   \n",
       "27                     30027                                         Nassau   \n",
       "28                     16197                                  Port of Spain   \n",
       "29                     15332                                     Montevideo   \n",
       "30                      1739                                        Caracas   \n",
       "\n",
       "    Latitude  Longitude  \n",
       "0      17.20     -61.48  \n",
       "1     -36.30     -60.00  \n",
       "2      13.05     -59.30  \n",
       "3      17.18     -88.30  \n",
       "4     -16.20     -68.10  \n",
       "5     -15.47     -47.55  \n",
       "6     -33.24     -70.40  \n",
       "7       4.34     -74.00  \n",
       "8       9.55     -84.02  \n",
       "9      15.20     -61.24  \n",
       "10     -0.15     -78.35  \n",
       "11     13.40     -89.10  \n",
       "12     12.05     -61.75  \n",
       "13     14.40     -90.22  \n",
       "14      6.50     -58.12  \n",
       "15     18.40     -72.20  \n",
       "16     14.05     -87.14  \n",
       "17     18.00     -76.50  \n",
       "18     19.20     -99.10  \n",
       "19     12.06     -86.20  \n",
       "20      9.00     -79.25  \n",
       "21    -25.10     -57.30  \n",
       "22    -12.00     -77.00  \n",
       "23     17.17     -62.43  \n",
       "24     14.02     -60.58  \n",
       "25     13.10     -61.10  \n",
       "26      5.50     -55.10  \n",
       "27     25.05     -77.20  \n",
       "28     10.67     -61.52  \n",
       "29    -34.50     -56.11  \n",
       "30     10.30     -66.55  "
      ]
     },
     "execution_count": 42,
     "metadata": {},
     "output_type": "execute_result"
    }
   ],
   "source": [
    "gdp_coord_frame = gdp_frame.merge(coord_frame, on=\"Country\")\n",
    "gdp_coord_frame"
   ]
  },
  {
   "cell_type": "code",
   "execution_count": 43,
   "metadata": {},
   "outputs": [],
   "source": [
    "gdp_coord_frame.at[0,\"Capital\"] = \"Saint John's\""
   ]
  },
  {
   "cell_type": "code",
   "execution_count": 44,
   "metadata": {},
   "outputs": [],
   "source": [
    "gdp_coord_frame = gdp_coord_frame[gdp_coord_frame[\"Country\"].isin(caricom)]"
   ]
  },
  {
   "cell_type": "code",
   "execution_count": 45,
   "metadata": {},
   "outputs": [],
   "source": [
    "gdp_coord_frame.set_index(\"Country\",inplace=True)"
   ]
  },
  {
   "cell_type": "code",
   "execution_count": 46,
   "metadata": {},
   "outputs": [
    {
     "data": {
      "text/html": [
       "<div>\n",
       "<style scoped>\n",
       "    .dataframe tbody tr th:only-of-type {\n",
       "        vertical-align: middle;\n",
       "    }\n",
       "\n",
       "    .dataframe tbody tr th {\n",
       "        vertical-align: top;\n",
       "    }\n",
       "\n",
       "    .dataframe thead th {\n",
       "        text-align: right;\n",
       "    }\n",
       "</style>\n",
       "<table border=\"1\" class=\"dataframe\">\n",
       "  <thead>\n",
       "    <tr style=\"text-align: right;\">\n",
       "      <th></th>\n",
       "      <th>GDP (PPP) per capita</th>\n",
       "      <th>GDP (nominal) per capita</th>\n",
       "      <th>Capital</th>\n",
       "      <th>Latitude</th>\n",
       "      <th>Longitude</th>\n",
       "    </tr>\n",
       "    <tr>\n",
       "      <th>Country</th>\n",
       "      <th></th>\n",
       "      <th></th>\n",
       "      <th></th>\n",
       "      <th></th>\n",
       "      <th></th>\n",
       "    </tr>\n",
       "  </thead>\n",
       "  <tbody>\n",
       "    <tr>\n",
       "      <th>Antigua and Barbuda</th>\n",
       "      <td>27542</td>\n",
       "      <td>14159</td>\n",
       "      <td>Saint John's</td>\n",
       "      <td>17.20</td>\n",
       "      <td>-61.48</td>\n",
       "    </tr>\n",
       "    <tr>\n",
       "      <th>Barbados</th>\n",
       "      <td>18866</td>\n",
       "      <td>16082</td>\n",
       "      <td>Bridgetown</td>\n",
       "      <td>13.05</td>\n",
       "      <td>-59.30</td>\n",
       "    </tr>\n",
       "    <tr>\n",
       "      <th>Belize</th>\n",
       "      <td>8467</td>\n",
       "      <td>3734</td>\n",
       "      <td>Belmopan</td>\n",
       "      <td>17.18</td>\n",
       "      <td>-88.30</td>\n",
       "    </tr>\n",
       "    <tr>\n",
       "      <th>Dominica</th>\n",
       "      <td>9726</td>\n",
       "      <td>7709</td>\n",
       "      <td>Roseau</td>\n",
       "      <td>15.20</td>\n",
       "      <td>-61.24</td>\n",
       "    </tr>\n",
       "    <tr>\n",
       "      <th>Grenada</th>\n",
       "      <td>16033</td>\n",
       "      <td>9824</td>\n",
       "      <td>Saint George's</td>\n",
       "      <td>12.05</td>\n",
       "      <td>-61.75</td>\n",
       "    </tr>\n",
       "    <tr>\n",
       "      <th>Guyana</th>\n",
       "      <td>8524</td>\n",
       "      <td>8649</td>\n",
       "      <td>Georgetown</td>\n",
       "      <td>6.50</td>\n",
       "      <td>-58.12</td>\n",
       "    </tr>\n",
       "    <tr>\n",
       "      <th>Haiti</th>\n",
       "      <td>1940</td>\n",
       "      <td>732</td>\n",
       "      <td>Port-au-Prince</td>\n",
       "      <td>18.40</td>\n",
       "      <td>-72.20</td>\n",
       "    </tr>\n",
       "    <tr>\n",
       "      <th>Jamaica</th>\n",
       "      <td>9726</td>\n",
       "      <td>5221</td>\n",
       "      <td>Kingston</td>\n",
       "      <td>18.00</td>\n",
       "      <td>-76.50</td>\n",
       "    </tr>\n",
       "    <tr>\n",
       "      <th>Saint Kitts and Nevis</th>\n",
       "      <td>29098</td>\n",
       "      <td>15246</td>\n",
       "      <td>Basseterre</td>\n",
       "      <td>17.17</td>\n",
       "      <td>-62.43</td>\n",
       "    </tr>\n",
       "    <tr>\n",
       "      <th>Saint Lucia</th>\n",
       "      <td>15225</td>\n",
       "      <td>9780</td>\n",
       "      <td>Castries</td>\n",
       "      <td>14.02</td>\n",
       "      <td>-60.58</td>\n",
       "    </tr>\n",
       "    <tr>\n",
       "      <th>Saint Vincent and the Grenadines</th>\n",
       "      <td>11965</td>\n",
       "      <td>7033</td>\n",
       "      <td>Kingstown</td>\n",
       "      <td>13.10</td>\n",
       "      <td>-61.10</td>\n",
       "    </tr>\n",
       "    <tr>\n",
       "      <th>Suriname</th>\n",
       "      <td>15362</td>\n",
       "      <td>4199</td>\n",
       "      <td>Paramaribo</td>\n",
       "      <td>5.50</td>\n",
       "      <td>-55.10</td>\n",
       "    </tr>\n",
       "    <tr>\n",
       "      <th>The Bahamas</th>\n",
       "      <td>33516</td>\n",
       "      <td>30027</td>\n",
       "      <td>Nassau</td>\n",
       "      <td>25.05</td>\n",
       "      <td>-77.20</td>\n",
       "    </tr>\n",
       "    <tr>\n",
       "      <th>Trinidad and Tobago</th>\n",
       "      <td>33026</td>\n",
       "      <td>16197</td>\n",
       "      <td>Port of Spain</td>\n",
       "      <td>10.67</td>\n",
       "      <td>-61.52</td>\n",
       "    </tr>\n",
       "  </tbody>\n",
       "</table>\n",
       "</div>"
      ],
      "text/plain": [
       "                                  GDP (PPP) per capita  \\\n",
       "Country                                                  \n",
       "Antigua and Barbuda                              27542   \n",
       "Barbados                                         18866   \n",
       "Belize                                            8467   \n",
       "Dominica                                          9726   \n",
       "Grenada                                          16033   \n",
       "Guyana                                            8524   \n",
       "Haiti                                             1940   \n",
       "Jamaica                                           9726   \n",
       "Saint Kitts and Nevis                            29098   \n",
       "Saint Lucia                                      15225   \n",
       "Saint Vincent and the Grenadines                 11965   \n",
       "Suriname                                         15362   \n",
       "The Bahamas                                      33516   \n",
       "Trinidad and Tobago                              33026   \n",
       "\n",
       "                                  GDP (nominal) per capita         Capital  \\\n",
       "Country                                                                      \n",
       "Antigua and Barbuda                                  14159    Saint John's   \n",
       "Barbados                                             16082      Bridgetown   \n",
       "Belize                                                3734        Belmopan   \n",
       "Dominica                                              7709          Roseau   \n",
       "Grenada                                               9824  Saint George's   \n",
       "Guyana                                                8649      Georgetown   \n",
       "Haiti                                                  732  Port-au-Prince   \n",
       "Jamaica                                               5221        Kingston   \n",
       "Saint Kitts and Nevis                                15246      Basseterre   \n",
       "Saint Lucia                                           9780        Castries   \n",
       "Saint Vincent and the Grenadines                      7033       Kingstown   \n",
       "Suriname                                              4199      Paramaribo   \n",
       "The Bahamas                                          30027          Nassau   \n",
       "Trinidad and Tobago                                  16197   Port of Spain   \n",
       "\n",
       "                                  Latitude  Longitude  \n",
       "Country                                                \n",
       "Antigua and Barbuda                  17.20     -61.48  \n",
       "Barbados                             13.05     -59.30  \n",
       "Belize                               17.18     -88.30  \n",
       "Dominica                             15.20     -61.24  \n",
       "Grenada                              12.05     -61.75  \n",
       "Guyana                                6.50     -58.12  \n",
       "Haiti                                18.40     -72.20  \n",
       "Jamaica                              18.00     -76.50  \n",
       "Saint Kitts and Nevis                17.17     -62.43  \n",
       "Saint Lucia                          14.02     -60.58  \n",
       "Saint Vincent and the Grenadines     13.10     -61.10  \n",
       "Suriname                              5.50     -55.10  \n",
       "The Bahamas                          25.05     -77.20  \n",
       "Trinidad and Tobago                  10.67     -61.52  "
      ]
     },
     "execution_count": 46,
     "metadata": {},
     "output_type": "execute_result"
    }
   ],
   "source": [
    "gdp_coord_frame"
   ]
  },
  {
   "cell_type": "markdown",
   "metadata": {},
   "source": [
    "We should now be prepared to use the coordinates to obtain our location data from the Foursquare API.  \n",
    "\n",
    "Before that, we can use the folium package to create a simple map. We show circles for each capital, where the radius of each circle reflects the scaled GDP (PPP)."
   ]
  },
  {
   "cell_type": "code",
   "execution_count": 47,
   "metadata": {},
   "outputs": [
    {
     "data": {
      "text/html": [
       "<div style=\"width:100%;\"><div style=\"position:relative;width:100%;height:0;padding-bottom:60%;\"><span style=\"color:#565656\">Make this Notebook Trusted to load map: File -> Trust Notebook</span><iframe src=\"about:blank\" style=\"position:absolute;width:100%;height:100%;left:0;top:0;border:none !important;\" data-html=%3C%21DOCTYPE%20html%3E%0A%3Chead%3E%20%20%20%20%0A%20%20%20%20%3Cmeta%20http-equiv%3D%22content-type%22%20content%3D%22text/html%3B%20charset%3DUTF-8%22%20/%3E%0A%20%20%20%20%0A%20%20%20%20%20%20%20%20%3Cscript%3E%0A%20%20%20%20%20%20%20%20%20%20%20%20L_NO_TOUCH%20%3D%20false%3B%0A%20%20%20%20%20%20%20%20%20%20%20%20L_DISABLE_3D%20%3D%20false%3B%0A%20%20%20%20%20%20%20%20%3C/script%3E%0A%20%20%20%20%0A%20%20%20%20%3Cstyle%3Ehtml%2C%20body%20%7Bwidth%3A%20100%25%3Bheight%3A%20100%25%3Bmargin%3A%200%3Bpadding%3A%200%3B%7D%3C/style%3E%0A%20%20%20%20%3Cstyle%3E%23map%20%7Bposition%3Aabsolute%3Btop%3A0%3Bbottom%3A0%3Bright%3A0%3Bleft%3A0%3B%7D%3C/style%3E%0A%20%20%20%20%3Cscript%20src%3D%22https%3A//cdn.jsdelivr.net/npm/leaflet%401.6.0/dist/leaflet.js%22%3E%3C/script%3E%0A%20%20%20%20%3Cscript%20src%3D%22https%3A//code.jquery.com/jquery-1.12.4.min.js%22%3E%3C/script%3E%0A%20%20%20%20%3Cscript%20src%3D%22https%3A//maxcdn.bootstrapcdn.com/bootstrap/3.2.0/js/bootstrap.min.js%22%3E%3C/script%3E%0A%20%20%20%20%3Cscript%20src%3D%22https%3A//cdnjs.cloudflare.com/ajax/libs/Leaflet.awesome-markers/2.0.2/leaflet.awesome-markers.js%22%3E%3C/script%3E%0A%20%20%20%20%3Clink%20rel%3D%22stylesheet%22%20href%3D%22https%3A//cdn.jsdelivr.net/npm/leaflet%401.6.0/dist/leaflet.css%22/%3E%0A%20%20%20%20%3Clink%20rel%3D%22stylesheet%22%20href%3D%22https%3A//maxcdn.bootstrapcdn.com/bootstrap/3.2.0/css/bootstrap.min.css%22/%3E%0A%20%20%20%20%3Clink%20rel%3D%22stylesheet%22%20href%3D%22https%3A//maxcdn.bootstrapcdn.com/bootstrap/3.2.0/css/bootstrap-theme.min.css%22/%3E%0A%20%20%20%20%3Clink%20rel%3D%22stylesheet%22%20href%3D%22https%3A//maxcdn.bootstrapcdn.com/font-awesome/4.6.3/css/font-awesome.min.css%22/%3E%0A%20%20%20%20%3Clink%20rel%3D%22stylesheet%22%20href%3D%22https%3A//cdnjs.cloudflare.com/ajax/libs/Leaflet.awesome-markers/2.0.2/leaflet.awesome-markers.css%22/%3E%0A%20%20%20%20%3Clink%20rel%3D%22stylesheet%22%20href%3D%22https%3A//cdn.jsdelivr.net/gh/python-visualization/folium/folium/templates/leaflet.awesome.rotate.min.css%22/%3E%0A%20%20%20%20%0A%20%20%20%20%20%20%20%20%20%20%20%20%3Cmeta%20name%3D%22viewport%22%20content%3D%22width%3Ddevice-width%2C%0A%20%20%20%20%20%20%20%20%20%20%20%20%20%20%20%20initial-scale%3D1.0%2C%20maximum-scale%3D1.0%2C%20user-scalable%3Dno%22%20/%3E%0A%20%20%20%20%20%20%20%20%20%20%20%20%3Cstyle%3E%0A%20%20%20%20%20%20%20%20%20%20%20%20%20%20%20%20%23map_5d60d980c6e245f7aea0ce1209044054%20%7B%0A%20%20%20%20%20%20%20%20%20%20%20%20%20%20%20%20%20%20%20%20position%3A%20relative%3B%0A%20%20%20%20%20%20%20%20%20%20%20%20%20%20%20%20%20%20%20%20width%3A%20100.0%25%3B%0A%20%20%20%20%20%20%20%20%20%20%20%20%20%20%20%20%20%20%20%20height%3A%20100.0%25%3B%0A%20%20%20%20%20%20%20%20%20%20%20%20%20%20%20%20%20%20%20%20left%3A%200.0%25%3B%0A%20%20%20%20%20%20%20%20%20%20%20%20%20%20%20%20%20%20%20%20top%3A%200.0%25%3B%0A%20%20%20%20%20%20%20%20%20%20%20%20%20%20%20%20%7D%0A%20%20%20%20%20%20%20%20%20%20%20%20%3C/style%3E%0A%20%20%20%20%20%20%20%20%0A%3C/head%3E%0A%3Cbody%3E%20%20%20%20%0A%20%20%20%20%0A%20%20%20%20%20%20%20%20%20%20%20%20%3Cdiv%20class%3D%22folium-map%22%20id%3D%22map_5d60d980c6e245f7aea0ce1209044054%22%20%3E%3C/div%3E%0A%20%20%20%20%20%20%20%20%0A%3C/body%3E%0A%3Cscript%3E%20%20%20%20%0A%20%20%20%20%0A%20%20%20%20%20%20%20%20%20%20%20%20var%20map_5d60d980c6e245f7aea0ce1209044054%20%3D%20L.map%28%0A%20%20%20%20%20%20%20%20%20%20%20%20%20%20%20%20%22map_5d60d980c6e245f7aea0ce1209044054%22%2C%0A%20%20%20%20%20%20%20%20%20%20%20%20%20%20%20%20%7B%0A%20%20%20%20%20%20%20%20%20%20%20%20%20%20%20%20%20%20%20%20center%3A%20%5B16.5%2C%20-73.5%5D%2C%0A%20%20%20%20%20%20%20%20%20%20%20%20%20%20%20%20%20%20%20%20crs%3A%20L.CRS.EPSG3857%2C%0A%20%20%20%20%20%20%20%20%20%20%20%20%20%20%20%20%20%20%20%20zoom%3A%205%2C%0A%20%20%20%20%20%20%20%20%20%20%20%20%20%20%20%20%20%20%20%20zoomControl%3A%20true%2C%0A%20%20%20%20%20%20%20%20%20%20%20%20%20%20%20%20%20%20%20%20preferCanvas%3A%20false%2C%0A%20%20%20%20%20%20%20%20%20%20%20%20%20%20%20%20%7D%0A%20%20%20%20%20%20%20%20%20%20%20%20%29%3B%0A%0A%20%20%20%20%20%20%20%20%20%20%20%20%0A%0A%20%20%20%20%20%20%20%20%0A%20%20%20%20%0A%20%20%20%20%20%20%20%20%20%20%20%20var%20tile_layer_7aaf96bb514e401b911cd6d05c95a4eb%20%3D%20L.tileLayer%28%0A%20%20%20%20%20%20%20%20%20%20%20%20%20%20%20%20%22https%3A//%7Bs%7D.tile.openstreetmap.org/%7Bz%7D/%7Bx%7D/%7By%7D.png%22%2C%0A%20%20%20%20%20%20%20%20%20%20%20%20%20%20%20%20%7B%22attribution%22%3A%20%22Data%20by%20%5Cu0026copy%3B%20%5Cu003ca%20href%3D%5C%22http%3A//openstreetmap.org%5C%22%5Cu003eOpenStreetMap%5Cu003c/a%5Cu003e%2C%20under%20%5Cu003ca%20href%3D%5C%22http%3A//www.openstreetmap.org/copyright%5C%22%5Cu003eODbL%5Cu003c/a%5Cu003e.%22%2C%20%22detectRetina%22%3A%20false%2C%20%22maxNativeZoom%22%3A%2018%2C%20%22maxZoom%22%3A%2018%2C%20%22minZoom%22%3A%200%2C%20%22noWrap%22%3A%20false%2C%20%22opacity%22%3A%201%2C%20%22subdomains%22%3A%20%22abc%22%2C%20%22tms%22%3A%20false%7D%0A%20%20%20%20%20%20%20%20%20%20%20%20%29.addTo%28map_5d60d980c6e245f7aea0ce1209044054%29%3B%0A%20%20%20%20%20%20%20%20%0A%20%20%20%20%0A%20%20%20%20%20%20%20%20%20%20%20%20var%20circle_marker_8bb35365442e448fa2db26e0f6eb7cea%20%3D%20L.circleMarker%28%0A%20%20%20%20%20%20%20%20%20%20%20%20%20%20%20%20%5B17.2%2C%20-61.48%5D%2C%0A%20%20%20%20%20%20%20%20%20%20%20%20%20%20%20%20%7B%22bubblingMouseEvents%22%3A%20true%2C%20%22color%22%3A%20%22black%22%2C%20%22dashArray%22%3A%20null%2C%20%22dashOffset%22%3A%20null%2C%20%22fill%22%3A%20true%2C%20%22fillColor%22%3A%20%22black%22%2C%20%22fillOpacity%22%3A%200.2%2C%20%22fillRule%22%3A%20%22evenodd%22%2C%20%22lineCap%22%3A%20%22round%22%2C%20%22lineJoin%22%3A%20%22round%22%2C%20%22opacity%22%3A%201.0%2C%20%22radius%22%3A%205.5084%2C%20%22stroke%22%3A%20true%2C%20%22weight%22%3A%203%7D%0A%20%20%20%20%20%20%20%20%20%20%20%20%29.addTo%28map_5d60d980c6e245f7aea0ce1209044054%29%3B%0A%20%20%20%20%20%20%20%20%0A%20%20%20%20%0A%20%20%20%20%20%20%20%20%20%20%20%20var%20circle_marker_22f05b8f01cf425d8a80eb7171985950%20%3D%20L.circleMarker%28%0A%20%20%20%20%20%20%20%20%20%20%20%20%20%20%20%20%5B13.05%2C%20-59.3%5D%2C%0A%20%20%20%20%20%20%20%20%20%20%20%20%20%20%20%20%7B%22bubblingMouseEvents%22%3A%20true%2C%20%22color%22%3A%20%22black%22%2C%20%22dashArray%22%3A%20null%2C%20%22dashOffset%22%3A%20null%2C%20%22fill%22%3A%20true%2C%20%22fillColor%22%3A%20%22black%22%2C%20%22fillOpacity%22%3A%200.2%2C%20%22fillRule%22%3A%20%22evenodd%22%2C%20%22lineCap%22%3A%20%22round%22%2C%20%22lineJoin%22%3A%20%22round%22%2C%20%22opacity%22%3A%201.0%2C%20%22radius%22%3A%203.7732%2C%20%22stroke%22%3A%20true%2C%20%22weight%22%3A%203%7D%0A%20%20%20%20%20%20%20%20%20%20%20%20%29.addTo%28map_5d60d980c6e245f7aea0ce1209044054%29%3B%0A%20%20%20%20%20%20%20%20%0A%20%20%20%20%0A%20%20%20%20%20%20%20%20%20%20%20%20var%20circle_marker_ae40bed00ed8479b9288a70ab7f45cc0%20%3D%20L.circleMarker%28%0A%20%20%20%20%20%20%20%20%20%20%20%20%20%20%20%20%5B17.18%2C%20-88.3%5D%2C%0A%20%20%20%20%20%20%20%20%20%20%20%20%20%20%20%20%7B%22bubblingMouseEvents%22%3A%20true%2C%20%22color%22%3A%20%22black%22%2C%20%22dashArray%22%3A%20null%2C%20%22dashOffset%22%3A%20null%2C%20%22fill%22%3A%20true%2C%20%22fillColor%22%3A%20%22black%22%2C%20%22fillOpacity%22%3A%200.2%2C%20%22fillRule%22%3A%20%22evenodd%22%2C%20%22lineCap%22%3A%20%22round%22%2C%20%22lineJoin%22%3A%20%22round%22%2C%20%22opacity%22%3A%201.0%2C%20%22radius%22%3A%201.6934%2C%20%22stroke%22%3A%20true%2C%20%22weight%22%3A%203%7D%0A%20%20%20%20%20%20%20%20%20%20%20%20%29.addTo%28map_5d60d980c6e245f7aea0ce1209044054%29%3B%0A%20%20%20%20%20%20%20%20%0A%20%20%20%20%0A%20%20%20%20%20%20%20%20%20%20%20%20var%20circle_marker_1ff322b44b13487798fabd6051d4594c%20%3D%20L.circleMarker%28%0A%20%20%20%20%20%20%20%20%20%20%20%20%20%20%20%20%5B15.2%2C%20-61.24%5D%2C%0A%20%20%20%20%20%20%20%20%20%20%20%20%20%20%20%20%7B%22bubblingMouseEvents%22%3A%20true%2C%20%22color%22%3A%20%22black%22%2C%20%22dashArray%22%3A%20null%2C%20%22dashOffset%22%3A%20null%2C%20%22fill%22%3A%20true%2C%20%22fillColor%22%3A%20%22black%22%2C%20%22fillOpacity%22%3A%200.2%2C%20%22fillRule%22%3A%20%22evenodd%22%2C%20%22lineCap%22%3A%20%22round%22%2C%20%22lineJoin%22%3A%20%22round%22%2C%20%22opacity%22%3A%201.0%2C%20%22radius%22%3A%201.9452%2C%20%22stroke%22%3A%20true%2C%20%22weight%22%3A%203%7D%0A%20%20%20%20%20%20%20%20%20%20%20%20%29.addTo%28map_5d60d980c6e245f7aea0ce1209044054%29%3B%0A%20%20%20%20%20%20%20%20%0A%20%20%20%20%0A%20%20%20%20%20%20%20%20%20%20%20%20var%20circle_marker_8abd5883cc084b4cad65ea8b95502662%20%3D%20L.circleMarker%28%0A%20%20%20%20%20%20%20%20%20%20%20%20%20%20%20%20%5B12.05%2C%20-61.75%5D%2C%0A%20%20%20%20%20%20%20%20%20%20%20%20%20%20%20%20%7B%22bubblingMouseEvents%22%3A%20true%2C%20%22color%22%3A%20%22black%22%2C%20%22dashArray%22%3A%20null%2C%20%22dashOffset%22%3A%20null%2C%20%22fill%22%3A%20true%2C%20%22fillColor%22%3A%20%22black%22%2C%20%22fillOpacity%22%3A%200.2%2C%20%22fillRule%22%3A%20%22evenodd%22%2C%20%22lineCap%22%3A%20%22round%22%2C%20%22lineJoin%22%3A%20%22round%22%2C%20%22opacity%22%3A%201.0%2C%20%22radius%22%3A%203.2066%2C%20%22stroke%22%3A%20true%2C%20%22weight%22%3A%203%7D%0A%20%20%20%20%20%20%20%20%20%20%20%20%29.addTo%28map_5d60d980c6e245f7aea0ce1209044054%29%3B%0A%20%20%20%20%20%20%20%20%0A%20%20%20%20%0A%20%20%20%20%20%20%20%20%20%20%20%20var%20circle_marker_64cbc1c6038c49a3804254cc2909284d%20%3D%20L.circleMarker%28%0A%20%20%20%20%20%20%20%20%20%20%20%20%20%20%20%20%5B6.5%2C%20-58.12%5D%2C%0A%20%20%20%20%20%20%20%20%20%20%20%20%20%20%20%20%7B%22bubblingMouseEvents%22%3A%20true%2C%20%22color%22%3A%20%22black%22%2C%20%22dashArray%22%3A%20null%2C%20%22dashOffset%22%3A%20null%2C%20%22fill%22%3A%20true%2C%20%22fillColor%22%3A%20%22black%22%2C%20%22fillOpacity%22%3A%200.2%2C%20%22fillRule%22%3A%20%22evenodd%22%2C%20%22lineCap%22%3A%20%22round%22%2C%20%22lineJoin%22%3A%20%22round%22%2C%20%22opacity%22%3A%201.0%2C%20%22radius%22%3A%201.7048%2C%20%22stroke%22%3A%20true%2C%20%22weight%22%3A%203%7D%0A%20%20%20%20%20%20%20%20%20%20%20%20%29.addTo%28map_5d60d980c6e245f7aea0ce1209044054%29%3B%0A%20%20%20%20%20%20%20%20%0A%20%20%20%20%0A%20%20%20%20%20%20%20%20%20%20%20%20var%20circle_marker_269bf80140a74d57b2307d9234086dcd%20%3D%20L.circleMarker%28%0A%20%20%20%20%20%20%20%20%20%20%20%20%20%20%20%20%5B18.4%2C%20-72.2%5D%2C%0A%20%20%20%20%20%20%20%20%20%20%20%20%20%20%20%20%7B%22bubblingMouseEvents%22%3A%20true%2C%20%22color%22%3A%20%22black%22%2C%20%22dashArray%22%3A%20null%2C%20%22dashOffset%22%3A%20null%2C%20%22fill%22%3A%20true%2C%20%22fillColor%22%3A%20%22black%22%2C%20%22fillOpacity%22%3A%200.2%2C%20%22fillRule%22%3A%20%22evenodd%22%2C%20%22lineCap%22%3A%20%22round%22%2C%20%22lineJoin%22%3A%20%22round%22%2C%20%22opacity%22%3A%201.0%2C%20%22radius%22%3A%200.388%2C%20%22stroke%22%3A%20true%2C%20%22weight%22%3A%203%7D%0A%20%20%20%20%20%20%20%20%20%20%20%20%29.addTo%28map_5d60d980c6e245f7aea0ce1209044054%29%3B%0A%20%20%20%20%20%20%20%20%0A%20%20%20%20%0A%20%20%20%20%20%20%20%20%20%20%20%20var%20circle_marker_b51f26c2c8e9432098e5954155d8349d%20%3D%20L.circleMarker%28%0A%20%20%20%20%20%20%20%20%20%20%20%20%20%20%20%20%5B18.0%2C%20-76.5%5D%2C%0A%20%20%20%20%20%20%20%20%20%20%20%20%20%20%20%20%7B%22bubblingMouseEvents%22%3A%20true%2C%20%22color%22%3A%20%22black%22%2C%20%22dashArray%22%3A%20null%2C%20%22dashOffset%22%3A%20null%2C%20%22fill%22%3A%20true%2C%20%22fillColor%22%3A%20%22black%22%2C%20%22fillOpacity%22%3A%200.2%2C%20%22fillRule%22%3A%20%22evenodd%22%2C%20%22lineCap%22%3A%20%22round%22%2C%20%22lineJoin%22%3A%20%22round%22%2C%20%22opacity%22%3A%201.0%2C%20%22radius%22%3A%201.9452%2C%20%22stroke%22%3A%20true%2C%20%22weight%22%3A%203%7D%0A%20%20%20%20%20%20%20%20%20%20%20%20%29.addTo%28map_5d60d980c6e245f7aea0ce1209044054%29%3B%0A%20%20%20%20%20%20%20%20%0A%20%20%20%20%0A%20%20%20%20%20%20%20%20%20%20%20%20var%20circle_marker_8461e641c8a04bb6a1feb1b2535a199a%20%3D%20L.circleMarker%28%0A%20%20%20%20%20%20%20%20%20%20%20%20%20%20%20%20%5B17.17%2C%20-62.43%5D%2C%0A%20%20%20%20%20%20%20%20%20%20%20%20%20%20%20%20%7B%22bubblingMouseEvents%22%3A%20true%2C%20%22color%22%3A%20%22black%22%2C%20%22dashArray%22%3A%20null%2C%20%22dashOffset%22%3A%20null%2C%20%22fill%22%3A%20true%2C%20%22fillColor%22%3A%20%22black%22%2C%20%22fillOpacity%22%3A%200.2%2C%20%22fillRule%22%3A%20%22evenodd%22%2C%20%22lineCap%22%3A%20%22round%22%2C%20%22lineJoin%22%3A%20%22round%22%2C%20%22opacity%22%3A%201.0%2C%20%22radius%22%3A%205.8196%2C%20%22stroke%22%3A%20true%2C%20%22weight%22%3A%203%7D%0A%20%20%20%20%20%20%20%20%20%20%20%20%29.addTo%28map_5d60d980c6e245f7aea0ce1209044054%29%3B%0A%20%20%20%20%20%20%20%20%0A%20%20%20%20%0A%20%20%20%20%20%20%20%20%20%20%20%20var%20circle_marker_f5a21f922ce742f8831637fbfd80340e%20%3D%20L.circleMarker%28%0A%20%20%20%20%20%20%20%20%20%20%20%20%20%20%20%20%5B14.02%2C%20-60.58%5D%2C%0A%20%20%20%20%20%20%20%20%20%20%20%20%20%20%20%20%7B%22bubblingMouseEvents%22%3A%20true%2C%20%22color%22%3A%20%22black%22%2C%20%22dashArray%22%3A%20null%2C%20%22dashOffset%22%3A%20null%2C%20%22fill%22%3A%20true%2C%20%22fillColor%22%3A%20%22black%22%2C%20%22fillOpacity%22%3A%200.2%2C%20%22fillRule%22%3A%20%22evenodd%22%2C%20%22lineCap%22%3A%20%22round%22%2C%20%22lineJoin%22%3A%20%22round%22%2C%20%22opacity%22%3A%201.0%2C%20%22radius%22%3A%203.045%2C%20%22stroke%22%3A%20true%2C%20%22weight%22%3A%203%7D%0A%20%20%20%20%20%20%20%20%20%20%20%20%29.addTo%28map_5d60d980c6e245f7aea0ce1209044054%29%3B%0A%20%20%20%20%20%20%20%20%0A%20%20%20%20%0A%20%20%20%20%20%20%20%20%20%20%20%20var%20circle_marker_1e26e4061bc34d9293fc0b74f8f707ff%20%3D%20L.circleMarker%28%0A%20%20%20%20%20%20%20%20%20%20%20%20%20%20%20%20%5B13.1%2C%20-61.1%5D%2C%0A%20%20%20%20%20%20%20%20%20%20%20%20%20%20%20%20%7B%22bubblingMouseEvents%22%3A%20true%2C%20%22color%22%3A%20%22black%22%2C%20%22dashArray%22%3A%20null%2C%20%22dashOffset%22%3A%20null%2C%20%22fill%22%3A%20true%2C%20%22fillColor%22%3A%20%22black%22%2C%20%22fillOpacity%22%3A%200.2%2C%20%22fillRule%22%3A%20%22evenodd%22%2C%20%22lineCap%22%3A%20%22round%22%2C%20%22lineJoin%22%3A%20%22round%22%2C%20%22opacity%22%3A%201.0%2C%20%22radius%22%3A%202.393%2C%20%22stroke%22%3A%20true%2C%20%22weight%22%3A%203%7D%0A%20%20%20%20%20%20%20%20%20%20%20%20%29.addTo%28map_5d60d980c6e245f7aea0ce1209044054%29%3B%0A%20%20%20%20%20%20%20%20%0A%20%20%20%20%0A%20%20%20%20%20%20%20%20%20%20%20%20var%20circle_marker_0079ebad4751427c9d13863662a4ec6b%20%3D%20L.circleMarker%28%0A%20%20%20%20%20%20%20%20%20%20%20%20%20%20%20%20%5B5.5%2C%20-55.1%5D%2C%0A%20%20%20%20%20%20%20%20%20%20%20%20%20%20%20%20%7B%22bubblingMouseEvents%22%3A%20true%2C%20%22color%22%3A%20%22black%22%2C%20%22dashArray%22%3A%20null%2C%20%22dashOffset%22%3A%20null%2C%20%22fill%22%3A%20true%2C%20%22fillColor%22%3A%20%22black%22%2C%20%22fillOpacity%22%3A%200.2%2C%20%22fillRule%22%3A%20%22evenodd%22%2C%20%22lineCap%22%3A%20%22round%22%2C%20%22lineJoin%22%3A%20%22round%22%2C%20%22opacity%22%3A%201.0%2C%20%22radius%22%3A%203.0724%2C%20%22stroke%22%3A%20true%2C%20%22weight%22%3A%203%7D%0A%20%20%20%20%20%20%20%20%20%20%20%20%29.addTo%28map_5d60d980c6e245f7aea0ce1209044054%29%3B%0A%20%20%20%20%20%20%20%20%0A%20%20%20%20%0A%20%20%20%20%20%20%20%20%20%20%20%20var%20circle_marker_b696df96635347a5b15b5bf0e5e0d471%20%3D%20L.circleMarker%28%0A%20%20%20%20%20%20%20%20%20%20%20%20%20%20%20%20%5B25.05%2C%20-77.2%5D%2C%0A%20%20%20%20%20%20%20%20%20%20%20%20%20%20%20%20%7B%22bubblingMouseEvents%22%3A%20true%2C%20%22color%22%3A%20%22black%22%2C%20%22dashArray%22%3A%20null%2C%20%22dashOffset%22%3A%20null%2C%20%22fill%22%3A%20true%2C%20%22fillColor%22%3A%20%22black%22%2C%20%22fillOpacity%22%3A%200.2%2C%20%22fillRule%22%3A%20%22evenodd%22%2C%20%22lineCap%22%3A%20%22round%22%2C%20%22lineJoin%22%3A%20%22round%22%2C%20%22opacity%22%3A%201.0%2C%20%22radius%22%3A%206.7032%2C%20%22stroke%22%3A%20true%2C%20%22weight%22%3A%203%7D%0A%20%20%20%20%20%20%20%20%20%20%20%20%29.addTo%28map_5d60d980c6e245f7aea0ce1209044054%29%3B%0A%20%20%20%20%20%20%20%20%0A%20%20%20%20%0A%20%20%20%20%20%20%20%20%20%20%20%20var%20circle_marker_6f07fe7ad07b462f9a3c70e336102956%20%3D%20L.circleMarker%28%0A%20%20%20%20%20%20%20%20%20%20%20%20%20%20%20%20%5B10.67%2C%20-61.52%5D%2C%0A%20%20%20%20%20%20%20%20%20%20%20%20%20%20%20%20%7B%22bubblingMouseEvents%22%3A%20true%2C%20%22color%22%3A%20%22black%22%2C%20%22dashArray%22%3A%20null%2C%20%22dashOffset%22%3A%20null%2C%20%22fill%22%3A%20true%2C%20%22fillColor%22%3A%20%22black%22%2C%20%22fillOpacity%22%3A%200.2%2C%20%22fillRule%22%3A%20%22evenodd%22%2C%20%22lineCap%22%3A%20%22round%22%2C%20%22lineJoin%22%3A%20%22round%22%2C%20%22opacity%22%3A%201.0%2C%20%22radius%22%3A%206.6052%2C%20%22stroke%22%3A%20true%2C%20%22weight%22%3A%203%7D%0A%20%20%20%20%20%20%20%20%20%20%20%20%29.addTo%28map_5d60d980c6e245f7aea0ce1209044054%29%3B%0A%20%20%20%20%20%20%20%20%0A%3C/script%3E onload=\"this.contentDocument.open();this.contentDocument.write(    decodeURIComponent(this.getAttribute('data-html')));this.contentDocument.close();\" allowfullscreen webkitallowfullscreen mozallowfullscreen></iframe></div></div>"
      ],
      "text/plain": [
       "<folium.folium.Map at 0x24e541689a0>"
      ]
     },
     "execution_count": 47,
     "metadata": {},
     "output_type": "execute_result"
    }
   ],
   "source": [
    "m = folium.Map(location =[16.5,-73.5], zoom_start=5)\n",
    "\n",
    "\n",
    "\n",
    "for index, row in gdp_coord_frame.iterrows():\n",
    "    folium.CircleMarker(location=(row[\"Latitude\"],row[\"Longitude\"]),\n",
    "                        radius=row[\"GDP (PPP) per capita\"]/5000,\n",
    "                        color=\"black\",\n",
    "                        fill=True,\n",
    "                        fill_color=\"black\",\n",
    "                        label=row[\"Capital\"]).add_to(m)\n",
    "    #folium.Marker(location=(row[\"Latitude\"],row[\"Longitude\"]),\n",
    "     #            popup=row[\"Capital\"]).add_to(m)\n",
    "\n",
    "m"
   ]
  },
  {
   "cell_type": "markdown",
   "metadata": {},
   "source": [
    "## Fetch data from Foursquare API"
   ]
  },
  {
   "cell_type": "markdown",
   "metadata": {},
   "source": [
    "Now we use the coordinate data to acquire data about venues in and around each capital. These data, when processed, will constitute the explanatory variables for the models we construct later. The GDP data will form the dependent variables.  \n",
    "\n",
    "There are lots of comments in this section! Some parts are used for debugging and for tuning, and some comments are just for explanation. "
   ]
  },
  {
   "cell_type": "markdown",
   "metadata": {},
   "source": [
    "First, define some variables which will be needed for the API data. These are my credentials, use your own! (Mine should be hidden.)"
   ]
  },
  {
   "cell_type": "code",
   "execution_count": 48,
   "metadata": {},
   "outputs": [],
   "source": [
    "# @hidden_cell\n",
    "CLIENT_ID = 'M1KFHKQKC3XJB3AI0RRLNVQ14UIYDWMTS2VTMSRJPJFPIF4H' # your Foursquare ID\n",
    "CLIENT_SECRET = 'E3FGIQBVTXIU5DFACSE1OQARY1Q0E1ZUART05SDHMJENZCHJ' # your Foursquare Secret\n",
    "ACCESS_TOKEN = 'EQ3AMHUTN0W2JFVFS1DQ4OIS2FT3VBZ2GJPBXEKOI15QEQ20' # your FourSquare Access Token\n",
    "#VERSION = '20180604'\n",
    "VERSION = '20210131'\n",
    "LIMIT = 20\n",
    "RADIUS = 3000 #generous radius in case coordinates are slightly off. not actually used below."
   ]
  },
  {
   "cell_type": "markdown",
   "metadata": {},
   "source": [
    "    \n",
    "  \n",
    "I'm going to collect price data on multiple categories of business covered by Foursquare. Here I define the list of categories I will  use. \n",
    "\n",
    "I'm severely limited by the number of premium API calls (needed to get price data) so I only use the subset of the categories which provide the most price data. You may notice that this required some testing to refine the list...    \n",
    "\n",
    "Here I also define the list of countries to search over. Because of the API call quota, I will collect the data over multiple days."
   ]
  },
  {
   "cell_type": "code",
   "execution_count": 49,
   "metadata": {},
   "outputs": [],
   "source": [
    "all_countries  = gdp_coord_frame.index.values\n",
    "countries_day1 = all_countries[range(0,5)]\n",
    "countries_day2 = all_countries[range(5,10)]\n",
    "countries_day3 = all_countries[range(10,14)]\n",
    "\n",
    "#cats      = [\"Arts & Entertainment\", \"Food\", \"Shop & Service\", \"Nightlife Spot\", \"Outdoor and Recreation\"]\n",
    "#cat_ids   = [\"4d4b7104d754a06370d81259\", \"4d4b7105d754a06374d81259\", \"4d4b7105d754a06378d81259\",\"4d4b7105d754a06376d81259\",\"4d4b7105d754a06377d81259\"]\n",
    "\n",
    "cats      = [\"Food\", \"Nightlife Spot\"]\n",
    "cat_ids   = [\"4d4b7105d754a06374d81259\",\"4d4b7105d754a06376d81259\"]"
   ]
  },
  {
   "cell_type": "code",
   "execution_count": 50,
   "metadata": {},
   "outputs": [],
   "source": [
    "# another debug cell\n",
    "#cat_ids = [\"4d4b7105d754a06375d81259\",\"4d4b7105d754a06379d81259\"]\n",
    "#cats = [\"professional\",\"travel\"]\n"
   ]
  },
  {
   "cell_type": "markdown",
   "metadata": {},
   "source": [
    "This cell contains the code by which I make the API calls and construct dataframes to work with. The cells which follow are light associated processing. I have run the code several times over several days, and the data has been compiled and saved. To avoid wasting time and API calls, I am leaving the next few cells commented and simply import the data I have already collected. If the relevant file is not at hand, the data can be reproduced using the cell below."
   ]
  },
  {
   "cell_type": "code",
   "execution_count": 51,
   "metadata": {},
   "outputs": [],
   "source": [
    "# ## The cell is the MEAT. Leave it commented while debugging. USES A LOT OF API CALLS\n",
    "\n",
    "# ######### DEBUG Section\n",
    "# #countries = [\"Barbados\",\"Jamaica\",\"The Bahamas\"]\n",
    "# #cat_ids = [\"4d4b7104d754a06370d81259\"] #arts and entertainment\n",
    "# #cat_ids = [\"4d4b7105d754a06374d81259\"] #food\n",
    "# #cat_ids = [\"4d4b7105d754a06378d81259\"]  #shop and service\n",
    "# #cat_ids = [\"4d4b7105d754a06377d81259\"] #outdoors and recreation\n",
    "# #cat_ids = [\"4d4b7105d754a06375d81259\"] #professional and other places\n",
    "# #cat_ids = [\"4d4b7105d754a06379d81259\"] #travel and transport\n",
    "# #cat_ids = [\"4d4b7105d754a06376d81259\"] #nightlife spot\n",
    "# ######### end debug section \n",
    "\n",
    "# countries  = countries_day3\n",
    "# name      = \"day3\"\n",
    "# price_data = pd.DataFrame(index=countries)\n",
    "# for country in countries:\n",
    "    \n",
    "\n",
    "#     j = 0   #counts categories, since there are 2 category lists (cats and cat_ids)\n",
    "    \n",
    "#     for category in cat_ids:\n",
    "        \n",
    "#         prices = []        \n",
    "#         #get (LIMIT) venues from each category\n",
    "#         LATITUDE   = gdp_coord_frame.loc[country,\"Latitude\"]\n",
    "#         LONGITUDE  = gdp_coord_frame.loc[country,\"Longitude\"]\n",
    "#         search_url = \"https://api.foursquare.com/v2/venues/search?categoryId={}&client_id={}&client_secret={}&ll={},{}&v={}&limit={}\".format(category,CLIENT_ID,CLIENT_SECRET,LATITUDE,LONGITUDE,VERSION,LIMIT)\n",
    "#         #search_url = \"https://api.foursquare.com/v2/search/recommendations?categoryId={}&client_id={}&client_secret={}&ll={},{}&v={}&limit={}\".format(category,CLIENT_ID,CLIENT_SECRET,LATITUDE,LONGITUDE,VERSION,LIMIT)\n",
    "#         #Experimented with the recommendations endpoint. did not need it after all\n",
    "#         venues     = rq.get(search_url).json()\n",
    "#         venues     = venues[\"response\"][\"venues\"]   # separated from the line above for debugging\n",
    "#         #price_tier = venues[\"price\"][\"tier\"]\n",
    "#         venue_data = pd.json_normalize(venues)   #this is now a dataframe\n",
    "        \n",
    "#         #i=0\n",
    "#         if venue_data.empty==False:   # skips if no venues returned b search\n",
    "#             for i in range(len(venue_data[\"id\"])):\n",
    "#             #while len(prices)<5 and i<5: #try up to LIMIT times to get 5 price data\n",
    "#                 ID          = venue_data.iloc[i][\"id\"]\n",
    "#                 details_url = \"https://api.foursquare.com/v2/venues/{}?&client_id={}&client_secret={}&v={}\".format(ID,CLIENT_ID,CLIENT_SECRET,VERSION)\n",
    "#                 output      = rq.get(details_url).json()\n",
    "\n",
    "#                 try:      # just in case there is no price data for a particular location\n",
    "#                     price_tier = output[\"response\"][\"venue\"][\"price\"][\"tier\"]\n",
    "#                     prices.append(price_tier)\n",
    "#                 except: \n",
    "#                     continue\n",
    "#                 #i=i+1\n",
    "#             avg_price = np.mean(prices) # what if none of the venues have price data? avg_price = nan ? I hope this doesn't happen...\n",
    "#             price_data.at[country,cats[j]] = avg_price\n",
    "#             j = j+1\n",
    "#         #all_prices.append(price_data)\n"
   ]
  },
  {
   "cell_type": "code",
   "execution_count": null,
   "metadata": {},
   "outputs": [],
   "source": []
  },
  {
   "cell_type": "code",
   "execution_count": 52,
   "metadata": {},
   "outputs": [],
   "source": [
    "#debug cell. uncomment an item to check the most recent result\n",
    "\n",
    "#venues\n",
    "#all_prices\n",
    "#price_data\n",
    "#prices\n",
    "#output[\"response\"][\"venue\"][\"price\"]\n",
    "#output\n",
    "#venues[0:3]\n",
    "#search_url\n",
    "#cat_ids\n",
    "#venue_data "
   ]
  },
  {
   "cell_type": "code",
   "execution_count": 53,
   "metadata": {},
   "outputs": [],
   "source": [
    "#price_data.to_csv(\"{}-{}.csv\".format(name,date.today()))"
   ]
  },
  {
   "cell_type": "code",
   "execution_count": 54,
   "metadata": {},
   "outputs": [],
   "source": [
    "# price_frame1 = pd.read_csv(\"day1-2021-02-07.csv\")\n",
    "# price_frame2 = pd.read_csv(\"day2-2021-02-08.csv\")\n",
    "# price_frame3 = pd.read_csv(\"day3-2021-02-08.csv\")\n",
    "# #price_frame = price_data      # use if the get requests have been executed in this session"
   ]
  },
  {
   "cell_type": "code",
   "execution_count": 55,
   "metadata": {},
   "outputs": [],
   "source": [
    "#all_price_data = (price_frame1.append(price_frame2)).append(price_frame3)"
   ]
  },
  {
   "cell_type": "code",
   "execution_count": 56,
   "metadata": {},
   "outputs": [],
   "source": [
    "#all_price_data"
   ]
  },
  {
   "cell_type": "code",
   "execution_count": 57,
   "metadata": {},
   "outputs": [],
   "source": [
    "# all_price_data.rename(columns={\"Unnamed: 0\" : \"Country\"},inplace = True)\n",
    "# all_price_data.rename(columns={\"Food\" : \"Food average price tier\"},inplace = True)\n",
    "# all_price_data.rename(columns={\"Nightlife Spot\" : \"Nightlife average price tier\"},inplace = True)\n",
    "# all_price_data.set_index(\"Country\",inplace=True)"
   ]
  },
  {
   "cell_type": "code",
   "execution_count": 58,
   "metadata": {},
   "outputs": [],
   "source": [
    "#all_price_data"
   ]
  },
  {
   "cell_type": "markdown",
   "metadata": {},
   "source": [
    "Finally, add the price data to the coordinate and GDP data."
   ]
  },
  {
   "cell_type": "code",
   "execution_count": 59,
   "metadata": {},
   "outputs": [],
   "source": [
    "# final_frame = gdp_coord_frame.join(all_price_data) \n",
    "# #final_frame"
   ]
  },
  {
   "cell_type": "code",
   "execution_count": 60,
   "metadata": {},
   "outputs": [],
   "source": [
    "# final_frame.drop(\"Saint Lucia\", inplace=True)\n",
    "# final_frame"
   ]
  },
  {
   "cell_type": "code",
   "execution_count": 61,
   "metadata": {},
   "outputs": [],
   "source": [
    "#final_frame.to_csv(\"my_data.csv\")"
   ]
  },
  {
   "cell_type": "code",
   "execution_count": 62,
   "metadata": {},
   "outputs": [
    {
     "data": {
      "text/html": [
       "<div>\n",
       "<style scoped>\n",
       "    .dataframe tbody tr th:only-of-type {\n",
       "        vertical-align: middle;\n",
       "    }\n",
       "\n",
       "    .dataframe tbody tr th {\n",
       "        vertical-align: top;\n",
       "    }\n",
       "\n",
       "    .dataframe thead th {\n",
       "        text-align: right;\n",
       "    }\n",
       "</style>\n",
       "<table border=\"1\" class=\"dataframe\">\n",
       "  <thead>\n",
       "    <tr style=\"text-align: right;\">\n",
       "      <th></th>\n",
       "      <th>GDP (PPP) per capita</th>\n",
       "      <th>GDP (nominal) per capita</th>\n",
       "      <th>Capital</th>\n",
       "      <th>Latitude</th>\n",
       "      <th>Longitude</th>\n",
       "      <th>Food average price tier</th>\n",
       "      <th>Nightlife average price tier</th>\n",
       "    </tr>\n",
       "    <tr>\n",
       "      <th>Country</th>\n",
       "      <th></th>\n",
       "      <th></th>\n",
       "      <th></th>\n",
       "      <th></th>\n",
       "      <th></th>\n",
       "      <th></th>\n",
       "      <th></th>\n",
       "    </tr>\n",
       "  </thead>\n",
       "  <tbody>\n",
       "    <tr>\n",
       "      <th>Antigua and Barbuda</th>\n",
       "      <td>27542</td>\n",
       "      <td>14159</td>\n",
       "      <td>Saint John's</td>\n",
       "      <td>17.20</td>\n",
       "      <td>-61.48</td>\n",
       "      <td>1.894737</td>\n",
       "      <td>2.400000</td>\n",
       "    </tr>\n",
       "    <tr>\n",
       "      <th>Barbados</th>\n",
       "      <td>18866</td>\n",
       "      <td>16082</td>\n",
       "      <td>Bridgetown</td>\n",
       "      <td>13.05</td>\n",
       "      <td>-59.30</td>\n",
       "      <td>1.526316</td>\n",
       "      <td>1.875000</td>\n",
       "    </tr>\n",
       "    <tr>\n",
       "      <th>Belize</th>\n",
       "      <td>8467</td>\n",
       "      <td>3734</td>\n",
       "      <td>Belmopan</td>\n",
       "      <td>17.18</td>\n",
       "      <td>-88.30</td>\n",
       "      <td>1.500000</td>\n",
       "      <td>2.500000</td>\n",
       "    </tr>\n",
       "    <tr>\n",
       "      <th>Dominica</th>\n",
       "      <td>9726</td>\n",
       "      <td>7709</td>\n",
       "      <td>Roseau</td>\n",
       "      <td>15.20</td>\n",
       "      <td>-61.24</td>\n",
       "      <td>1.736842</td>\n",
       "      <td>2.357143</td>\n",
       "    </tr>\n",
       "    <tr>\n",
       "      <th>Grenada</th>\n",
       "      <td>16033</td>\n",
       "      <td>9824</td>\n",
       "      <td>Saint George's</td>\n",
       "      <td>12.05</td>\n",
       "      <td>-61.75</td>\n",
       "      <td>1.722222</td>\n",
       "      <td>1.947368</td>\n",
       "    </tr>\n",
       "    <tr>\n",
       "      <th>Guyana</th>\n",
       "      <td>8524</td>\n",
       "      <td>8649</td>\n",
       "      <td>Georgetown</td>\n",
       "      <td>6.50</td>\n",
       "      <td>-58.12</td>\n",
       "      <td>1.125000</td>\n",
       "      <td>2.200000</td>\n",
       "    </tr>\n",
       "    <tr>\n",
       "      <th>Haiti</th>\n",
       "      <td>1940</td>\n",
       "      <td>732</td>\n",
       "      <td>Port-au-Prince</td>\n",
       "      <td>18.40</td>\n",
       "      <td>-72.20</td>\n",
       "      <td>1.600000</td>\n",
       "      <td>2.312500</td>\n",
       "    </tr>\n",
       "    <tr>\n",
       "      <th>Jamaica</th>\n",
       "      <td>9726</td>\n",
       "      <td>5221</td>\n",
       "      <td>Kingston</td>\n",
       "      <td>18.00</td>\n",
       "      <td>-76.50</td>\n",
       "      <td>1.277778</td>\n",
       "      <td>2.066667</td>\n",
       "    </tr>\n",
       "    <tr>\n",
       "      <th>Saint Kitts and Nevis</th>\n",
       "      <td>29098</td>\n",
       "      <td>15246</td>\n",
       "      <td>Basseterre</td>\n",
       "      <td>17.17</td>\n",
       "      <td>-62.43</td>\n",
       "      <td>1.894737</td>\n",
       "      <td>2.125000</td>\n",
       "    </tr>\n",
       "    <tr>\n",
       "      <th>Saint Vincent and the Grenadines</th>\n",
       "      <td>11965</td>\n",
       "      <td>7033</td>\n",
       "      <td>Kingstown</td>\n",
       "      <td>13.10</td>\n",
       "      <td>-61.10</td>\n",
       "      <td>1.533333</td>\n",
       "      <td>2.250000</td>\n",
       "    </tr>\n",
       "    <tr>\n",
       "      <th>Suriname</th>\n",
       "      <td>15362</td>\n",
       "      <td>4199</td>\n",
       "      <td>Paramaribo</td>\n",
       "      <td>5.50</td>\n",
       "      <td>-55.10</td>\n",
       "      <td>1.315789</td>\n",
       "      <td>2.333333</td>\n",
       "    </tr>\n",
       "    <tr>\n",
       "      <th>The Bahamas</th>\n",
       "      <td>33516</td>\n",
       "      <td>30027</td>\n",
       "      <td>Nassau</td>\n",
       "      <td>25.05</td>\n",
       "      <td>-77.20</td>\n",
       "      <td>1.650000</td>\n",
       "      <td>2.000000</td>\n",
       "    </tr>\n",
       "    <tr>\n",
       "      <th>Trinidad and Tobago</th>\n",
       "      <td>33026</td>\n",
       "      <td>16197</td>\n",
       "      <td>Port of Spain</td>\n",
       "      <td>10.67</td>\n",
       "      <td>-61.52</td>\n",
       "      <td>1.157895</td>\n",
       "      <td>1.700000</td>\n",
       "    </tr>\n",
       "  </tbody>\n",
       "</table>\n",
       "</div>"
      ],
      "text/plain": [
       "                                  GDP (PPP) per capita  \\\n",
       "Country                                                  \n",
       "Antigua and Barbuda                              27542   \n",
       "Barbados                                         18866   \n",
       "Belize                                            8467   \n",
       "Dominica                                          9726   \n",
       "Grenada                                          16033   \n",
       "Guyana                                            8524   \n",
       "Haiti                                             1940   \n",
       "Jamaica                                           9726   \n",
       "Saint Kitts and Nevis                            29098   \n",
       "Saint Vincent and the Grenadines                 11965   \n",
       "Suriname                                         15362   \n",
       "The Bahamas                                      33516   \n",
       "Trinidad and Tobago                              33026   \n",
       "\n",
       "                                  GDP (nominal) per capita         Capital  \\\n",
       "Country                                                                      \n",
       "Antigua and Barbuda                                  14159    Saint John's   \n",
       "Barbados                                             16082      Bridgetown   \n",
       "Belize                                                3734        Belmopan   \n",
       "Dominica                                              7709          Roseau   \n",
       "Grenada                                               9824  Saint George's   \n",
       "Guyana                                                8649      Georgetown   \n",
       "Haiti                                                  732  Port-au-Prince   \n",
       "Jamaica                                               5221        Kingston   \n",
       "Saint Kitts and Nevis                                15246      Basseterre   \n",
       "Saint Vincent and the Grenadines                      7033       Kingstown   \n",
       "Suriname                                              4199      Paramaribo   \n",
       "The Bahamas                                          30027          Nassau   \n",
       "Trinidad and Tobago                                  16197   Port of Spain   \n",
       "\n",
       "                                  Latitude  Longitude  \\\n",
       "Country                                                 \n",
       "Antigua and Barbuda                  17.20     -61.48   \n",
       "Barbados                             13.05     -59.30   \n",
       "Belize                               17.18     -88.30   \n",
       "Dominica                             15.20     -61.24   \n",
       "Grenada                              12.05     -61.75   \n",
       "Guyana                                6.50     -58.12   \n",
       "Haiti                                18.40     -72.20   \n",
       "Jamaica                              18.00     -76.50   \n",
       "Saint Kitts and Nevis                17.17     -62.43   \n",
       "Saint Vincent and the Grenadines     13.10     -61.10   \n",
       "Suriname                              5.50     -55.10   \n",
       "The Bahamas                          25.05     -77.20   \n",
       "Trinidad and Tobago                  10.67     -61.52   \n",
       "\n",
       "                                  Food average price tier  \\\n",
       "Country                                                     \n",
       "Antigua and Barbuda                              1.894737   \n",
       "Barbados                                         1.526316   \n",
       "Belize                                           1.500000   \n",
       "Dominica                                         1.736842   \n",
       "Grenada                                          1.722222   \n",
       "Guyana                                           1.125000   \n",
       "Haiti                                            1.600000   \n",
       "Jamaica                                          1.277778   \n",
       "Saint Kitts and Nevis                            1.894737   \n",
       "Saint Vincent and the Grenadines                 1.533333   \n",
       "Suriname                                         1.315789   \n",
       "The Bahamas                                      1.650000   \n",
       "Trinidad and Tobago                              1.157895   \n",
       "\n",
       "                                  Nightlife average price tier  \n",
       "Country                                                         \n",
       "Antigua and Barbuda                                   2.400000  \n",
       "Barbados                                              1.875000  \n",
       "Belize                                                2.500000  \n",
       "Dominica                                              2.357143  \n",
       "Grenada                                               1.947368  \n",
       "Guyana                                                2.200000  \n",
       "Haiti                                                 2.312500  \n",
       "Jamaica                                               2.066667  \n",
       "Saint Kitts and Nevis                                 2.125000  \n",
       "Saint Vincent and the Grenadines                      2.250000  \n",
       "Suriname                                              2.333333  \n",
       "The Bahamas                                           2.000000  \n",
       "Trinidad and Tobago                                   1.700000  "
      ]
     },
     "execution_count": 62,
     "metadata": {},
     "output_type": "execute_result"
    }
   ],
   "source": [
    "final_frame = (pd.read_csv(\"my_data.csv\")).set_index(\"Country\") \n",
    "final_frame"
   ]
  },
  {
   "cell_type": "code",
   "execution_count": 63,
   "metadata": {},
   "outputs": [
    {
     "data": {
      "text/html": [
       "<div style=\"width:100%;\"><div style=\"position:relative;width:100%;height:0;padding-bottom:60%;\"><span style=\"color:#565656\">Make this Notebook Trusted to load map: File -> Trust Notebook</span><iframe src=\"about:blank\" style=\"position:absolute;width:100%;height:100%;left:0;top:0;border:none !important;\" data-html=%3C%21DOCTYPE%20html%3E%0A%3Chead%3E%20%20%20%20%0A%20%20%20%20%3Cmeta%20http-equiv%3D%22content-type%22%20content%3D%22text/html%3B%20charset%3DUTF-8%22%20/%3E%0A%20%20%20%20%0A%20%20%20%20%20%20%20%20%3Cscript%3E%0A%20%20%20%20%20%20%20%20%20%20%20%20L_NO_TOUCH%20%3D%20false%3B%0A%20%20%20%20%20%20%20%20%20%20%20%20L_DISABLE_3D%20%3D%20false%3B%0A%20%20%20%20%20%20%20%20%3C/script%3E%0A%20%20%20%20%0A%20%20%20%20%3Cstyle%3Ehtml%2C%20body%20%7Bwidth%3A%20100%25%3Bheight%3A%20100%25%3Bmargin%3A%200%3Bpadding%3A%200%3B%7D%3C/style%3E%0A%20%20%20%20%3Cstyle%3E%23map%20%7Bposition%3Aabsolute%3Btop%3A0%3Bbottom%3A0%3Bright%3A0%3Bleft%3A0%3B%7D%3C/style%3E%0A%20%20%20%20%3Cscript%20src%3D%22https%3A//cdn.jsdelivr.net/npm/leaflet%401.6.0/dist/leaflet.js%22%3E%3C/script%3E%0A%20%20%20%20%3Cscript%20src%3D%22https%3A//code.jquery.com/jquery-1.12.4.min.js%22%3E%3C/script%3E%0A%20%20%20%20%3Cscript%20src%3D%22https%3A//maxcdn.bootstrapcdn.com/bootstrap/3.2.0/js/bootstrap.min.js%22%3E%3C/script%3E%0A%20%20%20%20%3Cscript%20src%3D%22https%3A//cdnjs.cloudflare.com/ajax/libs/Leaflet.awesome-markers/2.0.2/leaflet.awesome-markers.js%22%3E%3C/script%3E%0A%20%20%20%20%3Clink%20rel%3D%22stylesheet%22%20href%3D%22https%3A//cdn.jsdelivr.net/npm/leaflet%401.6.0/dist/leaflet.css%22/%3E%0A%20%20%20%20%3Clink%20rel%3D%22stylesheet%22%20href%3D%22https%3A//maxcdn.bootstrapcdn.com/bootstrap/3.2.0/css/bootstrap.min.css%22/%3E%0A%20%20%20%20%3Clink%20rel%3D%22stylesheet%22%20href%3D%22https%3A//maxcdn.bootstrapcdn.com/bootstrap/3.2.0/css/bootstrap-theme.min.css%22/%3E%0A%20%20%20%20%3Clink%20rel%3D%22stylesheet%22%20href%3D%22https%3A//maxcdn.bootstrapcdn.com/font-awesome/4.6.3/css/font-awesome.min.css%22/%3E%0A%20%20%20%20%3Clink%20rel%3D%22stylesheet%22%20href%3D%22https%3A//cdnjs.cloudflare.com/ajax/libs/Leaflet.awesome-markers/2.0.2/leaflet.awesome-markers.css%22/%3E%0A%20%20%20%20%3Clink%20rel%3D%22stylesheet%22%20href%3D%22https%3A//cdn.jsdelivr.net/gh/python-visualization/folium/folium/templates/leaflet.awesome.rotate.min.css%22/%3E%0A%20%20%20%20%0A%20%20%20%20%20%20%20%20%20%20%20%20%3Cmeta%20name%3D%22viewport%22%20content%3D%22width%3Ddevice-width%2C%0A%20%20%20%20%20%20%20%20%20%20%20%20%20%20%20%20initial-scale%3D1.0%2C%20maximum-scale%3D1.0%2C%20user-scalable%3Dno%22%20/%3E%0A%20%20%20%20%20%20%20%20%20%20%20%20%3Cstyle%3E%0A%20%20%20%20%20%20%20%20%20%20%20%20%20%20%20%20%23map_f72d3cb61781487ead49a4bc964ea624%20%7B%0A%20%20%20%20%20%20%20%20%20%20%20%20%20%20%20%20%20%20%20%20position%3A%20relative%3B%0A%20%20%20%20%20%20%20%20%20%20%20%20%20%20%20%20%20%20%20%20width%3A%20100.0%25%3B%0A%20%20%20%20%20%20%20%20%20%20%20%20%20%20%20%20%20%20%20%20height%3A%20100.0%25%3B%0A%20%20%20%20%20%20%20%20%20%20%20%20%20%20%20%20%20%20%20%20left%3A%200.0%25%3B%0A%20%20%20%20%20%20%20%20%20%20%20%20%20%20%20%20%20%20%20%20top%3A%200.0%25%3B%0A%20%20%20%20%20%20%20%20%20%20%20%20%20%20%20%20%7D%0A%20%20%20%20%20%20%20%20%20%20%20%20%3C/style%3E%0A%20%20%20%20%20%20%20%20%0A%3C/head%3E%0A%3Cbody%3E%20%20%20%20%0A%20%20%20%20%0A%20%20%20%20%20%20%20%20%20%20%20%20%3Cdiv%20class%3D%22folium-map%22%20id%3D%22map_f72d3cb61781487ead49a4bc964ea624%22%20%3E%3C/div%3E%0A%20%20%20%20%20%20%20%20%0A%3C/body%3E%0A%3Cscript%3E%20%20%20%20%0A%20%20%20%20%0A%20%20%20%20%20%20%20%20%20%20%20%20var%20map_f72d3cb61781487ead49a4bc964ea624%20%3D%20L.map%28%0A%20%20%20%20%20%20%20%20%20%20%20%20%20%20%20%20%22map_f72d3cb61781487ead49a4bc964ea624%22%2C%0A%20%20%20%20%20%20%20%20%20%20%20%20%20%20%20%20%7B%0A%20%20%20%20%20%20%20%20%20%20%20%20%20%20%20%20%20%20%20%20center%3A%20%5B16.5%2C%20-73.5%5D%2C%0A%20%20%20%20%20%20%20%20%20%20%20%20%20%20%20%20%20%20%20%20crs%3A%20L.CRS.EPSG3857%2C%0A%20%20%20%20%20%20%20%20%20%20%20%20%20%20%20%20%20%20%20%20zoom%3A%205%2C%0A%20%20%20%20%20%20%20%20%20%20%20%20%20%20%20%20%20%20%20%20zoomControl%3A%20true%2C%0A%20%20%20%20%20%20%20%20%20%20%20%20%20%20%20%20%20%20%20%20preferCanvas%3A%20false%2C%0A%20%20%20%20%20%20%20%20%20%20%20%20%20%20%20%20%7D%0A%20%20%20%20%20%20%20%20%20%20%20%20%29%3B%0A%0A%20%20%20%20%20%20%20%20%20%20%20%20%0A%0A%20%20%20%20%20%20%20%20%0A%20%20%20%20%0A%20%20%20%20%20%20%20%20%20%20%20%20var%20tile_layer_dc7291dcc51b422d91549ff4afa3bc28%20%3D%20L.tileLayer%28%0A%20%20%20%20%20%20%20%20%20%20%20%20%20%20%20%20%22https%3A//%7Bs%7D.tile.openstreetmap.org/%7Bz%7D/%7Bx%7D/%7By%7D.png%22%2C%0A%20%20%20%20%20%20%20%20%20%20%20%20%20%20%20%20%7B%22attribution%22%3A%20%22Data%20by%20%5Cu0026copy%3B%20%5Cu003ca%20href%3D%5C%22http%3A//openstreetmap.org%5C%22%5Cu003eOpenStreetMap%5Cu003c/a%5Cu003e%2C%20under%20%5Cu003ca%20href%3D%5C%22http%3A//www.openstreetmap.org/copyright%5C%22%5Cu003eODbL%5Cu003c/a%5Cu003e.%22%2C%20%22detectRetina%22%3A%20false%2C%20%22maxNativeZoom%22%3A%2018%2C%20%22maxZoom%22%3A%2018%2C%20%22minZoom%22%3A%200%2C%20%22noWrap%22%3A%20false%2C%20%22opacity%22%3A%201%2C%20%22subdomains%22%3A%20%22abc%22%2C%20%22tms%22%3A%20false%7D%0A%20%20%20%20%20%20%20%20%20%20%20%20%29.addTo%28map_f72d3cb61781487ead49a4bc964ea624%29%3B%0A%20%20%20%20%20%20%20%20%0A%20%20%20%20%0A%20%20%20%20%20%20%20%20%20%20%20%20var%20circle_marker_1b53419b3ca645e3ac8cb72a9e0ca4cc%20%3D%20L.circleMarker%28%0A%20%20%20%20%20%20%20%20%20%20%20%20%20%20%20%20%5B17.2%2C%20-61.48%5D%2C%0A%20%20%20%20%20%20%20%20%20%20%20%20%20%20%20%20%7B%22bubblingMouseEvents%22%3A%20true%2C%20%22color%22%3A%20%22red%22%2C%20%22dashArray%22%3A%20null%2C%20%22dashOffset%22%3A%20null%2C%20%22fill%22%3A%20false%2C%20%22fillColor%22%3A%20%22red%22%2C%20%22fillOpacity%22%3A%200.2%2C%20%22fillRule%22%3A%20%22evenodd%22%2C%20%22lineCap%22%3A%20%22round%22%2C%20%22lineJoin%22%3A%20%22round%22%2C%20%22opacity%22%3A%201.0%2C%20%22radius%22%3A%209.473684210526317%2C%20%22stroke%22%3A%20true%2C%20%22weight%22%3A%203%7D%0A%20%20%20%20%20%20%20%20%20%20%20%20%29.addTo%28map_f72d3cb61781487ead49a4bc964ea624%29%3B%0A%20%20%20%20%20%20%20%20%0A%20%20%20%20%0A%20%20%20%20%20%20%20%20%20%20%20%20var%20circle_marker_fdd04c21409c425bb8ea08a26018eb0d%20%3D%20L.circleMarker%28%0A%20%20%20%20%20%20%20%20%20%20%20%20%20%20%20%20%5B13.05%2C%20-59.3%5D%2C%0A%20%20%20%20%20%20%20%20%20%20%20%20%20%20%20%20%7B%22bubblingMouseEvents%22%3A%20true%2C%20%22color%22%3A%20%22red%22%2C%20%22dashArray%22%3A%20null%2C%20%22dashOffset%22%3A%20null%2C%20%22fill%22%3A%20false%2C%20%22fillColor%22%3A%20%22red%22%2C%20%22fillOpacity%22%3A%200.2%2C%20%22fillRule%22%3A%20%22evenodd%22%2C%20%22lineCap%22%3A%20%22round%22%2C%20%22lineJoin%22%3A%20%22round%22%2C%20%22opacity%22%3A%201.0%2C%20%22radius%22%3A%207.631578947368421%2C%20%22stroke%22%3A%20true%2C%20%22weight%22%3A%203%7D%0A%20%20%20%20%20%20%20%20%20%20%20%20%29.addTo%28map_f72d3cb61781487ead49a4bc964ea624%29%3B%0A%20%20%20%20%20%20%20%20%0A%20%20%20%20%0A%20%20%20%20%20%20%20%20%20%20%20%20var%20circle_marker_9086b13ecccb4750901c0d7ac31e6702%20%3D%20L.circleMarker%28%0A%20%20%20%20%20%20%20%20%20%20%20%20%20%20%20%20%5B17.18%2C%20-88.3%5D%2C%0A%20%20%20%20%20%20%20%20%20%20%20%20%20%20%20%20%7B%22bubblingMouseEvents%22%3A%20true%2C%20%22color%22%3A%20%22red%22%2C%20%22dashArray%22%3A%20null%2C%20%22dashOffset%22%3A%20null%2C%20%22fill%22%3A%20false%2C%20%22fillColor%22%3A%20%22red%22%2C%20%22fillOpacity%22%3A%200.2%2C%20%22fillRule%22%3A%20%22evenodd%22%2C%20%22lineCap%22%3A%20%22round%22%2C%20%22lineJoin%22%3A%20%22round%22%2C%20%22opacity%22%3A%201.0%2C%20%22radius%22%3A%207.5%2C%20%22stroke%22%3A%20true%2C%20%22weight%22%3A%203%7D%0A%20%20%20%20%20%20%20%20%20%20%20%20%29.addTo%28map_f72d3cb61781487ead49a4bc964ea624%29%3B%0A%20%20%20%20%20%20%20%20%0A%20%20%20%20%0A%20%20%20%20%20%20%20%20%20%20%20%20var%20circle_marker_d3bcd377f72349e9a18e95c1086fb74a%20%3D%20L.circleMarker%28%0A%20%20%20%20%20%20%20%20%20%20%20%20%20%20%20%20%5B15.2%2C%20-61.24%5D%2C%0A%20%20%20%20%20%20%20%20%20%20%20%20%20%20%20%20%7B%22bubblingMouseEvents%22%3A%20true%2C%20%22color%22%3A%20%22red%22%2C%20%22dashArray%22%3A%20null%2C%20%22dashOffset%22%3A%20null%2C%20%22fill%22%3A%20false%2C%20%22fillColor%22%3A%20%22red%22%2C%20%22fillOpacity%22%3A%200.2%2C%20%22fillRule%22%3A%20%22evenodd%22%2C%20%22lineCap%22%3A%20%22round%22%2C%20%22lineJoin%22%3A%20%22round%22%2C%20%22opacity%22%3A%201.0%2C%20%22radius%22%3A%208.684210526315791%2C%20%22stroke%22%3A%20true%2C%20%22weight%22%3A%203%7D%0A%20%20%20%20%20%20%20%20%20%20%20%20%29.addTo%28map_f72d3cb61781487ead49a4bc964ea624%29%3B%0A%20%20%20%20%20%20%20%20%0A%20%20%20%20%0A%20%20%20%20%20%20%20%20%20%20%20%20var%20circle_marker_c54826454b134b7f95ffcaf41a825804%20%3D%20L.circleMarker%28%0A%20%20%20%20%20%20%20%20%20%20%20%20%20%20%20%20%5B12.05%2C%20-61.75%5D%2C%0A%20%20%20%20%20%20%20%20%20%20%20%20%20%20%20%20%7B%22bubblingMouseEvents%22%3A%20true%2C%20%22color%22%3A%20%22red%22%2C%20%22dashArray%22%3A%20null%2C%20%22dashOffset%22%3A%20null%2C%20%22fill%22%3A%20false%2C%20%22fillColor%22%3A%20%22red%22%2C%20%22fillOpacity%22%3A%200.2%2C%20%22fillRule%22%3A%20%22evenodd%22%2C%20%22lineCap%22%3A%20%22round%22%2C%20%22lineJoin%22%3A%20%22round%22%2C%20%22opacity%22%3A%201.0%2C%20%22radius%22%3A%208.61111111111111%2C%20%22stroke%22%3A%20true%2C%20%22weight%22%3A%203%7D%0A%20%20%20%20%20%20%20%20%20%20%20%20%29.addTo%28map_f72d3cb61781487ead49a4bc964ea624%29%3B%0A%20%20%20%20%20%20%20%20%0A%20%20%20%20%0A%20%20%20%20%20%20%20%20%20%20%20%20var%20circle_marker_2d46a565330b48fb851f37ae757ca3b2%20%3D%20L.circleMarker%28%0A%20%20%20%20%20%20%20%20%20%20%20%20%20%20%20%20%5B6.5%2C%20-58.12%5D%2C%0A%20%20%20%20%20%20%20%20%20%20%20%20%20%20%20%20%7B%22bubblingMouseEvents%22%3A%20true%2C%20%22color%22%3A%20%22red%22%2C%20%22dashArray%22%3A%20null%2C%20%22dashOffset%22%3A%20null%2C%20%22fill%22%3A%20false%2C%20%22fillColor%22%3A%20%22red%22%2C%20%22fillOpacity%22%3A%200.2%2C%20%22fillRule%22%3A%20%22evenodd%22%2C%20%22lineCap%22%3A%20%22round%22%2C%20%22lineJoin%22%3A%20%22round%22%2C%20%22opacity%22%3A%201.0%2C%20%22radius%22%3A%205.625%2C%20%22stroke%22%3A%20true%2C%20%22weight%22%3A%203%7D%0A%20%20%20%20%20%20%20%20%20%20%20%20%29.addTo%28map_f72d3cb61781487ead49a4bc964ea624%29%3B%0A%20%20%20%20%20%20%20%20%0A%20%20%20%20%0A%20%20%20%20%20%20%20%20%20%20%20%20var%20circle_marker_d7177d0cc5ad4657902ffbd79002416a%20%3D%20L.circleMarker%28%0A%20%20%20%20%20%20%20%20%20%20%20%20%20%20%20%20%5B18.4%2C%20-72.2%5D%2C%0A%20%20%20%20%20%20%20%20%20%20%20%20%20%20%20%20%7B%22bubblingMouseEvents%22%3A%20true%2C%20%22color%22%3A%20%22red%22%2C%20%22dashArray%22%3A%20null%2C%20%22dashOffset%22%3A%20null%2C%20%22fill%22%3A%20false%2C%20%22fillColor%22%3A%20%22red%22%2C%20%22fillOpacity%22%3A%200.2%2C%20%22fillRule%22%3A%20%22evenodd%22%2C%20%22lineCap%22%3A%20%22round%22%2C%20%22lineJoin%22%3A%20%22round%22%2C%20%22opacity%22%3A%201.0%2C%20%22radius%22%3A%208.0%2C%20%22stroke%22%3A%20true%2C%20%22weight%22%3A%203%7D%0A%20%20%20%20%20%20%20%20%20%20%20%20%29.addTo%28map_f72d3cb61781487ead49a4bc964ea624%29%3B%0A%20%20%20%20%20%20%20%20%0A%20%20%20%20%0A%20%20%20%20%20%20%20%20%20%20%20%20var%20circle_marker_be7231b4edb3459ab8bbd50547516962%20%3D%20L.circleMarker%28%0A%20%20%20%20%20%20%20%20%20%20%20%20%20%20%20%20%5B18.0%2C%20-76.5%5D%2C%0A%20%20%20%20%20%20%20%20%20%20%20%20%20%20%20%20%7B%22bubblingMouseEvents%22%3A%20true%2C%20%22color%22%3A%20%22red%22%2C%20%22dashArray%22%3A%20null%2C%20%22dashOffset%22%3A%20null%2C%20%22fill%22%3A%20false%2C%20%22fillColor%22%3A%20%22red%22%2C%20%22fillOpacity%22%3A%200.2%2C%20%22fillRule%22%3A%20%22evenodd%22%2C%20%22lineCap%22%3A%20%22round%22%2C%20%22lineJoin%22%3A%20%22round%22%2C%20%22opacity%22%3A%201.0%2C%20%22radius%22%3A%206.388888888888888%2C%20%22stroke%22%3A%20true%2C%20%22weight%22%3A%203%7D%0A%20%20%20%20%20%20%20%20%20%20%20%20%29.addTo%28map_f72d3cb61781487ead49a4bc964ea624%29%3B%0A%20%20%20%20%20%20%20%20%0A%20%20%20%20%0A%20%20%20%20%20%20%20%20%20%20%20%20var%20circle_marker_0224e85c075448d0a497e15e6b3b9576%20%3D%20L.circleMarker%28%0A%20%20%20%20%20%20%20%20%20%20%20%20%20%20%20%20%5B17.17%2C%20-62.43%5D%2C%0A%20%20%20%20%20%20%20%20%20%20%20%20%20%20%20%20%7B%22bubblingMouseEvents%22%3A%20true%2C%20%22color%22%3A%20%22red%22%2C%20%22dashArray%22%3A%20null%2C%20%22dashOffset%22%3A%20null%2C%20%22fill%22%3A%20false%2C%20%22fillColor%22%3A%20%22red%22%2C%20%22fillOpacity%22%3A%200.2%2C%20%22fillRule%22%3A%20%22evenodd%22%2C%20%22lineCap%22%3A%20%22round%22%2C%20%22lineJoin%22%3A%20%22round%22%2C%20%22opacity%22%3A%201.0%2C%20%22radius%22%3A%209.473684210526317%2C%20%22stroke%22%3A%20true%2C%20%22weight%22%3A%203%7D%0A%20%20%20%20%20%20%20%20%20%20%20%20%29.addTo%28map_f72d3cb61781487ead49a4bc964ea624%29%3B%0A%20%20%20%20%20%20%20%20%0A%20%20%20%20%0A%20%20%20%20%20%20%20%20%20%20%20%20var%20circle_marker_5e667c27ccb04bcf8f4ddd13874ad9c0%20%3D%20L.circleMarker%28%0A%20%20%20%20%20%20%20%20%20%20%20%20%20%20%20%20%5B13.1%2C%20-61.1%5D%2C%0A%20%20%20%20%20%20%20%20%20%20%20%20%20%20%20%20%7B%22bubblingMouseEvents%22%3A%20true%2C%20%22color%22%3A%20%22red%22%2C%20%22dashArray%22%3A%20null%2C%20%22dashOffset%22%3A%20null%2C%20%22fill%22%3A%20false%2C%20%22fillColor%22%3A%20%22red%22%2C%20%22fillOpacity%22%3A%200.2%2C%20%22fillRule%22%3A%20%22evenodd%22%2C%20%22lineCap%22%3A%20%22round%22%2C%20%22lineJoin%22%3A%20%22round%22%2C%20%22opacity%22%3A%201.0%2C%20%22radius%22%3A%207.666666666666667%2C%20%22stroke%22%3A%20true%2C%20%22weight%22%3A%203%7D%0A%20%20%20%20%20%20%20%20%20%20%20%20%29.addTo%28map_f72d3cb61781487ead49a4bc964ea624%29%3B%0A%20%20%20%20%20%20%20%20%0A%20%20%20%20%0A%20%20%20%20%20%20%20%20%20%20%20%20var%20circle_marker_ba1c900e5ae54c508249452eb4ec48b0%20%3D%20L.circleMarker%28%0A%20%20%20%20%20%20%20%20%20%20%20%20%20%20%20%20%5B5.5%2C%20-55.1%5D%2C%0A%20%20%20%20%20%20%20%20%20%20%20%20%20%20%20%20%7B%22bubblingMouseEvents%22%3A%20true%2C%20%22color%22%3A%20%22red%22%2C%20%22dashArray%22%3A%20null%2C%20%22dashOffset%22%3A%20null%2C%20%22fill%22%3A%20false%2C%20%22fillColor%22%3A%20%22red%22%2C%20%22fillOpacity%22%3A%200.2%2C%20%22fillRule%22%3A%20%22evenodd%22%2C%20%22lineCap%22%3A%20%22round%22%2C%20%22lineJoin%22%3A%20%22round%22%2C%20%22opacity%22%3A%201.0%2C%20%22radius%22%3A%206.578947368421053%2C%20%22stroke%22%3A%20true%2C%20%22weight%22%3A%203%7D%0A%20%20%20%20%20%20%20%20%20%20%20%20%29.addTo%28map_f72d3cb61781487ead49a4bc964ea624%29%3B%0A%20%20%20%20%20%20%20%20%0A%20%20%20%20%0A%20%20%20%20%20%20%20%20%20%20%20%20var%20circle_marker_57424c262da94cec832a2342386f13f4%20%3D%20L.circleMarker%28%0A%20%20%20%20%20%20%20%20%20%20%20%20%20%20%20%20%5B25.05%2C%20-77.2%5D%2C%0A%20%20%20%20%20%20%20%20%20%20%20%20%20%20%20%20%7B%22bubblingMouseEvents%22%3A%20true%2C%20%22color%22%3A%20%22red%22%2C%20%22dashArray%22%3A%20null%2C%20%22dashOffset%22%3A%20null%2C%20%22fill%22%3A%20false%2C%20%22fillColor%22%3A%20%22red%22%2C%20%22fillOpacity%22%3A%200.2%2C%20%22fillRule%22%3A%20%22evenodd%22%2C%20%22lineCap%22%3A%20%22round%22%2C%20%22lineJoin%22%3A%20%22round%22%2C%20%22opacity%22%3A%201.0%2C%20%22radius%22%3A%208.25%2C%20%22stroke%22%3A%20true%2C%20%22weight%22%3A%203%7D%0A%20%20%20%20%20%20%20%20%20%20%20%20%29.addTo%28map_f72d3cb61781487ead49a4bc964ea624%29%3B%0A%20%20%20%20%20%20%20%20%0A%20%20%20%20%0A%20%20%20%20%20%20%20%20%20%20%20%20var%20circle_marker_7115a2e53aa74730ae3c6d1cb61558ae%20%3D%20L.circleMarker%28%0A%20%20%20%20%20%20%20%20%20%20%20%20%20%20%20%20%5B10.67%2C%20-61.52%5D%2C%0A%20%20%20%20%20%20%20%20%20%20%20%20%20%20%20%20%7B%22bubblingMouseEvents%22%3A%20true%2C%20%22color%22%3A%20%22red%22%2C%20%22dashArray%22%3A%20null%2C%20%22dashOffset%22%3A%20null%2C%20%22fill%22%3A%20false%2C%20%22fillColor%22%3A%20%22red%22%2C%20%22fillOpacity%22%3A%200.2%2C%20%22fillRule%22%3A%20%22evenodd%22%2C%20%22lineCap%22%3A%20%22round%22%2C%20%22lineJoin%22%3A%20%22round%22%2C%20%22opacity%22%3A%201.0%2C%20%22radius%22%3A%205.7894736842105265%2C%20%22stroke%22%3A%20true%2C%20%22weight%22%3A%203%7D%0A%20%20%20%20%20%20%20%20%20%20%20%20%29.addTo%28map_f72d3cb61781487ead49a4bc964ea624%29%3B%0A%20%20%20%20%20%20%20%20%0A%20%20%20%20%0A%20%20%20%20%20%20%20%20%20%20%20%20var%20circle_marker_728f2d7b0b1f4903ab41d41cad8f2898%20%3D%20L.circleMarker%28%0A%20%20%20%20%20%20%20%20%20%20%20%20%20%20%20%20%5B17.2%2C%20-61.48%5D%2C%0A%20%20%20%20%20%20%20%20%20%20%20%20%20%20%20%20%7B%22bubblingMouseEvents%22%3A%20true%2C%20%22color%22%3A%20%22blue%22%2C%20%22dashArray%22%3A%20null%2C%20%22dashOffset%22%3A%20null%2C%20%22fill%22%3A%20false%2C%20%22fillColor%22%3A%20%22blue%22%2C%20%22fillOpacity%22%3A%200.2%2C%20%22fillRule%22%3A%20%22evenodd%22%2C%20%22lineCap%22%3A%20%22round%22%2C%20%22lineJoin%22%3A%20%22round%22%2C%20%22opacity%22%3A%201.0%2C%20%22radius%22%3A%2012.0%2C%20%22stroke%22%3A%20true%2C%20%22weight%22%3A%203%7D%0A%20%20%20%20%20%20%20%20%20%20%20%20%29.addTo%28map_f72d3cb61781487ead49a4bc964ea624%29%3B%0A%20%20%20%20%20%20%20%20%0A%20%20%20%20%0A%20%20%20%20%20%20%20%20%20%20%20%20var%20circle_marker_ad99ec16b0fd412c9798937f540e234a%20%3D%20L.circleMarker%28%0A%20%20%20%20%20%20%20%20%20%20%20%20%20%20%20%20%5B13.05%2C%20-59.3%5D%2C%0A%20%20%20%20%20%20%20%20%20%20%20%20%20%20%20%20%7B%22bubblingMouseEvents%22%3A%20true%2C%20%22color%22%3A%20%22blue%22%2C%20%22dashArray%22%3A%20null%2C%20%22dashOffset%22%3A%20null%2C%20%22fill%22%3A%20false%2C%20%22fillColor%22%3A%20%22blue%22%2C%20%22fillOpacity%22%3A%200.2%2C%20%22fillRule%22%3A%20%22evenodd%22%2C%20%22lineCap%22%3A%20%22round%22%2C%20%22lineJoin%22%3A%20%22round%22%2C%20%22opacity%22%3A%201.0%2C%20%22radius%22%3A%209.375%2C%20%22stroke%22%3A%20true%2C%20%22weight%22%3A%203%7D%0A%20%20%20%20%20%20%20%20%20%20%20%20%29.addTo%28map_f72d3cb61781487ead49a4bc964ea624%29%3B%0A%20%20%20%20%20%20%20%20%0A%20%20%20%20%0A%20%20%20%20%20%20%20%20%20%20%20%20var%20circle_marker_ef10ecb5f71e4f419671ac98f6426620%20%3D%20L.circleMarker%28%0A%20%20%20%20%20%20%20%20%20%20%20%20%20%20%20%20%5B17.18%2C%20-88.3%5D%2C%0A%20%20%20%20%20%20%20%20%20%20%20%20%20%20%20%20%7B%22bubblingMouseEvents%22%3A%20true%2C%20%22color%22%3A%20%22blue%22%2C%20%22dashArray%22%3A%20null%2C%20%22dashOffset%22%3A%20null%2C%20%22fill%22%3A%20false%2C%20%22fillColor%22%3A%20%22blue%22%2C%20%22fillOpacity%22%3A%200.2%2C%20%22fillRule%22%3A%20%22evenodd%22%2C%20%22lineCap%22%3A%20%22round%22%2C%20%22lineJoin%22%3A%20%22round%22%2C%20%22opacity%22%3A%201.0%2C%20%22radius%22%3A%2012.5%2C%20%22stroke%22%3A%20true%2C%20%22weight%22%3A%203%7D%0A%20%20%20%20%20%20%20%20%20%20%20%20%29.addTo%28map_f72d3cb61781487ead49a4bc964ea624%29%3B%0A%20%20%20%20%20%20%20%20%0A%20%20%20%20%0A%20%20%20%20%20%20%20%20%20%20%20%20var%20circle_marker_153ab7f299f04e388acf46725281ac04%20%3D%20L.circleMarker%28%0A%20%20%20%20%20%20%20%20%20%20%20%20%20%20%20%20%5B15.2%2C%20-61.24%5D%2C%0A%20%20%20%20%20%20%20%20%20%20%20%20%20%20%20%20%7B%22bubblingMouseEvents%22%3A%20true%2C%20%22color%22%3A%20%22blue%22%2C%20%22dashArray%22%3A%20null%2C%20%22dashOffset%22%3A%20null%2C%20%22fill%22%3A%20false%2C%20%22fillColor%22%3A%20%22blue%22%2C%20%22fillOpacity%22%3A%200.2%2C%20%22fillRule%22%3A%20%22evenodd%22%2C%20%22lineCap%22%3A%20%22round%22%2C%20%22lineJoin%22%3A%20%22round%22%2C%20%22opacity%22%3A%201.0%2C%20%22radius%22%3A%2011.785714285714286%2C%20%22stroke%22%3A%20true%2C%20%22weight%22%3A%203%7D%0A%20%20%20%20%20%20%20%20%20%20%20%20%29.addTo%28map_f72d3cb61781487ead49a4bc964ea624%29%3B%0A%20%20%20%20%20%20%20%20%0A%20%20%20%20%0A%20%20%20%20%20%20%20%20%20%20%20%20var%20circle_marker_189e41ac8603483c9217c60e55cf6ac6%20%3D%20L.circleMarker%28%0A%20%20%20%20%20%20%20%20%20%20%20%20%20%20%20%20%5B12.05%2C%20-61.75%5D%2C%0A%20%20%20%20%20%20%20%20%20%20%20%20%20%20%20%20%7B%22bubblingMouseEvents%22%3A%20true%2C%20%22color%22%3A%20%22blue%22%2C%20%22dashArray%22%3A%20null%2C%20%22dashOffset%22%3A%20null%2C%20%22fill%22%3A%20false%2C%20%22fillColor%22%3A%20%22blue%22%2C%20%22fillOpacity%22%3A%200.2%2C%20%22fillRule%22%3A%20%22evenodd%22%2C%20%22lineCap%22%3A%20%22round%22%2C%20%22lineJoin%22%3A%20%22round%22%2C%20%22opacity%22%3A%201.0%2C%20%22radius%22%3A%209.736842105263158%2C%20%22stroke%22%3A%20true%2C%20%22weight%22%3A%203%7D%0A%20%20%20%20%20%20%20%20%20%20%20%20%29.addTo%28map_f72d3cb61781487ead49a4bc964ea624%29%3B%0A%20%20%20%20%20%20%20%20%0A%20%20%20%20%0A%20%20%20%20%20%20%20%20%20%20%20%20var%20circle_marker_85c461eeb66e41c1b706638ad339ba46%20%3D%20L.circleMarker%28%0A%20%20%20%20%20%20%20%20%20%20%20%20%20%20%20%20%5B6.5%2C%20-58.12%5D%2C%0A%20%20%20%20%20%20%20%20%20%20%20%20%20%20%20%20%7B%22bubblingMouseEvents%22%3A%20true%2C%20%22color%22%3A%20%22blue%22%2C%20%22dashArray%22%3A%20null%2C%20%22dashOffset%22%3A%20null%2C%20%22fill%22%3A%20false%2C%20%22fillColor%22%3A%20%22blue%22%2C%20%22fillOpacity%22%3A%200.2%2C%20%22fillRule%22%3A%20%22evenodd%22%2C%20%22lineCap%22%3A%20%22round%22%2C%20%22lineJoin%22%3A%20%22round%22%2C%20%22opacity%22%3A%201.0%2C%20%22radius%22%3A%2011.0%2C%20%22stroke%22%3A%20true%2C%20%22weight%22%3A%203%7D%0A%20%20%20%20%20%20%20%20%20%20%20%20%29.addTo%28map_f72d3cb61781487ead49a4bc964ea624%29%3B%0A%20%20%20%20%20%20%20%20%0A%20%20%20%20%0A%20%20%20%20%20%20%20%20%20%20%20%20var%20circle_marker_7614d2e183cd4035bea3e089a4c7a7bf%20%3D%20L.circleMarker%28%0A%20%20%20%20%20%20%20%20%20%20%20%20%20%20%20%20%5B18.4%2C%20-72.2%5D%2C%0A%20%20%20%20%20%20%20%20%20%20%20%20%20%20%20%20%7B%22bubblingMouseEvents%22%3A%20true%2C%20%22color%22%3A%20%22blue%22%2C%20%22dashArray%22%3A%20null%2C%20%22dashOffset%22%3A%20null%2C%20%22fill%22%3A%20false%2C%20%22fillColor%22%3A%20%22blue%22%2C%20%22fillOpacity%22%3A%200.2%2C%20%22fillRule%22%3A%20%22evenodd%22%2C%20%22lineCap%22%3A%20%22round%22%2C%20%22lineJoin%22%3A%20%22round%22%2C%20%22opacity%22%3A%201.0%2C%20%22radius%22%3A%2011.5625%2C%20%22stroke%22%3A%20true%2C%20%22weight%22%3A%203%7D%0A%20%20%20%20%20%20%20%20%20%20%20%20%29.addTo%28map_f72d3cb61781487ead49a4bc964ea624%29%3B%0A%20%20%20%20%20%20%20%20%0A%20%20%20%20%0A%20%20%20%20%20%20%20%20%20%20%20%20var%20circle_marker_316cb62e599a435ca7044358b6027e2a%20%3D%20L.circleMarker%28%0A%20%20%20%20%20%20%20%20%20%20%20%20%20%20%20%20%5B18.0%2C%20-76.5%5D%2C%0A%20%20%20%20%20%20%20%20%20%20%20%20%20%20%20%20%7B%22bubblingMouseEvents%22%3A%20true%2C%20%22color%22%3A%20%22blue%22%2C%20%22dashArray%22%3A%20null%2C%20%22dashOffset%22%3A%20null%2C%20%22fill%22%3A%20false%2C%20%22fillColor%22%3A%20%22blue%22%2C%20%22fillOpacity%22%3A%200.2%2C%20%22fillRule%22%3A%20%22evenodd%22%2C%20%22lineCap%22%3A%20%22round%22%2C%20%22lineJoin%22%3A%20%22round%22%2C%20%22opacity%22%3A%201.0%2C%20%22radius%22%3A%2010.333333333333334%2C%20%22stroke%22%3A%20true%2C%20%22weight%22%3A%203%7D%0A%20%20%20%20%20%20%20%20%20%20%20%20%29.addTo%28map_f72d3cb61781487ead49a4bc964ea624%29%3B%0A%20%20%20%20%20%20%20%20%0A%20%20%20%20%0A%20%20%20%20%20%20%20%20%20%20%20%20var%20circle_marker_5a790b51332448448c34cc76b042928f%20%3D%20L.circleMarker%28%0A%20%20%20%20%20%20%20%20%20%20%20%20%20%20%20%20%5B17.17%2C%20-62.43%5D%2C%0A%20%20%20%20%20%20%20%20%20%20%20%20%20%20%20%20%7B%22bubblingMouseEvents%22%3A%20true%2C%20%22color%22%3A%20%22blue%22%2C%20%22dashArray%22%3A%20null%2C%20%22dashOffset%22%3A%20null%2C%20%22fill%22%3A%20false%2C%20%22fillColor%22%3A%20%22blue%22%2C%20%22fillOpacity%22%3A%200.2%2C%20%22fillRule%22%3A%20%22evenodd%22%2C%20%22lineCap%22%3A%20%22round%22%2C%20%22lineJoin%22%3A%20%22round%22%2C%20%22opacity%22%3A%201.0%2C%20%22radius%22%3A%2010.625%2C%20%22stroke%22%3A%20true%2C%20%22weight%22%3A%203%7D%0A%20%20%20%20%20%20%20%20%20%20%20%20%29.addTo%28map_f72d3cb61781487ead49a4bc964ea624%29%3B%0A%20%20%20%20%20%20%20%20%0A%20%20%20%20%0A%20%20%20%20%20%20%20%20%20%20%20%20var%20circle_marker_19d3cd55c7cd4b27b1a00636b1466a1d%20%3D%20L.circleMarker%28%0A%20%20%20%20%20%20%20%20%20%20%20%20%20%20%20%20%5B13.1%2C%20-61.1%5D%2C%0A%20%20%20%20%20%20%20%20%20%20%20%20%20%20%20%20%7B%22bubblingMouseEvents%22%3A%20true%2C%20%22color%22%3A%20%22blue%22%2C%20%22dashArray%22%3A%20null%2C%20%22dashOffset%22%3A%20null%2C%20%22fill%22%3A%20false%2C%20%22fillColor%22%3A%20%22blue%22%2C%20%22fillOpacity%22%3A%200.2%2C%20%22fillRule%22%3A%20%22evenodd%22%2C%20%22lineCap%22%3A%20%22round%22%2C%20%22lineJoin%22%3A%20%22round%22%2C%20%22opacity%22%3A%201.0%2C%20%22radius%22%3A%2011.25%2C%20%22stroke%22%3A%20true%2C%20%22weight%22%3A%203%7D%0A%20%20%20%20%20%20%20%20%20%20%20%20%29.addTo%28map_f72d3cb61781487ead49a4bc964ea624%29%3B%0A%20%20%20%20%20%20%20%20%0A%20%20%20%20%0A%20%20%20%20%20%20%20%20%20%20%20%20var%20circle_marker_a8ddaf333136490c830078af4ab2c05d%20%3D%20L.circleMarker%28%0A%20%20%20%20%20%20%20%20%20%20%20%20%20%20%20%20%5B5.5%2C%20-55.1%5D%2C%0A%20%20%20%20%20%20%20%20%20%20%20%20%20%20%20%20%7B%22bubblingMouseEvents%22%3A%20true%2C%20%22color%22%3A%20%22blue%22%2C%20%22dashArray%22%3A%20null%2C%20%22dashOffset%22%3A%20null%2C%20%22fill%22%3A%20false%2C%20%22fillColor%22%3A%20%22blue%22%2C%20%22fillOpacity%22%3A%200.2%2C%20%22fillRule%22%3A%20%22evenodd%22%2C%20%22lineCap%22%3A%20%22round%22%2C%20%22lineJoin%22%3A%20%22round%22%2C%20%22opacity%22%3A%201.0%2C%20%22radius%22%3A%2011.666666666666664%2C%20%22stroke%22%3A%20true%2C%20%22weight%22%3A%203%7D%0A%20%20%20%20%20%20%20%20%20%20%20%20%29.addTo%28map_f72d3cb61781487ead49a4bc964ea624%29%3B%0A%20%20%20%20%20%20%20%20%0A%20%20%20%20%0A%20%20%20%20%20%20%20%20%20%20%20%20var%20circle_marker_46c6f3da3d064813a664d1d9c447759e%20%3D%20L.circleMarker%28%0A%20%20%20%20%20%20%20%20%20%20%20%20%20%20%20%20%5B25.05%2C%20-77.2%5D%2C%0A%20%20%20%20%20%20%20%20%20%20%20%20%20%20%20%20%7B%22bubblingMouseEvents%22%3A%20true%2C%20%22color%22%3A%20%22blue%22%2C%20%22dashArray%22%3A%20null%2C%20%22dashOffset%22%3A%20null%2C%20%22fill%22%3A%20false%2C%20%22fillColor%22%3A%20%22blue%22%2C%20%22fillOpacity%22%3A%200.2%2C%20%22fillRule%22%3A%20%22evenodd%22%2C%20%22lineCap%22%3A%20%22round%22%2C%20%22lineJoin%22%3A%20%22round%22%2C%20%22opacity%22%3A%201.0%2C%20%22radius%22%3A%2010.0%2C%20%22stroke%22%3A%20true%2C%20%22weight%22%3A%203%7D%0A%20%20%20%20%20%20%20%20%20%20%20%20%29.addTo%28map_f72d3cb61781487ead49a4bc964ea624%29%3B%0A%20%20%20%20%20%20%20%20%0A%20%20%20%20%0A%20%20%20%20%20%20%20%20%20%20%20%20var%20circle_marker_10cce6bac6914aa49c0e30d8a07b368e%20%3D%20L.circleMarker%28%0A%20%20%20%20%20%20%20%20%20%20%20%20%20%20%20%20%5B10.67%2C%20-61.52%5D%2C%0A%20%20%20%20%20%20%20%20%20%20%20%20%20%20%20%20%7B%22bubblingMouseEvents%22%3A%20true%2C%20%22color%22%3A%20%22blue%22%2C%20%22dashArray%22%3A%20null%2C%20%22dashOffset%22%3A%20null%2C%20%22fill%22%3A%20false%2C%20%22fillColor%22%3A%20%22blue%22%2C%20%22fillOpacity%22%3A%200.2%2C%20%22fillRule%22%3A%20%22evenodd%22%2C%20%22lineCap%22%3A%20%22round%22%2C%20%22lineJoin%22%3A%20%22round%22%2C%20%22opacity%22%3A%201.0%2C%20%22radius%22%3A%208.5%2C%20%22stroke%22%3A%20true%2C%20%22weight%22%3A%203%7D%0A%20%20%20%20%20%20%20%20%20%20%20%20%29.addTo%28map_f72d3cb61781487ead49a4bc964ea624%29%3B%0A%20%20%20%20%20%20%20%20%0A%3C/script%3E onload=\"this.contentDocument.open();this.contentDocument.write(    decodeURIComponent(this.getAttribute('data-html')));this.contentDocument.close();\" allowfullscreen webkitallowfullscreen mozallowfullscreen></iframe></div></div>"
      ],
      "text/plain": [
       "<folium.folium.Map at 0x24e544bb850>"
      ]
     },
     "execution_count": 63,
     "metadata": {},
     "output_type": "execute_result"
    }
   ],
   "source": [
    "m2 = folium.Map(location =[16.5,-73.5], zoom_start=5)\n",
    "\n",
    "\n",
    "circle_scale = 5\n",
    "for index, row in final_frame.iterrows():\n",
    "    folium.CircleMarker(location=(row[\"Latitude\"],row[\"Longitude\"]),\n",
    "                        radius=row[\"Food average price tier\"]*circle_scale,\n",
    "                        color=\"red\",\n",
    "                        fill=False,\n",
    "                        #fill_color=\"green\",\n",
    "                        label=row[\"Capital\"]).add_to(m2)\n",
    "    #folium.Marker(location=(row[\"Latitude\"],row[\"Longitude\"]),\n",
    "     #            popup=row[\"Capital\"]).add_to(m)\n",
    "for index, row in final_frame.iterrows():\n",
    "    folium.CircleMarker(location=(row[\"Latitude\"],row[\"Longitude\"]),\n",
    "                        radius=row[\"Nightlife average price tier\"]*circle_scale,\n",
    "                        color=\"blue\",\n",
    "                        fill=False,\n",
    "                        #fill_color=\"blue\",\n",
    "                        label=row[\"Capital\"]).add_to(m2)\n",
    "m2"
   ]
  },
  {
   "cell_type": "markdown",
   "metadata": {},
   "source": [
    "## Data Analysis"
   ]
  },
  {
   "cell_type": "markdown",
   "metadata": {},
   "source": [
    "In this section I perform the analysis toward the goal of this project - to test whether GDP can be predicted by the costs of facilities in a given country's capital.  \n",
    "\n",
    "I begin with some preliminary analysis, to get the \"low-lying fruit\" of the data - questions which bear asking but may not directly answer the primary question. These questions include whether the two types of gdp co-vary, and similar whether the prices of the measured commodities co-vary.  \n",
    "\n",
    "Then, I'll proceed with the task at hand, creating a multiple regression model to attempt to predict the two types of GDP obtained above."
   ]
  },
  {
   "cell_type": "markdown",
   "metadata": {},
   "source": [
    "### Preliminary analysis - does PPP vary with nominal GDP?"
   ]
  },
  {
   "cell_type": "code",
   "execution_count": 64,
   "metadata": {},
   "outputs": [],
   "source": [
    "from sklearn import linear_model, preprocessing,metrics"
   ]
  },
  {
   "cell_type": "code",
   "execution_count": 65,
   "metadata": {},
   "outputs": [],
   "source": [
    "X = final_frame[[\"GDP (nominal) per capita\"]]\n",
    "Y = final_frame['GDP (PPP) per capita']"
   ]
  },
  {
   "cell_type": "code",
   "execution_count": 66,
   "metadata": {},
   "outputs": [
    {
     "data": {
      "image/png": "[encoded data removed]",
      "text/plain": [
       "<Figure size 432x288 with 1 Axes>"
      ]
     },
     "metadata": {
      "needs_background": "light"
     },
     "output_type": "display_data"
    }
   ],
   "source": [
    "plt.scatter(X,Y);\n",
    "plt.xlabel(\"Normalized GDP (nominal)\")\n",
    "plt.ylabel(\"GDP (PPP)\");"
   ]
  },
  {
   "cell_type": "code",
   "execution_count": 67,
   "metadata": {},
   "outputs": [],
   "source": [
    "scaler=preprocessing.MinMaxScaler()\n",
    "#X = scaler.fit_transform(X)\n",
    "lm = linear_model.LinearRegression()\n",
    "lm.fit(X,Y)\n",
    "yhat = lm.predict(X)"
   ]
  },
  {
   "cell_type": "code",
   "execution_count": 68,
   "metadata": {},
   "outputs": [
    {
     "name": "stdout",
     "output_type": "stream",
     "text": [
      "The regression score is  0.7408167052838734 . The X coefficient is  1.1606223931740351  and the intercept is  4821.744950671218 .\n"
     ]
    }
   ],
   "source": [
    "print(\"The regression score is \", lm.score(X,Y),\". The X coefficient is \", lm.coef_[0], \" and the intercept is \", lm.intercept_,\".\")"
   ]
  },
  {
   "cell_type": "code",
   "execution_count": 69,
   "metadata": {},
   "outputs": [
    {
     "data": {
      "image/png": "[encoded data removed]",
      "text/plain": [
       "<Figure size 432x288 with 1 Axes>"
      ]
     },
     "metadata": {
      "needs_background": "light"
     },
     "output_type": "display_data"
    }
   ],
   "source": [
    "plt.scatter(X,Y)\n",
    "plt.xlabel(\"Normalized GDP (nominal)\")\n",
    "plt.ylabel(\"GDP (PPP)\")\n",
    "plt.plot(X,yhat,color=\"red\");\n",
    "#plt.savefig(\"nom_ppp_fit.PNG\")"
   ]
  },
  {
   "cell_type": "markdown",
   "metadata": {},
   "source": [
    "### Preliminary analysis - are food venue prices and nightlife venue prices correlated?"
   ]
  },
  {
   "cell_type": "code",
   "execution_count": 70,
   "metadata": {},
   "outputs": [],
   "source": [
    "X = final_frame[[\"Food average price tier\"]]\n",
    "Y = final_frame['Nightlife average price tier']"
   ]
  },
  {
   "cell_type": "code",
   "execution_count": 71,
   "metadata": {},
   "outputs": [],
   "source": [
    "lm = linear_model.LinearRegression()\n",
    "lm.fit(X,Y)\n",
    "yhat = lm.predict(X)"
   ]
  },
  {
   "cell_type": "code",
   "execution_count": 72,
   "metadata": {},
   "outputs": [
    {
     "name": "stdout",
     "output_type": "stream",
     "text": [
      "The regression score is  0.07827242506917764 . The X coefficient is  0.25547652942691684  and the intercept is  1.7672443311505706 .\n"
     ]
    }
   ],
   "source": [
    "print(\"The regression score is \", lm.score(X,Y),\". The X coefficient is \", lm.coef_[0], \" and the intercept is \", lm.intercept_,\".\")"
   ]
  },
  {
   "cell_type": "code",
   "execution_count": 73,
   "metadata": {},
   "outputs": [
    {
     "data": {
      "image/png": "[encoded data removed]",
      "text/plain": [
       "<Figure size 432x288 with 1 Axes>"
      ]
     },
     "metadata": {
      "needs_background": "light"
     },
     "output_type": "display_data"
    }
   ],
   "source": [
    "plt.scatter(X,Y)\n",
    "plt.plot(X,yhat, color = \"red\");\n",
    "plt.xlabel(\"Food average price tier\")\n",
    "plt.ylabel(\"Nightlife average price tier\");\n",
    "#plt.savefig(\"food_nightlife_fit.PNG\")"
   ]
  },
  {
   "cell_type": "markdown",
   "metadata": {},
   "source": [
    "The regression score here is very, very low. These values do not seem to be correlated."
   ]
  },
  {
   "cell_type": "markdown",
   "metadata": {},
   "source": [
    "### Main analysis - multiple regression"
   ]
  },
  {
   "cell_type": "code",
   "execution_count": 74,
   "metadata": {},
   "outputs": [],
   "source": [
    "X     = final_frame[[\"Food average price tier\",\"Nightlife average price tier\"]]\n",
    "Y_nom = final_frame[\"GDP (nominal) per capita\"]/max(final_frame[\"GDP (nominal) per capita\"])   #normalised GDP data\n",
    "Y_ppp = final_frame[\"GDP (PPP) per capita\"]/max(final_frame[\"GDP (PPP) per capita\"])"
   ]
  },
  {
   "cell_type": "code",
   "execution_count": 75,
   "metadata": {},
   "outputs": [
    {
     "data": {
      "image/png": "[encoded data removed]",
      "text/plain": [
       "<Figure size 432x288 with 1 Axes>"
      ]
     },
     "metadata": {
      "needs_background": "light"
     },
     "output_type": "display_data"
    }
   ],
   "source": [
    "fig = plt.figure()\n",
    "ax = fig.add_subplot(111, projection='3d')\n",
    "\n",
    "ax.view_init(elev=20,azim=45)\n",
    "ax.scatter(xs = final_frame[\"Food average price tier\"],ys = final_frame[\"Nightlife average price tier\"],zs=Y_nom,color = \"red\")\n",
    "ax.set_xlabel(\"Food\")\n",
    "ax.set_ylabel(\"Nightlife\")\n",
    "ax.set_zlabel(\"GDP (nominal)\");"
   ]
  },
  {
   "cell_type": "markdown",
   "metadata": {},
   "source": [
    "By changing perspective, we can look directly a the relationship between Nightlife price and GDP. It looks like there is a trend, but an outlier may skew the result. We don't have much data and can't make assumptions about that point's validity, and I will leave it in."
   ]
  },
  {
   "cell_type": "code",
   "execution_count": 76,
   "metadata": {
    "jupyter": {
     "source_hidden": true
    }
   },
   "outputs": [
    {
     "data": {
      "image/png": "[encoded data removed]",
      "text/plain": [
       "<Figure size 432x288 with 1 Axes>"
      ]
     },
     "metadata": {
      "needs_background": "light"
     },
     "output_type": "display_data"
    }
   ],
   "source": [
    "fig = plt.figure()\n",
    "ax = fig.add_subplot(111, projection='3d')\n",
    "\n",
    "ax.view_init(elev=0,azim=0)\n",
    "ax.scatter(xs = final_frame[\"Food average price tier\"],ys = final_frame[\"Nightlife average price tier\"],zs=Y_nom,color = \"red\")\n",
    "ax.set_xlabel(\"Food\")\n",
    "ax.set_ylabel(\"Nightlife\")\n",
    "ax.set_zlabel(\"GDP (nominal)\");"
   ]
  },
  {
   "cell_type": "markdown",
   "metadata": {},
   "source": [
    "Similarly, we can lok at Food vs GDP. The correlation, if any, is much less clear. Disregarding the outlying high-GDP point, there seems to be no real trend."
   ]
  },
  {
   "cell_type": "code",
   "execution_count": 77,
   "metadata": {
    "jupyter": {
     "source_hidden": true
    }
   },
   "outputs": [
    {
     "data": {
      "image/png": "[encoded data removed]",
      "text/plain": [
       "<Figure size 432x288 with 1 Axes>"
      ]
     },
     "metadata": {
      "needs_background": "light"
     },
     "output_type": "display_data"
    }
   ],
   "source": [
    "fig = plt.figure()\n",
    "ax = fig.add_subplot(111, projection='3d')\n",
    "\n",
    "ax.view_init(elev=0,azim=90)\n",
    "ax.scatter(xs = final_frame[\"Food average price tier\"],ys = final_frame[\"Nightlife average price tier\"],zs=Y_nom,color = \"red\")\n",
    "ax.set_xlabel(\"Food\")\n",
    "ax.set_ylabel(\"Nightlife\")\n",
    "ax.set_zlabel(\"GDP (nominal)\");"
   ]
  },
  {
   "cell_type": "markdown",
   "metadata": {},
   "source": [
    "To the regression, then. I worry that with so little data, doing a test/train split would result in too little data to build a good model. This will make evaluating the model difficult, and we will have to rely on the R^2 measure produced by training on all of the data."
   ]
  },
  {
   "cell_type": "code",
   "execution_count": 78,
   "metadata": {},
   "outputs": [
    {
     "name": "stdout",
     "output_type": "stream",
     "text": [
      "Regression done!\n"
     ]
    }
   ],
   "source": [
    "scaler=preprocessing.MinMaxScaler()\n",
    "X     = scaler.fit_transform(X)\n",
    "\n",
    "lm_nom = linear_model.LinearRegression()\n",
    "lm_nom.fit(X,Y_nom)\n",
    "yhat_nom = lm_nom.predict(X)\n",
    "\n",
    "lm_ppp = linear_model.LinearRegression()\n",
    "lm_ppp.fit(X,Y_ppp)\n",
    "yhat_ppp = lm_ppp.predict(X)\n",
    "\n",
    "print(\"Regression done!\")"
   ]
  },
  {
   "cell_type": "markdown",
   "metadata": {},
   "source": [
    "#### Multiple regression results\n"
   ]
  },
  {
   "cell_type": "markdown",
   "metadata": {},
   "source": [
    "I tried to plot the regression plane below, but failed. If you see what went wrong, feel free to let me know."
   ]
  },
  {
   "cell_type": "code",
   "execution_count": 79,
   "metadata": {},
   "outputs": [],
   "source": [
    "# gridmarks = np.linspace(0,1,13)\n",
    "# xx, yy = np.array(np.meshgrid(gridmarks)), np.array(np.meshgrid(gridmarks))\n",
    "\n",
    "# ytest = np.array(yhat_nom)\n",
    "\n",
    "# fig = plt.figure()\n",
    "# ax = fig.add_subplot(111,projection='3d')\n",
    "# ax.plot_surface(xx,yy,ytest.reshape(xx.shape),color = \"none\",alpha=0.3);\n",
    "# # ax2.set_xlabel(\"\")\n",
    "# # ax2.set_ylabel(\"\")\n",
    "# # ax2.set_zlabel(\"\")\n",
    "\n",
    "# #ax.scatter(xs=x1,ys=x2,zs=Y_nom,color = \"red\");"
   ]
  },
  {
   "cell_type": "markdown",
   "metadata": {},
   "source": [
    "Anyway, here is a summary of the results of multiple regression:"
   ]
  },
  {
   "cell_type": "code",
   "execution_count": 80,
   "metadata": {},
   "outputs": [
    {
     "name": "stdout",
     "output_type": "stream",
     "text": [
      "Nominal GDP: \n",
      "\n",
      "Food coefficient:  0.3256526797627966\n",
      "Nightlife coefficient:  -0.5885322820498852\n",
      "Intercept:  0.5204827281817856\n",
      "Regression score:  0.4636189573696111 \n",
      " \n",
      "\n",
      "PPP GDP: \n",
      "\n",
      "Food coefficient:  0.3859255007662723\n",
      "Nightlife coefficient:  -0.6844634428707504\n",
      "Intercept:  0.7015595636442107\n",
      "Regression score:  0.4331685319540177\n"
     ]
    }
   ],
   "source": [
    "print(\"Nominal GDP: \\n\")\n",
    "print(\"Food coefficient: \", lm_nom.coef_[0])\n",
    "print(\"Nightlife coefficient: \", lm_nom.coef_[1])\n",
    "print(\"Intercept: \", lm_nom.intercept_)\n",
    "print(\"Regression score: \", metrics.r2_score(Y_nom,yhat_nom),\"\\n \\n\")\n",
    "\n",
    "print(\"PPP GDP: \\n\")\n",
    "print(\"Food coefficient: \", lm_ppp.coef_[0])\n",
    "print(\"Nightlife coefficient: \", lm_ppp.coef_[1])\n",
    "print(\"Intercept: \", lm_ppp.intercept_)\n",
    "print(\"Regression score: \", metrics.r2_score(Y_ppp,yhat_ppp))"
   ]
  },
  {
   "cell_type": "markdown",
   "metadata": {},
   "source": [
    "The regression scores are certainly not overwhelming. I suspect I have overfit the model by including the Nightlife data, disguising the predictive effectiveness of the Food venue data. I should investigate further..."
   ]
  },
  {
   "cell_type": "markdown",
   "metadata": {},
   "source": [
    "### Follow-up: simple linear regression for Food venue prices vs. GDP"
   ]
  },
  {
   "cell_type": "markdown",
   "metadata": {},
   "source": [
    "I suspect that the Food venue prices may be a good predictor of out GDP values, but the multiple regression model masked this by fitting for a non-predictive variable. I'm going to perform a similar analysis using only that independent variable."
   ]
  },
  {
   "cell_type": "code",
   "execution_count": 81,
   "metadata": {},
   "outputs": [
    {
     "name": "stdout",
     "output_type": "stream",
     "text": [
      "Regression done!\n"
     ]
    }
   ],
   "source": [
    "X     = final_frame[[\"Nightlife average price tier\"]]\n",
    "Y_nom = final_frame[\"GDP (nominal) per capita\"]/max(final_frame[\"GDP (nominal) per capita\"])    #normalised GDP data\n",
    "Y_ppp = final_frame[\"GDP (PPP) per capita\"]/max(final_frame[\"GDP (PPP) per capita\"])\n",
    "\n",
    "scaler=preprocessing.MinMaxScaler()\n",
    "X     = scaler.fit_transform(X)\n",
    "\n",
    "lm_nom = linear_model.LinearRegression()\n",
    "lm_nom.fit(X,Y_nom)\n",
    "yhat_nom = lm_nom.predict(X)\n",
    "\n",
    "lm_ppp = linear_model.LinearRegression()\n",
    "lm_ppp.fit(X,Y_ppp)\n",
    "yhat_ppp = lm_ppp.predict(X)\n",
    "\n",
    "print(\"Regression done!\")"
   ]
  },
  {
   "cell_type": "code",
   "execution_count": 82,
   "metadata": {},
   "outputs": [
    {
     "name": "stdout",
     "output_type": "stream",
     "text": [
      "Nominal GDP: \n",
      "\n",
      "Nightlife coefficient:  -0.48483672445660175\n",
      "Intercept:  0.6337837542204188\n",
      "Regression score:  0.30131142485083506 \n",
      " \n",
      "\n",
      "PPP GDP: \n",
      "\n",
      "Nightlife coefficient:  -0.561575585720073\n",
      "Intercept:  0.8358306995155367\n",
      "Regression score:  0.2769812500940815\n"
     ]
    }
   ],
   "source": [
    "print(\"Nominal GDP: \\n\")\n",
    "print(\"Nightlife coefficient: \", lm_nom.coef_[0])\n",
    "print(\"Intercept: \", lm_nom.intercept_)\n",
    "print(\"Regression score: \", metrics.r2_score(Y_nom,yhat_nom),\"\\n \\n\")\n",
    "\n",
    "print(\"PPP GDP: \\n\")\n",
    "print(\"Nightlife coefficient: \", lm_ppp.coef_[0])\n",
    "print(\"Intercept: \", lm_ppp.intercept_)\n",
    "print(\"Regression score: \", metrics.r2_score(Y_ppp,yhat_ppp))"
   ]
  },
  {
   "cell_type": "code",
   "execution_count": 83,
   "metadata": {},
   "outputs": [
    {
     "data": {
      "image/png": "[encoded data removed]",
      "text/plain": [
       "<Figure size 432x288 with 1 Axes>"
      ]
     },
     "metadata": {
      "needs_background": "light"
     },
     "output_type": "display_data"
    }
   ],
   "source": [
    "plt.scatter(X,Y_nom)\n",
    "plt.xlabel(\"Normalied Nightlife price\")\n",
    "plt.ylabel(\"Normalised Nominal GDP\")\n",
    "plt.plot(X,yhat_nom,color=\"red\");\n",
    "#plt.savefig(\"N_nom_fit.PNG\")"
   ]
  },
  {
   "cell_type": "code",
   "execution_count": 84,
   "metadata": {},
   "outputs": [
    {
     "data": {
      "image/png": "[encoded data removed]",
      "text/plain": [
       "<Figure size 432x288 with 1 Axes>"
      ]
     },
     "metadata": {
      "needs_background": "light"
     },
     "output_type": "display_data"
    }
   ],
   "source": [
    "plt.scatter(X,Y_ppp)\n",
    "plt.xlabel(\"Normalied Nightlife price\")\n",
    "plt.ylabel(\"Normalised PPP GDP\")\n",
    "plt.plot(X,yhat_ppp,color=\"red\");\n",
    "#plt.savefig(\"N_ppp_fit.PNG\")"
   ]
  },
  {
   "cell_type": "markdown",
   "metadata": {},
   "source": [
    "Even though it looked like there was a trend, the errors are high and the regression scores are low. It looks like the current data does not encourage use of food venue prices to predict GDP."
   ]
  }
 ],
 "metadata": {
  "kernelspec": {
   "display_name": "Python 3",
   "language": "python",
   "name": "python3"
  },
  "language_info": {
   "codemirror_mode": {
    "name": "ipython",
    "version": 3
   },
   "file_extension": ".py",
   "mimetype": "text/x-python",
   "name": "python",
   "nbconvert_exporter": "python",
   "pygments_lexer": "ipython3",
   "version": "3.8.5"
  }
 },
 "nbformat": 4,
 "nbformat_minor": 4
}
