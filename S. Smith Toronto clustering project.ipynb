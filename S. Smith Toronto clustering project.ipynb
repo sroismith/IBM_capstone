{
    "cells": [
        {
            "cell_type": "code",
            "execution_count": 1,
            "metadata": {},
            "outputs": [],
            "source": "import pandas as pd\nimport requests as rq\nfrom bs4 import BeautifulSoup\nimport lxml\nimport re"
        },
        {
            "cell_type": "markdown",
            "metadata": {},
            "source": "### Scraping the data and building the data frame"
        },
        {
            "cell_type": "markdown",
            "metadata": {},
            "source": "Procedure adapted from https://towardsdatascience.com/web-scraping-scraping-table-data-1665b6b2271c."
        },
        {
            "cell_type": "code",
            "execution_count": 2,
            "metadata": {},
            "outputs": [],
            "source": "url = \"https://en.wikipedia.org/wiki/List_of_postal_codes_of_Canada:_M\"\ntext_data = rq.get(url).text\nsoup = BeautifulSoup(text_data, \"lxml\")\n#print(soup.prettify())"
        },
        {
            "cell_type": "code",
            "execution_count": 3,
            "metadata": {},
            "outputs": [
                {
                    "name": "stdout",
                    "output_type": "stream",
                    "text": "1 tables found\n"
                }
            ],
            "source": "data=soup.find_all(\"table\", attrs={\"class\":\"wikitable\"})\nprint(\"{} tables found\".format(len(data)))\n"
        },
        {
            "cell_type": "code",
            "execution_count": 4,
            "metadata": {},
            "outputs": [
                {
                    "name": "stdout",
                    "output_type": "stream",
                    "text": "['Postal Code', 'Borough', 'Neighbourhood']\n"
                }
            ],
            "source": "table=data[0]\nbody = table.find_all(\"tr\")\nhead = body[0]\nbody_rows = body[1:]\n\nheadings = []\nfor item in head.find_all(\"th\"):\n    item = (item.text).rstrip(\"\\n\")\n    headings.append(item)\nprint(headings)"
        },
        {
            "cell_type": "code",
            "execution_count": 5,
            "metadata": {},
            "outputs": [
                {
                    "data": {
                        "text/plain": "'\\nM1A\\n\\nNot assigned\\n\\nNot assigned\\n'"
                    },
                    "execution_count": 5,
                    "metadata": {},
                    "output_type": "execute_result"
                }
            ],
            "source": "body_rows[0].text"
        },
        {
            "cell_type": "code",
            "execution_count": 6,
            "metadata": {},
            "outputs": [],
            "source": "all_rows = []\n\nfor row_num in range (len(body_rows)):\n    row = []\n    for row_item in body_rows[row_num].find_all(\"td\"):\n        datum = re.sub(\"(\\xa0)|(\\n),\",\"\",row_item.text)\n        datum = re.sub(\"\\n\",\"\",datum)\n        row.append(datum)\n    all_rows.append(row)"
        },
        {
            "cell_type": "code",
            "execution_count": 7,
            "metadata": {},
            "outputs": [
                {
                    "data": {
                        "text/plain": "[['M1A', 'Not assigned', 'Not assigned'],\n ['M2A', 'Not assigned', 'Not assigned'],\n ['M3A', 'North York', 'Parkwoods'],\n ['M4A', 'North York', 'Victoria Village'],\n ['M5A', 'Downtown Toronto', 'Regent Park, Harbourfront']]"
                    },
                    "execution_count": 7,
                    "metadata": {},
                    "output_type": "execute_result"
                }
            ],
            "source": "all_rows[0:5]"
        },
        {
            "cell_type": "code",
            "execution_count": 8,
            "metadata": {},
            "outputs": [
                {
                    "name": "stdout",
                    "output_type": "stream",
                    "text": "  Postal Code           Borough              Neighbourhood\n0         M1A      Not assigned               Not assigned\n1         M2A      Not assigned               Not assigned\n2         M3A        North York                  Parkwoods\n3         M4A        North York           Victoria Village\n4         M5A  Downtown Toronto  Regent Park, Harbourfront\nsize of data frame:  (180, 3)\n"
                }
            ],
            "source": "df = pd.DataFrame(data=all_rows,columns=headings)\nprint(df.head())\nprint(\"size of data frame: \",df.shape)"
        },
        {
            "cell_type": "markdown",
            "metadata": {},
            "source": "We identify those Postal Codes which have no borough assigned. These entries will be removed."
        },
        {
            "cell_type": "code",
            "execution_count": 9,
            "metadata": {},
            "outputs": [
                {
                    "data": {
                        "text/html": "<div>\n<style scoped>\n    .dataframe tbody tr th:only-of-type {\n        vertical-align: middle;\n    }\n\n    .dataframe tbody tr th {\n        vertical-align: top;\n    }\n\n    .dataframe thead th {\n        text-align: right;\n    }\n</style>\n<table border=\"1\" class=\"dataframe\">\n  <thead>\n    <tr style=\"text-align: right;\">\n      <th></th>\n      <th>Postal Code</th>\n      <th>Borough</th>\n      <th>Neighbourhood</th>\n    </tr>\n  </thead>\n  <tbody>\n    <tr>\n      <th>0</th>\n      <td>M1A</td>\n      <td>Not assigned</td>\n      <td>Not assigned</td>\n    </tr>\n    <tr>\n      <th>1</th>\n      <td>M2A</td>\n      <td>Not assigned</td>\n      <td>Not assigned</td>\n    </tr>\n    <tr>\n      <th>7</th>\n      <td>M8A</td>\n      <td>Not assigned</td>\n      <td>Not assigned</td>\n    </tr>\n    <tr>\n      <th>10</th>\n      <td>M2B</td>\n      <td>Not assigned</td>\n      <td>Not assigned</td>\n    </tr>\n    <tr>\n      <th>15</th>\n      <td>M7B</td>\n      <td>Not assigned</td>\n      <td>Not assigned</td>\n    </tr>\n    <tr>\n      <th>...</th>\n      <td>...</td>\n      <td>...</td>\n      <td>...</td>\n    </tr>\n    <tr>\n      <th>174</th>\n      <td>M4Z</td>\n      <td>Not assigned</td>\n      <td>Not assigned</td>\n    </tr>\n    <tr>\n      <th>175</th>\n      <td>M5Z</td>\n      <td>Not assigned</td>\n      <td>Not assigned</td>\n    </tr>\n    <tr>\n      <th>176</th>\n      <td>M6Z</td>\n      <td>Not assigned</td>\n      <td>Not assigned</td>\n    </tr>\n    <tr>\n      <th>177</th>\n      <td>M7Z</td>\n      <td>Not assigned</td>\n      <td>Not assigned</td>\n    </tr>\n    <tr>\n      <th>179</th>\n      <td>M9Z</td>\n      <td>Not assigned</td>\n      <td>Not assigned</td>\n    </tr>\n  </tbody>\n</table>\n<p>77 rows \u00d7 3 columns</p>\n</div>",
                        "text/plain": "    Postal Code       Borough Neighbourhood\n0           M1A  Not assigned  Not assigned\n1           M2A  Not assigned  Not assigned\n7           M8A  Not assigned  Not assigned\n10          M2B  Not assigned  Not assigned\n15          M7B  Not assigned  Not assigned\n..          ...           ...           ...\n174         M4Z  Not assigned  Not assigned\n175         M5Z  Not assigned  Not assigned\n176         M6Z  Not assigned  Not assigned\n177         M7Z  Not assigned  Not assigned\n179         M9Z  Not assigned  Not assigned\n\n[77 rows x 3 columns]"
                    },
                    "execution_count": 9,
                    "metadata": {},
                    "output_type": "execute_result"
                }
            ],
            "source": "df[df[\"Borough\"]==\"Not assigned\"]"
        },
        {
            "cell_type": "code",
            "execution_count": 10,
            "metadata": {},
            "outputs": [
                {
                    "data": {
                        "text/html": "<div>\n<style scoped>\n    .dataframe tbody tr th:only-of-type {\n        vertical-align: middle;\n    }\n\n    .dataframe tbody tr th {\n        vertical-align: top;\n    }\n\n    .dataframe thead th {\n        text-align: right;\n    }\n</style>\n<table border=\"1\" class=\"dataframe\">\n  <thead>\n    <tr style=\"text-align: right;\">\n      <th></th>\n      <th>Postal Code</th>\n      <th>Borough</th>\n      <th>Neighbourhood</th>\n    </tr>\n  </thead>\n  <tbody>\n    <tr>\n      <th>2</th>\n      <td>M3A</td>\n      <td>North York</td>\n      <td>Parkwoods</td>\n    </tr>\n    <tr>\n      <th>3</th>\n      <td>M4A</td>\n      <td>North York</td>\n      <td>Victoria Village</td>\n    </tr>\n    <tr>\n      <th>4</th>\n      <td>M5A</td>\n      <td>Downtown Toronto</td>\n      <td>Regent Park, Harbourfront</td>\n    </tr>\n    <tr>\n      <th>5</th>\n      <td>M6A</td>\n      <td>North York</td>\n      <td>Lawrence Manor, Lawrence Heights</td>\n    </tr>\n    <tr>\n      <th>6</th>\n      <td>M7A</td>\n      <td>Downtown Toronto</td>\n      <td>Queen's Park, Ontario Provincial Government</td>\n    </tr>\n  </tbody>\n</table>\n</div>",
                        "text/plain": "  Postal Code           Borough                                Neighbourhood\n2         M3A        North York                                    Parkwoods\n3         M4A        North York                             Victoria Village\n4         M5A  Downtown Toronto                    Regent Park, Harbourfront\n5         M6A        North York             Lawrence Manor, Lawrence Heights\n6         M7A  Downtown Toronto  Queen's Park, Ontario Provincial Government"
                    },
                    "execution_count": 10,
                    "metadata": {},
                    "output_type": "execute_result"
                }
            ],
            "source": "df_assigned =df[df[\"Borough\"]!=\"Not assigned\"]\ndf_assigned.head()"
        },
        {
            "cell_type": "markdown",
            "metadata": {},
            "source": "Now only postal codes with assigned boroughs remain. To be safe, are there any remaining Neighbourhood entries reading \"Not assigned\"?"
        },
        {
            "cell_type": "code",
            "execution_count": 11,
            "metadata": {},
            "outputs": [
                {
                    "data": {
                        "text/html": "<div>\n<style scoped>\n    .dataframe tbody tr th:only-of-type {\n        vertical-align: middle;\n    }\n\n    .dataframe tbody tr th {\n        vertical-align: top;\n    }\n\n    .dataframe thead th {\n        text-align: right;\n    }\n</style>\n<table border=\"1\" class=\"dataframe\">\n  <thead>\n    <tr style=\"text-align: right;\">\n      <th></th>\n      <th>Postal Code</th>\n      <th>Borough</th>\n      <th>Neighbourhood</th>\n    </tr>\n  </thead>\n  <tbody>\n  </tbody>\n</table>\n</div>",
                        "text/plain": "Empty DataFrame\nColumns: [Postal Code, Borough, Neighbourhood]\nIndex: []"
                    },
                    "execution_count": 11,
                    "metadata": {},
                    "output_type": "execute_result"
                }
            ],
            "source": "df=df_assigned\ndf[df[\"Neighbourhood\"]==\"Not assigned\"]"
        },
        {
            "cell_type": "markdown",
            "metadata": {},
            "source": "Finally, let's look at the shape of our data frame of postal codes and their related neighbourhoods and boroughs."
        },
        {
            "cell_type": "code",
            "execution_count": 12,
            "metadata": {},
            "outputs": [
                {
                    "name": "stdout",
                    "output_type": "stream",
                    "text": "Shape of final data frame:  (103, 3)\n"
                }
            ],
            "source": "df.reset_index()\nprint(\"Shape of final data frame: \", df.shape)"
        },
        {
            "cell_type": "markdown",
            "metadata": {},
            "source": "## Acquiring coordinates"
        },
        {
            "cell_type": "markdown",
            "metadata": {},
            "source": "Now we will add to the data frame the coordinates associated with each borough/postal code.  \nWe have two ways of doing this: \n1) use ghe google geocoder tool to read in location names and output coordinates   \n2) use an existing dataframe of postal codes with corresponding coordinates\n\nThe first approach did not work for me. The geocoder did not return any coordinates after running for quite some time. I include the code here in hope that it will be useful later, or that someone can help identify the problem.  \nWe proceed with the second approach, reading in the geospatial data and performing a merge (inner join) with the processed data frame created above."
        },
        {
            "cell_type": "markdown",
            "metadata": {},
            "source": "<!-- import sys\n!{sys.executable} -m pip install geocoder\nimport geocoder -->"
        },
        {
            "cell_type": "markdown",
            "metadata": {},
            "source": "<!-- indices=df.index\nlats=[]\nlongs=[]\n\nfor index in indices:\n    lat_lng_coords = None\n    while(lat_lng_coords is None):\n        g = geocoder.google('{}, Toronto, Ontario'.format(df.iloc[index][\"Postal Code\"]))\n        lat_lng_coords = g.latlng\n    lats.append(lat_lng_coords[0])\n    longs.append(lat_lng_coords[1]) -->"
        },
        {
            "cell_type": "markdown",
            "metadata": {},
            "source": "Read in data from the web..."
        },
        {
            "cell_type": "code",
            "execution_count": 13,
            "metadata": {},
            "outputs": [],
            "source": "latlng_df = pd.read_csv('https://cocl.us/Geospatial_data', index_col='Postal Code')"
        },
        {
            "cell_type": "code",
            "execution_count": 25,
            "metadata": {},
            "outputs": [
                {
                    "data": {
                        "text/html": "<div>\n<style scoped>\n    .dataframe tbody tr th:only-of-type {\n        vertical-align: middle;\n    }\n\n    .dataframe tbody tr th {\n        vertical-align: top;\n    }\n\n    .dataframe thead th {\n        text-align: right;\n    }\n</style>\n<table border=\"1\" class=\"dataframe\">\n  <thead>\n    <tr style=\"text-align: right;\">\n      <th></th>\n      <th>Latitude</th>\n      <th>Longitude</th>\n    </tr>\n    <tr>\n      <th>Postal Code</th>\n      <th></th>\n      <th></th>\n    </tr>\n  </thead>\n  <tbody>\n    <tr>\n      <th>M1B</th>\n      <td>43.806686</td>\n      <td>-79.194353</td>\n    </tr>\n    <tr>\n      <th>M1C</th>\n      <td>43.784535</td>\n      <td>-79.160497</td>\n    </tr>\n    <tr>\n      <th>M1E</th>\n      <td>43.763573</td>\n      <td>-79.188711</td>\n    </tr>\n    <tr>\n      <th>M1G</th>\n      <td>43.770992</td>\n      <td>-79.216917</td>\n    </tr>\n    <tr>\n      <th>M1H</th>\n      <td>43.773136</td>\n      <td>-79.239476</td>\n    </tr>\n  </tbody>\n</table>\n</div>",
                        "text/plain": "              Latitude  Longitude\nPostal Code                      \nM1B          43.806686 -79.194353\nM1C          43.784535 -79.160497\nM1E          43.763573 -79.188711\nM1G          43.770992 -79.216917\nM1H          43.773136 -79.239476"
                    },
                    "execution_count": 25,
                    "metadata": {},
                    "output_type": "execute_result"
                }
            ],
            "source": "#examine what we've imported...\nlatlng_df.head()"
        },
        {
            "cell_type": "code",
            "execution_count": 26,
            "metadata": {},
            "outputs": [
                {
                    "name": "stdout",
                    "output_type": "stream",
                    "text": "(103, 2)\n"
                }
            ],
            "source": "#...and check that the shape makes sense.\nprint(latlng_df.shape)"
        },
        {
            "cell_type": "code",
            "execution_count": 17,
            "metadata": {},
            "outputs": [
                {
                    "data": {
                        "text/html": "<div>\n<style scoped>\n    .dataframe tbody tr th:only-of-type {\n        vertical-align: middle;\n    }\n\n    .dataframe tbody tr th {\n        vertical-align: top;\n    }\n\n    .dataframe thead th {\n        text-align: right;\n    }\n</style>\n<table border=\"1\" class=\"dataframe\">\n  <thead>\n    <tr style=\"text-align: right;\">\n      <th></th>\n      <th>Postal Code</th>\n      <th>Borough</th>\n      <th>Neighbourhood</th>\n      <th>Latitude</th>\n      <th>Longitude</th>\n    </tr>\n  </thead>\n  <tbody>\n    <tr>\n      <th>0</th>\n      <td>M3A</td>\n      <td>North York</td>\n      <td>Parkwoods</td>\n      <td>43.753259</td>\n      <td>-79.329656</td>\n    </tr>\n    <tr>\n      <th>1</th>\n      <td>M4A</td>\n      <td>North York</td>\n      <td>Victoria Village</td>\n      <td>43.725882</td>\n      <td>-79.315572</td>\n    </tr>\n    <tr>\n      <th>2</th>\n      <td>M5A</td>\n      <td>Downtown Toronto</td>\n      <td>Regent Park, Harbourfront</td>\n      <td>43.654260</td>\n      <td>-79.360636</td>\n    </tr>\n    <tr>\n      <th>3</th>\n      <td>M6A</td>\n      <td>North York</td>\n      <td>Lawrence Manor, Lawrence Heights</td>\n      <td>43.718518</td>\n      <td>-79.464763</td>\n    </tr>\n    <tr>\n      <th>4</th>\n      <td>M7A</td>\n      <td>Downtown Toronto</td>\n      <td>Queen's Park, Ontario Provincial Government</td>\n      <td>43.662301</td>\n      <td>-79.389494</td>\n    </tr>\n  </tbody>\n</table>\n</div>",
                        "text/plain": "  Postal Code           Borough                                Neighbourhood  \\\n0         M3A        North York                                    Parkwoods   \n1         M4A        North York                             Victoria Village   \n2         M5A  Downtown Toronto                    Regent Park, Harbourfront   \n3         M6A        North York             Lawrence Manor, Lawrence Heights   \n4         M7A  Downtown Toronto  Queen's Park, Ontario Provincial Government   \n\n    Latitude  Longitude  \n0  43.753259 -79.329656  \n1  43.725882 -79.315572  \n2  43.654260 -79.360636  \n3  43.718518 -79.464763  \n4  43.662301 -79.389494  "
                    },
                    "execution_count": 17,
                    "metadata": {},
                    "output_type": "execute_result"
                }
            ],
            "source": "#merge performs inner join, using the shared column \"Postal Code\"\ntotal_df=df.merge(latlng_df, on = \"Postal Code\")\ntotal_df.head()"
        },
        {
            "cell_type": "code",
            "execution_count": 22,
            "metadata": {},
            "outputs": [
                {
                    "name": "stdout",
                    "output_type": "stream",
                    "text": "The final data frame with coordinates, boroughs and neighbourhoods has shape  (103, 5) as expected.\n"
                }
            ],
            "source": "print(\"The final data frame with coordinates, boroughs and neighbourhoods has shape \",total_df.shape, \"as expected.\")"
        },
        {
            "cell_type": "markdown",
            "metadata": {},
            "source": "## Clustering Postal Codes"
        },
        {
            "cell_type": "markdown",
            "metadata": {},
            "source": "I'm going to follow the general procedure of the New York clustering from a previous exercise, but using postal codes in the North York district of Toronto. I will cluster postal codes according to their venue types.  \n  \nI'll start by importing required libraries and creating a new data frame containing only the North York venues."
        },
        {
            "cell_type": "code",
            "execution_count": 98,
            "metadata": {},
            "outputs": [
                {
                    "name": "stdout",
                    "output_type": "stream",
                    "text": "Folium installed\nLibraries imported.\n"
                }
            ],
            "source": "import requests # library to handle requests\n#import pandas as pd # library for data analsysis\nimport numpy as np # library to handle data in a vectorized manner\nimport random # library for random number generation\n\n\n#!pip install geopy  #UNCOMMENT if geopy not installed!\nfrom geopy.geocoders import Nominatim # module to convert an address into latitude and longitude values\n\n# libraries for displaying images\nfrom IPython.display import Image \nfrom IPython.core.display import HTML \n    \n# tranforming json file into a pandas dataframe library\nfrom pandas.io.json import json_normalize\n\nfrom sklearn.cluster import KMeans\n\n#! pip install folium==0.5.0\nimport folium # plotting library\n\nprint('Folium installed')\nprint('Libraries imported.')"
        },
        {
            "cell_type": "code",
            "execution_count": 119,
            "metadata": {},
            "outputs": [
                {
                    "data": {
                        "text/html": "<div>\n<style scoped>\n    .dataframe tbody tr th:only-of-type {\n        vertical-align: middle;\n    }\n\n    .dataframe tbody tr th {\n        vertical-align: top;\n    }\n\n    .dataframe thead th {\n        text-align: right;\n    }\n</style>\n<table border=\"1\" class=\"dataframe\">\n  <thead>\n    <tr style=\"text-align: right;\">\n      <th></th>\n      <th>Postal Code</th>\n      <th>Borough</th>\n      <th>Neighbourhood</th>\n      <th>Latitude</th>\n      <th>Longitude</th>\n    </tr>\n  </thead>\n  <tbody>\n    <tr>\n      <th>0</th>\n      <td>M3A</td>\n      <td>North York</td>\n      <td>Parkwoods</td>\n      <td>43.753259</td>\n      <td>-79.329656</td>\n    </tr>\n    <tr>\n      <th>1</th>\n      <td>M4A</td>\n      <td>North York</td>\n      <td>Victoria Village</td>\n      <td>43.725882</td>\n      <td>-79.315572</td>\n    </tr>\n    <tr>\n      <th>3</th>\n      <td>M6A</td>\n      <td>North York</td>\n      <td>Lawrence Manor, Lawrence Heights</td>\n      <td>43.718518</td>\n      <td>-79.464763</td>\n    </tr>\n    <tr>\n      <th>7</th>\n      <td>M3B</td>\n      <td>North York</td>\n      <td>Don Mills</td>\n      <td>43.745906</td>\n      <td>-79.352188</td>\n    </tr>\n    <tr>\n      <th>10</th>\n      <td>M6B</td>\n      <td>North York</td>\n      <td>Glencairn</td>\n      <td>43.709577</td>\n      <td>-79.445073</td>\n    </tr>\n  </tbody>\n</table>\n</div>",
                        "text/plain": "   Postal Code     Borough                     Neighbourhood   Latitude  \\\n0          M3A  North York                         Parkwoods  43.753259   \n1          M4A  North York                  Victoria Village  43.725882   \n3          M6A  North York  Lawrence Manor, Lawrence Heights  43.718518   \n7          M3B  North York                         Don Mills  43.745906   \n10         M6B  North York                         Glencairn  43.709577   \n\n    Longitude  \n0  -79.329656  \n1  -79.315572  \n3  -79.464763  \n7  -79.352188  \n10 -79.445073  "
                    },
                    "execution_count": 119,
                    "metadata": {},
                    "output_type": "execute_result"
                }
            ],
            "source": "northyork_df=total_df[total_df[\"Borough\"]==\"North York\"]\n#nyork_df.set_index(\"Postal Code\",inplace=True) #I thought this was a good idea. It was not.\nnorthyork_df.head()"
        },
        {
            "cell_type": "code",
            "execution_count": 120,
            "metadata": {},
            "outputs": [],
            "source": "# The code was removed by Watson Studio for sharing."
        },
        {
            "cell_type": "markdown",
            "metadata": {},
            "source": "Borrow function for looping over all postal codes from New York clustering exercise..."
        },
        {
            "cell_type": "code",
            "execution_count": 88,
            "metadata": {},
            "outputs": [],
            "source": "def getNearbyVenues(names, latitudes, longitudes, radius=500):\n    \n    venues_list=[]\n    for name, lat, lng in zip(names, latitudes, longitudes):\n        #print(name)\n            \n        # create the API request URL\n        url = 'https://api.foursquare.com/v2/venues/explore?&client_id={}&client_secret={}&v={}&ll={},{}&radius={}&limit={}'.format(\n            CLIENT_ID, \n            CLIENT_SECRET, \n            VERSION, \n            lat, \n            lng, \n            radius, \n            LIMIT)\n            \n        # make the GET request\n        results = requests.get(url).json()[\"response\"]['groups'][0]['items']\n        \n        # return only relevant information for each nearby venue\n        venues_list.append([(\n            name, \n            lat, \n            lng, \n            v['venue']['name'], \n            v['venue']['location']['lat'], \n            v['venue']['location']['lng'],  \n            v['venue']['categories'][0]['name']) for v in results])\n\n    nearby_venues = pd.DataFrame([item for venue_list in venues_list for item in venue_list])\n    nearby_venues.columns = ['Code', \n                  'Code Latitude', \n                  'Code Longitude', \n                  'Venue', \n                  'Venue Latitude', \n                  'Venue Longitude', \n                  'Venue Category']\n    \n    return(nearby_venues)"
        },
        {
            "cell_type": "code",
            "execution_count": 89,
            "metadata": {},
            "outputs": [],
            "source": "northyork_venues = getNearbyVenues(names=northyork_df[\"Postal Code\"], \n                                   latitudes=northyork_df[\"Latitude\"],\n                                  longitudes=northyork_df[\"Longitude\"],\n                                  )"
        },
        {
            "cell_type": "code",
            "execution_count": 90,
            "metadata": {},
            "outputs": [
                {
                    "name": "stdout",
                    "output_type": "stream",
                    "text": "(202, 7)\n"
                },
                {
                    "data": {
                        "text/html": "<div>\n<style scoped>\n    .dataframe tbody tr th:only-of-type {\n        vertical-align: middle;\n    }\n\n    .dataframe tbody tr th {\n        vertical-align: top;\n    }\n\n    .dataframe thead th {\n        text-align: right;\n    }\n</style>\n<table border=\"1\" class=\"dataframe\">\n  <thead>\n    <tr style=\"text-align: right;\">\n      <th></th>\n      <th>Code</th>\n      <th>Code Latitude</th>\n      <th>Code Longitude</th>\n      <th>Venue</th>\n      <th>Venue Latitude</th>\n      <th>Venue Longitude</th>\n      <th>Venue Category</th>\n    </tr>\n  </thead>\n  <tbody>\n    <tr>\n      <th>0</th>\n      <td>M3A</td>\n      <td>43.753259</td>\n      <td>-79.329656</td>\n      <td>Brookbanks Park</td>\n      <td>43.751976</td>\n      <td>-79.332140</td>\n      <td>Park</td>\n    </tr>\n    <tr>\n      <th>1</th>\n      <td>M3A</td>\n      <td>43.753259</td>\n      <td>-79.329656</td>\n      <td>Variety Store</td>\n      <td>43.751974</td>\n      <td>-79.333114</td>\n      <td>Food &amp; Drink Shop</td>\n    </tr>\n    <tr>\n      <th>2</th>\n      <td>M4A</td>\n      <td>43.725882</td>\n      <td>-79.315572</td>\n      <td>Victoria Village Arena</td>\n      <td>43.723481</td>\n      <td>-79.315635</td>\n      <td>Hockey Arena</td>\n    </tr>\n    <tr>\n      <th>3</th>\n      <td>M4A</td>\n      <td>43.725882</td>\n      <td>-79.315572</td>\n      <td>Portugril</td>\n      <td>43.725819</td>\n      <td>-79.312785</td>\n      <td>Portuguese Restaurant</td>\n    </tr>\n    <tr>\n      <th>4</th>\n      <td>M4A</td>\n      <td>43.725882</td>\n      <td>-79.315572</td>\n      <td>Tim Hortons</td>\n      <td>43.725517</td>\n      <td>-79.313103</td>\n      <td>Coffee Shop</td>\n    </tr>\n  </tbody>\n</table>\n</div>",
                        "text/plain": "  Code  Code Latitude  Code Longitude                   Venue  Venue Latitude  \\\n0  M3A      43.753259      -79.329656         Brookbanks Park       43.751976   \n1  M3A      43.753259      -79.329656           Variety Store       43.751974   \n2  M4A      43.725882      -79.315572  Victoria Village Arena       43.723481   \n3  M4A      43.725882      -79.315572               Portugril       43.725819   \n4  M4A      43.725882      -79.315572             Tim Hortons       43.725517   \n\n   Venue Longitude         Venue Category  \n0       -79.332140                   Park  \n1       -79.333114      Food & Drink Shop  \n2       -79.315635           Hockey Arena  \n3       -79.312785  Portuguese Restaurant  \n4       -79.313103            Coffee Shop  "
                    },
                    "execution_count": 90,
                    "metadata": {},
                    "output_type": "execute_result"
                }
            ],
            "source": "print(northyork_venues.shape)\nnorthyork_venues.head()"
        },
        {
            "cell_type": "code",
            "execution_count": 104,
            "metadata": {},
            "outputs": [
                {
                    "data": {
                        "text/html": "<div>\n<style scoped>\n    .dataframe tbody tr th:only-of-type {\n        vertical-align: middle;\n    }\n\n    .dataframe tbody tr th {\n        vertical-align: top;\n    }\n\n    .dataframe thead th {\n        text-align: right;\n    }\n</style>\n<table border=\"1\" class=\"dataframe\">\n  <thead>\n    <tr style=\"text-align: right;\">\n      <th></th>\n      <th>Code Latitude</th>\n      <th>Code Longitude</th>\n      <th>Venue</th>\n      <th>Venue Latitude</th>\n      <th>Venue Longitude</th>\n      <th>Venue Category</th>\n    </tr>\n    <tr>\n      <th>Code</th>\n      <th></th>\n      <th></th>\n      <th></th>\n      <th></th>\n      <th></th>\n      <th></th>\n    </tr>\n  </thead>\n  <tbody>\n    <tr>\n      <th>M2H</th>\n      <td>6</td>\n      <td>6</td>\n      <td>6</td>\n      <td>6</td>\n      <td>6</td>\n      <td>6</td>\n    </tr>\n    <tr>\n      <th>M2J</th>\n      <td>30</td>\n      <td>30</td>\n      <td>30</td>\n      <td>30</td>\n      <td>30</td>\n      <td>30</td>\n    </tr>\n    <tr>\n      <th>M2K</th>\n      <td>4</td>\n      <td>4</td>\n      <td>4</td>\n      <td>4</td>\n      <td>4</td>\n      <td>4</td>\n    </tr>\n    <tr>\n      <th>M2M</th>\n      <td>1</td>\n      <td>1</td>\n      <td>1</td>\n      <td>1</td>\n      <td>1</td>\n      <td>1</td>\n    </tr>\n    <tr>\n      <th>M2N</th>\n      <td>30</td>\n      <td>30</td>\n      <td>30</td>\n      <td>30</td>\n      <td>30</td>\n      <td>30</td>\n    </tr>\n    <tr>\n      <th>M2P</th>\n      <td>4</td>\n      <td>4</td>\n      <td>4</td>\n      <td>4</td>\n      <td>4</td>\n      <td>4</td>\n    </tr>\n    <tr>\n      <th>M2R</th>\n      <td>5</td>\n      <td>5</td>\n      <td>5</td>\n      <td>5</td>\n      <td>5</td>\n      <td>5</td>\n    </tr>\n    <tr>\n      <th>M3A</th>\n      <td>2</td>\n      <td>2</td>\n      <td>2</td>\n      <td>2</td>\n      <td>2</td>\n      <td>2</td>\n    </tr>\n    <tr>\n      <th>M3B</th>\n      <td>4</td>\n      <td>4</td>\n      <td>4</td>\n      <td>4</td>\n      <td>4</td>\n      <td>4</td>\n    </tr>\n    <tr>\n      <th>M3C</th>\n      <td>20</td>\n      <td>20</td>\n      <td>20</td>\n      <td>20</td>\n      <td>20</td>\n      <td>20</td>\n    </tr>\n    <tr>\n      <th>M3H</th>\n      <td>20</td>\n      <td>20</td>\n      <td>20</td>\n      <td>20</td>\n      <td>20</td>\n      <td>20</td>\n    </tr>\n    <tr>\n      <th>M3J</th>\n      <td>7</td>\n      <td>7</td>\n      <td>7</td>\n      <td>7</td>\n      <td>7</td>\n      <td>7</td>\n    </tr>\n    <tr>\n      <th>M3K</th>\n      <td>4</td>\n      <td>4</td>\n      <td>4</td>\n      <td>4</td>\n      <td>4</td>\n      <td>4</td>\n    </tr>\n    <tr>\n      <th>M3L</th>\n      <td>5</td>\n      <td>5</td>\n      <td>5</td>\n      <td>5</td>\n      <td>5</td>\n      <td>5</td>\n    </tr>\n    <tr>\n      <th>M3M</th>\n      <td>3</td>\n      <td>3</td>\n      <td>3</td>\n      <td>3</td>\n      <td>3</td>\n      <td>3</td>\n    </tr>\n    <tr>\n      <th>M3N</th>\n      <td>4</td>\n      <td>4</td>\n      <td>4</td>\n      <td>4</td>\n      <td>4</td>\n      <td>4</td>\n    </tr>\n    <tr>\n      <th>M4A</th>\n      <td>4</td>\n      <td>4</td>\n      <td>4</td>\n      <td>4</td>\n      <td>4</td>\n      <td>4</td>\n    </tr>\n    <tr>\n      <th>M5M</th>\n      <td>23</td>\n      <td>23</td>\n      <td>23</td>\n      <td>23</td>\n      <td>23</td>\n      <td>23</td>\n    </tr>\n    <tr>\n      <th>M6A</th>\n      <td>12</td>\n      <td>12</td>\n      <td>12</td>\n      <td>12</td>\n      <td>12</td>\n      <td>12</td>\n    </tr>\n    <tr>\n      <th>M6B</th>\n      <td>5</td>\n      <td>5</td>\n      <td>5</td>\n      <td>5</td>\n      <td>5</td>\n      <td>5</td>\n    </tr>\n    <tr>\n      <th>M6L</th>\n      <td>5</td>\n      <td>5</td>\n      <td>5</td>\n      <td>5</td>\n      <td>5</td>\n      <td>5</td>\n    </tr>\n    <tr>\n      <th>M9L</th>\n      <td>3</td>\n      <td>3</td>\n      <td>3</td>\n      <td>3</td>\n      <td>3</td>\n      <td>3</td>\n    </tr>\n    <tr>\n      <th>M9M</th>\n      <td>1</td>\n      <td>1</td>\n      <td>1</td>\n      <td>1</td>\n      <td>1</td>\n      <td>1</td>\n    </tr>\n  </tbody>\n</table>\n</div>",
                        "text/plain": "      Code Latitude  Code Longitude  Venue  Venue Latitude  Venue Longitude  \\\nCode                                                                          \nM2H               6               6      6               6                6   \nM2J              30              30     30              30               30   \nM2K               4               4      4               4                4   \nM2M               1               1      1               1                1   \nM2N              30              30     30              30               30   \nM2P               4               4      4               4                4   \nM2R               5               5      5               5                5   \nM3A               2               2      2               2                2   \nM3B               4               4      4               4                4   \nM3C              20              20     20              20               20   \nM3H              20              20     20              20               20   \nM3J               7               7      7               7                7   \nM3K               4               4      4               4                4   \nM3L               5               5      5               5                5   \nM3M               3               3      3               3                3   \nM3N               4               4      4               4                4   \nM4A               4               4      4               4                4   \nM5M              23              23     23              23               23   \nM6A              12              12     12              12               12   \nM6B               5               5      5               5                5   \nM6L               5               5      5               5                5   \nM9L               3               3      3               3                3   \nM9M               1               1      1               1                1   \n\n      Venue Category  \nCode                  \nM2H                6  \nM2J               30  \nM2K                4  \nM2M                1  \nM2N               30  \nM2P                4  \nM2R                5  \nM3A                2  \nM3B                4  \nM3C               20  \nM3H               20  \nM3J                7  \nM3K                4  \nM3L                5  \nM3M                3  \nM3N                4  \nM4A                4  \nM5M               23  \nM6A               12  \nM6B                5  \nM6L                5  \nM9L                3  \nM9M                1  "
                    },
                    "execution_count": 104,
                    "metadata": {},
                    "output_type": "execute_result"
                }
            ],
            "source": "northyork_venues.groupby('Code').count().head()"
        },
        {
            "cell_type": "markdown",
            "metadata": {},
            "source": "How many unique venue categories are there?"
        },
        {
            "cell_type": "code",
            "execution_count": 94,
            "metadata": {},
            "outputs": [
                {
                    "data": {
                        "text/plain": "91"
                    },
                    "execution_count": 94,
                    "metadata": {},
                    "output_type": "execute_result"
                }
            ],
            "source": "len(northyork_venues['Venue Category'].unique())"
        },
        {
            "cell_type": "markdown",
            "metadata": {},
            "source": "North York seems to have far fewer types of venues (91) than Manhatten does (329).  \n\nI'm going to one-hot encode the venue types for each neighbourhood."
        },
        {
            "cell_type": "code",
            "execution_count": 95,
            "metadata": {},
            "outputs": [
                {
                    "data": {
                        "text/html": "<div>\n<style scoped>\n    .dataframe tbody tr th:only-of-type {\n        vertical-align: middle;\n    }\n\n    .dataframe tbody tr th {\n        vertical-align: top;\n    }\n\n    .dataframe thead th {\n        text-align: right;\n    }\n</style>\n<table border=\"1\" class=\"dataframe\">\n  <thead>\n    <tr style=\"text-align: right;\">\n      <th></th>\n      <th>Postal Code</th>\n      <th>Accessories Store</th>\n      <th>Airport</th>\n      <th>American Restaurant</th>\n      <th>Art Gallery</th>\n      <th>Arts &amp; Crafts Store</th>\n      <th>Asian Restaurant</th>\n      <th>Athletics &amp; Sports</th>\n      <th>Bakery</th>\n      <th>Bank</th>\n      <th>...</th>\n      <th>Sporting Goods Shop</th>\n      <th>Steakhouse</th>\n      <th>Supermarket</th>\n      <th>Sushi Restaurant</th>\n      <th>Thai Restaurant</th>\n      <th>Theater</th>\n      <th>Toy / Game Store</th>\n      <th>Trail</th>\n      <th>Video Game Store</th>\n      <th>Vietnamese Restaurant</th>\n    </tr>\n  </thead>\n  <tbody>\n    <tr>\n      <th>0</th>\n      <td>M3A</td>\n      <td>0</td>\n      <td>0</td>\n      <td>0</td>\n      <td>0</td>\n      <td>0</td>\n      <td>0</td>\n      <td>0</td>\n      <td>0</td>\n      <td>0</td>\n      <td>...</td>\n      <td>0</td>\n      <td>0</td>\n      <td>0</td>\n      <td>0</td>\n      <td>0</td>\n      <td>0</td>\n      <td>0</td>\n      <td>0</td>\n      <td>0</td>\n      <td>0</td>\n    </tr>\n    <tr>\n      <th>1</th>\n      <td>M3A</td>\n      <td>0</td>\n      <td>0</td>\n      <td>0</td>\n      <td>0</td>\n      <td>0</td>\n      <td>0</td>\n      <td>0</td>\n      <td>0</td>\n      <td>0</td>\n      <td>...</td>\n      <td>0</td>\n      <td>0</td>\n      <td>0</td>\n      <td>0</td>\n      <td>0</td>\n      <td>0</td>\n      <td>0</td>\n      <td>0</td>\n      <td>0</td>\n      <td>0</td>\n    </tr>\n    <tr>\n      <th>2</th>\n      <td>M4A</td>\n      <td>0</td>\n      <td>0</td>\n      <td>0</td>\n      <td>0</td>\n      <td>0</td>\n      <td>0</td>\n      <td>0</td>\n      <td>0</td>\n      <td>0</td>\n      <td>...</td>\n      <td>0</td>\n      <td>0</td>\n      <td>0</td>\n      <td>0</td>\n      <td>0</td>\n      <td>0</td>\n      <td>0</td>\n      <td>0</td>\n      <td>0</td>\n      <td>0</td>\n    </tr>\n    <tr>\n      <th>3</th>\n      <td>M4A</td>\n      <td>0</td>\n      <td>0</td>\n      <td>0</td>\n      <td>0</td>\n      <td>0</td>\n      <td>0</td>\n      <td>0</td>\n      <td>0</td>\n      <td>0</td>\n      <td>...</td>\n      <td>0</td>\n      <td>0</td>\n      <td>0</td>\n      <td>0</td>\n      <td>0</td>\n      <td>0</td>\n      <td>0</td>\n      <td>0</td>\n      <td>0</td>\n      <td>0</td>\n    </tr>\n    <tr>\n      <th>4</th>\n      <td>M4A</td>\n      <td>0</td>\n      <td>0</td>\n      <td>0</td>\n      <td>0</td>\n      <td>0</td>\n      <td>0</td>\n      <td>0</td>\n      <td>0</td>\n      <td>0</td>\n      <td>...</td>\n      <td>0</td>\n      <td>0</td>\n      <td>0</td>\n      <td>0</td>\n      <td>0</td>\n      <td>0</td>\n      <td>0</td>\n      <td>0</td>\n      <td>0</td>\n      <td>0</td>\n    </tr>\n  </tbody>\n</table>\n<p>5 rows \u00d7 92 columns</p>\n</div>",
                        "text/plain": "  Postal Code  Accessories Store  Airport  American Restaurant  Art Gallery  \\\n0         M3A                  0        0                    0            0   \n1         M3A                  0        0                    0            0   \n2         M4A                  0        0                    0            0   \n3         M4A                  0        0                    0            0   \n4         M4A                  0        0                    0            0   \n\n   Arts & Crafts Store  Asian Restaurant  Athletics & Sports  Bakery  Bank  \\\n0                    0                 0                   0       0     0   \n1                    0                 0                   0       0     0   \n2                    0                 0                   0       0     0   \n3                    0                 0                   0       0     0   \n4                    0                 0                   0       0     0   \n\n   ...  Sporting Goods Shop  Steakhouse  Supermarket  Sushi Restaurant  \\\n0  ...                    0           0            0                 0   \n1  ...                    0           0            0                 0   \n2  ...                    0           0            0                 0   \n3  ...                    0           0            0                 0   \n4  ...                    0           0            0                 0   \n\n   Thai Restaurant  Theater  Toy / Game Store  Trail  Video Game Store  \\\n0                0        0                 0      0                 0   \n1                0        0                 0      0                 0   \n2                0        0                 0      0                 0   \n3                0        0                 0      0                 0   \n4                0        0                 0      0                 0   \n\n   Vietnamese Restaurant  \n0                      0  \n1                      0  \n2                      0  \n3                      0  \n4                      0  \n\n[5 rows x 92 columns]"
                    },
                    "execution_count": 95,
                    "metadata": {},
                    "output_type": "execute_result"
                }
            ],
            "source": "northyork_onehot = pd.get_dummies(northyork_venues[[\"Venue Category\"]], prefix=\"\", prefix_sep=\"\")\n\nnorthyork_onehot['Postal Code'] = northyork_venues['Code']\nfixed_columns = [northyork_onehot.columns[-1]] + list(northyork_onehot.columns[:-1])\nnorthyork_onehot = northyork_onehot[fixed_columns]\n\nnorthyork_onehot.head()"
        },
        {
            "cell_type": "code",
            "execution_count": 118,
            "metadata": {},
            "outputs": [
                {
                    "data": {
                        "text/html": "<div>\n<style scoped>\n    .dataframe tbody tr th:only-of-type {\n        vertical-align: middle;\n    }\n\n    .dataframe tbody tr th {\n        vertical-align: top;\n    }\n\n    .dataframe thead th {\n        text-align: right;\n    }\n</style>\n<table border=\"1\" class=\"dataframe\">\n  <thead>\n    <tr style=\"text-align: right;\">\n      <th></th>\n      <th>Postal Code</th>\n      <th>Accessories Store</th>\n      <th>Airport</th>\n      <th>American Restaurant</th>\n      <th>Art Gallery</th>\n      <th>Arts &amp; Crafts Store</th>\n      <th>Asian Restaurant</th>\n      <th>Athletics &amp; Sports</th>\n      <th>Bakery</th>\n      <th>Bank</th>\n      <th>...</th>\n      <th>Sporting Goods Shop</th>\n      <th>Steakhouse</th>\n      <th>Supermarket</th>\n      <th>Sushi Restaurant</th>\n      <th>Thai Restaurant</th>\n      <th>Theater</th>\n      <th>Toy / Game Store</th>\n      <th>Trail</th>\n      <th>Video Game Store</th>\n      <th>Vietnamese Restaurant</th>\n    </tr>\n  </thead>\n  <tbody>\n    <tr>\n      <th>0</th>\n      <td>M2H</td>\n      <td>0.0</td>\n      <td>0.0</td>\n      <td>0.000000</td>\n      <td>0.0</td>\n      <td>0.000000</td>\n      <td>0.0</td>\n      <td>0.166667</td>\n      <td>0.000000</td>\n      <td>0.000000</td>\n      <td>...</td>\n      <td>0.0</td>\n      <td>0.000000</td>\n      <td>0.0</td>\n      <td>0.000000</td>\n      <td>0.0</td>\n      <td>0.000000</td>\n      <td>0.000000</td>\n      <td>0.0</td>\n      <td>0.000000</td>\n      <td>0.000000</td>\n    </tr>\n    <tr>\n      <th>1</th>\n      <td>M2J</td>\n      <td>0.0</td>\n      <td>0.0</td>\n      <td>0.033333</td>\n      <td>0.0</td>\n      <td>0.000000</td>\n      <td>0.0</td>\n      <td>0.000000</td>\n      <td>0.033333</td>\n      <td>0.066667</td>\n      <td>...</td>\n      <td>0.0</td>\n      <td>0.000000</td>\n      <td>0.0</td>\n      <td>0.000000</td>\n      <td>0.0</td>\n      <td>0.033333</td>\n      <td>0.033333</td>\n      <td>0.0</td>\n      <td>0.033333</td>\n      <td>0.000000</td>\n    </tr>\n    <tr>\n      <th>2</th>\n      <td>M2K</td>\n      <td>0.0</td>\n      <td>0.0</td>\n      <td>0.000000</td>\n      <td>0.0</td>\n      <td>0.000000</td>\n      <td>0.0</td>\n      <td>0.000000</td>\n      <td>0.000000</td>\n      <td>0.250000</td>\n      <td>...</td>\n      <td>0.0</td>\n      <td>0.000000</td>\n      <td>0.0</td>\n      <td>0.000000</td>\n      <td>0.0</td>\n      <td>0.000000</td>\n      <td>0.000000</td>\n      <td>0.0</td>\n      <td>0.000000</td>\n      <td>0.000000</td>\n    </tr>\n    <tr>\n      <th>3</th>\n      <td>M2M</td>\n      <td>0.0</td>\n      <td>0.0</td>\n      <td>0.000000</td>\n      <td>0.0</td>\n      <td>0.000000</td>\n      <td>0.0</td>\n      <td>0.000000</td>\n      <td>0.000000</td>\n      <td>0.000000</td>\n      <td>...</td>\n      <td>0.0</td>\n      <td>0.000000</td>\n      <td>0.0</td>\n      <td>0.000000</td>\n      <td>0.0</td>\n      <td>0.000000</td>\n      <td>0.000000</td>\n      <td>0.0</td>\n      <td>0.000000</td>\n      <td>0.000000</td>\n    </tr>\n    <tr>\n      <th>4</th>\n      <td>M2N</td>\n      <td>0.0</td>\n      <td>0.0</td>\n      <td>0.000000</td>\n      <td>0.0</td>\n      <td>0.033333</td>\n      <td>0.0</td>\n      <td>0.000000</td>\n      <td>0.000000</td>\n      <td>0.033333</td>\n      <td>...</td>\n      <td>0.0</td>\n      <td>0.033333</td>\n      <td>0.0</td>\n      <td>0.033333</td>\n      <td>0.0</td>\n      <td>0.000000</td>\n      <td>0.000000</td>\n      <td>0.0</td>\n      <td>0.000000</td>\n      <td>0.033333</td>\n    </tr>\n  </tbody>\n</table>\n<p>5 rows \u00d7 92 columns</p>\n</div>",
                        "text/plain": "  Postal Code  Accessories Store  Airport  American Restaurant  Art Gallery  \\\n0         M2H                0.0      0.0             0.000000          0.0   \n1         M2J                0.0      0.0             0.033333          0.0   \n2         M2K                0.0      0.0             0.000000          0.0   \n3         M2M                0.0      0.0             0.000000          0.0   \n4         M2N                0.0      0.0             0.000000          0.0   \n\n   Arts & Crafts Store  Asian Restaurant  Athletics & Sports    Bakery  \\\n0             0.000000               0.0            0.166667  0.000000   \n1             0.000000               0.0            0.000000  0.033333   \n2             0.000000               0.0            0.000000  0.000000   \n3             0.000000               0.0            0.000000  0.000000   \n4             0.033333               0.0            0.000000  0.000000   \n\n       Bank  ...  Sporting Goods Shop  Steakhouse  Supermarket  \\\n0  0.000000  ...                  0.0    0.000000          0.0   \n1  0.066667  ...                  0.0    0.000000          0.0   \n2  0.250000  ...                  0.0    0.000000          0.0   \n3  0.000000  ...                  0.0    0.000000          0.0   \n4  0.033333  ...                  0.0    0.033333          0.0   \n\n   Sushi Restaurant  Thai Restaurant   Theater  Toy / Game Store  Trail  \\\n0          0.000000              0.0  0.000000          0.000000    0.0   \n1          0.000000              0.0  0.033333          0.033333    0.0   \n2          0.000000              0.0  0.000000          0.000000    0.0   \n3          0.000000              0.0  0.000000          0.000000    0.0   \n4          0.033333              0.0  0.000000          0.000000    0.0   \n\n   Video Game Store  Vietnamese Restaurant  \n0          0.000000               0.000000  \n1          0.033333               0.000000  \n2          0.000000               0.000000  \n3          0.000000               0.000000  \n4          0.000000               0.033333  \n\n[5 rows x 92 columns]"
                    },
                    "execution_count": 118,
                    "metadata": {},
                    "output_type": "execute_result"
                }
            ],
            "source": "northyork_grouped = northyork_onehot.groupby(\"Postal Code\").mean().reset_index()\nnorthyork_grouped.head()"
        },
        {
            "cell_type": "markdown",
            "metadata": {},
            "source": "Double-click and run this cell to get top n venues in each Postal Code\n\n<!--\nnum_top_venues = 5\n\nfor hood in manhattan_grouped['Neighborhood']:\n    print(\"----\"+hood+\"----\")\n    temp = manhattan_grouped[manhattan_grouped['Neighborhood'] == hood].T.reset_index()\n    temp.columns = ['venue','freq']\n    temp = temp.iloc[1:]\n    temp['freq'] = temp['freq'].astype(float)\n    temp = temp.round({'freq': 2})\n    print(temp.sort_values('freq', ascending=False).reset_index(drop=True).head(num_top_venues))\n    print('\\n') -->"
        },
        {
            "cell_type": "markdown",
            "metadata": {},
            "source": "Now I'll cluster the neighbourhoords by venue type frequency. "
        },
        {
            "cell_type": "code",
            "execution_count": 101,
            "metadata": {},
            "outputs": [
                {
                    "name": "stdout",
                    "output_type": "stream",
                    "text": "23\n"
                },
                {
                    "data": {
                        "text/plain": "array([0, 0, 4, 2, 0, 0, 0, 2, 4, 0, 0, 0, 0, 0, 1, 0, 0, 0, 0, 0, 0, 0,\n       3], dtype=int32)"
                    },
                    "execution_count": 101,
                    "metadata": {},
                    "output_type": "execute_result"
                }
            ],
            "source": "kclusters = 5\n\nnorthyork_grouped_clustering = northyork_grouped.drop('Postal Code', 1)\n\n# run k-means clustering\nkmeans = KMeans(n_clusters=kclusters, random_state=0).fit(northyork_grouped_clustering)\n\n# check cluster labels generated for each row in the dataframe\nprint(len(kmeans.labels_))\nkmeans.labels_"
        },
        {
            "cell_type": "code",
            "execution_count": 117,
            "metadata": {},
            "outputs": [
                {
                    "name": "stderr",
                    "output_type": "stream",
                    "text": "/opt/conda/envs/Python-3.7-main/lib/python3.7/site-packages/ipykernel/__main__.py:3: SettingWithCopyWarning: \nA value is trying to be set on a copy of a slice from a DataFrame.\nTry using .loc[row_indexer,col_indexer] = value instead\n\nSee the caveats in the documentation: https://pandas.pydata.org/pandas-docs/stable/user_guide/indexing.html#returning-a-view-versus-a-copy\n  app.launch_new_instance()\n"
                },
                {
                    "data": {
                        "text/html": "<div>\n<style scoped>\n    .dataframe tbody tr th:only-of-type {\n        vertical-align: middle;\n    }\n\n    .dataframe tbody tr th {\n        vertical-align: top;\n    }\n\n    .dataframe thead th {\n        text-align: right;\n    }\n</style>\n<table border=\"1\" class=\"dataframe\">\n  <thead>\n    <tr style=\"text-align: right;\">\n      <th></th>\n      <th>Postal Code</th>\n      <th>K-Means labels</th>\n    </tr>\n  </thead>\n  <tbody>\n    <tr>\n      <th>0</th>\n      <td>M2H</td>\n      <td>0</td>\n    </tr>\n    <tr>\n      <th>1</th>\n      <td>M2J</td>\n      <td>0</td>\n    </tr>\n    <tr>\n      <th>2</th>\n      <td>M2K</td>\n      <td>4</td>\n    </tr>\n    <tr>\n      <th>3</th>\n      <td>M2M</td>\n      <td>2</td>\n    </tr>\n    <tr>\n      <th>4</th>\n      <td>M2N</td>\n      <td>0</td>\n    </tr>\n    <tr>\n      <th>5</th>\n      <td>M2P</td>\n      <td>0</td>\n    </tr>\n    <tr>\n      <th>6</th>\n      <td>M2R</td>\n      <td>0</td>\n    </tr>\n    <tr>\n      <th>7</th>\n      <td>M3A</td>\n      <td>2</td>\n    </tr>\n    <tr>\n      <th>8</th>\n      <td>M3B</td>\n      <td>4</td>\n    </tr>\n    <tr>\n      <th>9</th>\n      <td>M3C</td>\n      <td>0</td>\n    </tr>\n    <tr>\n      <th>10</th>\n      <td>M3H</td>\n      <td>0</td>\n    </tr>\n    <tr>\n      <th>11</th>\n      <td>M3J</td>\n      <td>0</td>\n    </tr>\n    <tr>\n      <th>12</th>\n      <td>M3K</td>\n      <td>0</td>\n    </tr>\n    <tr>\n      <th>13</th>\n      <td>M3L</td>\n      <td>0</td>\n    </tr>\n    <tr>\n      <th>14</th>\n      <td>M3M</td>\n      <td>1</td>\n    </tr>\n    <tr>\n      <th>15</th>\n      <td>M3N</td>\n      <td>0</td>\n    </tr>\n    <tr>\n      <th>16</th>\n      <td>M4A</td>\n      <td>0</td>\n    </tr>\n    <tr>\n      <th>17</th>\n      <td>M5M</td>\n      <td>0</td>\n    </tr>\n    <tr>\n      <th>18</th>\n      <td>M6A</td>\n      <td>0</td>\n    </tr>\n    <tr>\n      <th>19</th>\n      <td>M6B</td>\n      <td>0</td>\n    </tr>\n    <tr>\n      <th>20</th>\n      <td>M6L</td>\n      <td>0</td>\n    </tr>\n    <tr>\n      <th>21</th>\n      <td>M9L</td>\n      <td>0</td>\n    </tr>\n    <tr>\n      <th>22</th>\n      <td>M9M</td>\n      <td>3</td>\n    </tr>\n  </tbody>\n</table>\n</div>",
                        "text/plain": "   Postal Code  K-Means labels\n0          M2H               0\n1          M2J               0\n2          M2K               4\n3          M2M               2\n4          M2N               0\n5          M2P               0\n6          M2R               0\n7          M3A               2\n8          M3B               4\n9          M3C               0\n10         M3H               0\n11         M3J               0\n12         M3K               0\n13         M3L               0\n14         M3M               1\n15         M3N               0\n16         M4A               0\n17         M5M               0\n18         M6A               0\n19         M6B               0\n20         M6L               0\n21         M9L               0\n22         M9M               3"
                    },
                    "execution_count": 117,
                    "metadata": {},
                    "output_type": "execute_result"
                }
            ],
            "source": "#pd.DataFrame(data=kmeans.labels_,index = [0:23],columns = \"K-Means label\")\nclustered_df = northyork_grouped[[\"Postal Code\"]]\nclustered_df[\"K-Means labels\"]=kmeans.labels_.tolist()\nclustered_df"
        },
        {
            "cell_type": "code",
            "execution_count": null,
            "metadata": {},
            "outputs": [],
            "source": ""
        }
    ],
    "metadata": {
        "kernelspec": {
            "display_name": "Python 3.7",
            "language": "python",
            "name": "python3"
        },
        "language_info": {
            "codemirror_mode": {
                "name": "ipython",
                "version": 3
            },
            "file_extension": ".py",
            "mimetype": "text/x-python",
            "name": "python",
            "nbconvert_exporter": "python",
            "pygments_lexer": "ipython3",
            "version": "3.7.9"
        }
    },
    "nbformat": 4,
    "nbformat_minor": 1
}